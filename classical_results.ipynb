{
 "cells": [
  {
   "attachments": {},
   "cell_type": "markdown",
   "metadata": {},
   "source": [
    "# Classical results\n",
    "---\n",
    "In this notebook, we obtain states of spin networks by contractions of tensors, using package ```tensornetwork```. Results of this method are used to verify fidelity of states obtained using qunatum methods.\n",
    "\n",
    "All names used in this notebook are the same as in the  article and all references are refrences to the article."
   ]
  },
  {
   "cell_type": "code",
   "execution_count": 1,
   "metadata": {},
   "outputs": [],
   "source": [
    "import tensornetwork as tn\n",
    "import numpy as np"
   ]
  },
  {
   "attachments": {},
   "cell_type": "markdown",
   "metadata": {},
   "source": [
    "We define tensor representing node $\\iota_k^{m_1m_2m_3m_4}$, which, in our case of spins $\\frac{1}{2}$, has shape $2\\times2\\times2\\times2\\times2$."
   ]
  },
  {
   "cell_type": "code",
   "execution_count": 2,
   "metadata": {},
   "outputs": [],
   "source": [
    "iota = np.array([[[[[ 0.        ,  0.        ],\n",
    "                    [ 0.        ,  0.        ]],\n",
    "                   \n",
    "                   [[ 0.        ,  0.5       ],\n",
    "                    [-0.5       ,  0.        ]]],\n",
    "\n",
    "                  [[[ 0.        , -0.5       ],\n",
    "                    [ 0.5       ,  0.        ]],\n",
    "\n",
    "                   [[ 0.        ,  0.        ],\n",
    "                    [ 0.        ,  0.        ]]]],\n",
    "\n",
    "                 [[[[ 0.        ,  0.        ],\n",
    "                    [ 0.        ,  0.57735027]],\n",
    "\n",
    "                   [[ 0.        , -0.28867513],\n",
    "                    [-0.28867513,  0.        ]]],\n",
    "\n",
    "                  [[[ 0.        , -0.28867513],\n",
    "                    [-0.28867513,  0.        ]],\n",
    "\n",
    "                   [[ 0.57735027,  0.        ],\n",
    "                    [ 0.        ,  0.        ]]]]])"
   ]
  },
  {
   "attachments": {},
   "cell_type": "markdown",
   "metadata": {},
   "source": [
    "We define also tensor representing state of link $\\alpha_{m_1m_2}$. In our case, singlet state $\\frac{1}{\\sqrt{2}}\\left(|01\\rangle-|10\\rangle\\right)$."
   ]
  },
  {
   "cell_type": "code",
   "execution_count": 3,
   "metadata": {},
   "outputs": [],
   "source": [
    "link = np.array([0,1/np.sqrt(2),-1/np.sqrt(2),0]).reshape((2,2))"
   ]
  },
  {
   "cell_type": "code",
   "execution_count": 4,
   "metadata": {},
   "outputs": [],
   "source": [
    "def norm(state):\n",
    "    '''Return normalized state'''\n",
    "    state_conj = tn.replicate_nodes([state], conjugate=True)[0]\n",
    "    for i in range(len(state.edges)):\n",
    "        state.edges[i]^state_conj.edges[i]\n",
    "    n = tn.contractors.auto([state, state_conj]).tensor\n",
    "    state.tensor = state.tensor/np.sqrt(n)\n",
    "    return state"
   ]
  },
  {
   "cell_type": "markdown",
   "metadata": {},
   "source": [
    "# Open node"
   ]
  },
  {
   "attachments": {},
   "cell_type": "markdown",
   "metadata": {},
   "source": [
    "Construction of node with four free links\n",
    "\n",
    "$$\\left(\\Gamma_2'\\right)_{km_1'm_2'm_3'm_4'}=\\iota_k^{m_1m_2m_3m_4}\\alpha_{m_1m_1'}\\alpha_{m_2m_2'}\\alpha_{m_3m_3'}\\alpha_{m_4m_4'}$$"
   ]
  },
  {
   "cell_type": "code",
   "execution_count": 5,
   "metadata": {},
   "outputs": [
    {
     "data": {
      "text/plain": [
       "array([ 0.        ,  0.        ,  0.        ,  0.        ,  0.        ,\n",
       "        0.35355339, -0.35355339,  0.        ,  0.        , -0.35355339,\n",
       "        0.35355339,  0.        ,  0.        ,  0.        ,  0.        ,\n",
       "        0.        ,  0.        ,  0.        ,  0.        ,  0.40824829,\n",
       "        0.        , -0.20412414, -0.20412414,  0.        ,  0.        ,\n",
       "       -0.20412414, -0.20412414,  0.        ,  0.40824829,  0.        ,\n",
       "        0.        ,  0.        ])"
      ]
     },
     "execution_count": 5,
     "metadata": {},
     "output_type": "execute_result"
    }
   ],
   "source": [
    "node = tn.Node(iota)\n",
    "links = [tn.Node(link) for i in range(4)]\n",
    "node[1]^links[0][0]\n",
    "node[2]^links[1][0]\n",
    "node[3]^links[2][0]\n",
    "node[4]^links[3][0]\n",
    "state = tn.contractors.auto([node]+links, output_edge_order=[node[0]]+[l[1] for l in links])\n",
    "state_open_node = norm(state)\n",
    "state_open_node.tensor.reshape(2**5)"
   ]
  },
  {
   "attachments": {},
   "cell_type": "markdown",
   "metadata": {},
   "source": [
    "# Pentagram from open node"
   ]
  },
  {
   "attachments": {},
   "cell_type": "markdown",
   "metadata": {},
   "source": [
    "Construction of pentagram using open node and six links:\n",
    "\n",
    "$$\n",
    "\\left(\\Gamma_5\\right)_{kk_1k_2k_3k_4}=\n",
    "\\left(\\Gamma_2'\\right)_{km_1n_1s_1t_1}\n",
    "\n",
    "\\iota_{k_1}^{m_1m_2m_3m_4}\n",
    "\\iota_{k_2}^{n_1n_2n_3n_4}\n",
    "\\iota_{k_3}^{s_1s_2s_3s_4}\n",
    "\\iota_{k_4}^{t_1t_2t_3t_4}\n",
    "              \n",
    "\\alpha_{m_2n_2}\n",
    "\\alpha_{s_4t_4}\n",
    "\\alpha_{m_4t_2}\n",
    "\\alpha_{n_3s_3}\n",
    "\\alpha_{m_3s_2}\n",
    "\\alpha_{n_4t_3}\n",
    "$$"
   ]
  },
  {
   "cell_type": "code",
   "execution_count": 6,
   "metadata": {},
   "outputs": [
    {
     "data": {
      "text/plain": [
       "array([ 4.00891867e-01, -1.11486036e-35,  7.81587279e-37,  4.00891864e-01,\n",
       "        7.81587279e-37,  4.48979726e-19,  4.48979726e-19, -4.77709577e-18,\n",
       "        5.38916155e-18,  4.18505096e-35, -9.71014669e-35, -3.46500427e-18,\n",
       "       -9.71014669e-35, -2.31455024e-01, -2.31455024e-01,  2.67261240e-01,\n",
       "        1.55034890e-18, -1.59249446e-35,  5.93080351e-36, -1.48171862e-18,\n",
       "        5.93080351e-36, -2.31455024e-01, -2.31455024e-01, -2.67261240e-01,\n",
       "        4.00891864e-01,  1.09472937e-34,  5.59334602e-35, -1.33630620e-01,\n",
       "        1.10528443e-34, -2.67261240e-01,  2.67261240e-01, -5.69100531e-19])"
      ]
     },
     "execution_count": 6,
     "metadata": {},
     "output_type": "execute_result"
    }
   ],
   "source": [
    "links = [tn.Node(link) for i in range(6)]\n",
    "\n",
    "n=[]\n",
    "for i in range(4):\n",
    "    n.append(tn.Node(iota, name='N'+str(i)))\n",
    "\n",
    "state_open_node[1]^n[0][1]\n",
    "state_open_node[2]^n[1][1]\n",
    "state_open_node[3]^n[2][1]\n",
    "state_open_node[4]^n[3][1]\n",
    "\n",
    "links[0][0]^n[0][2]\n",
    "links[0][1]^n[1][2]\n",
    "\n",
    "links[4][0]^n[0][3]\n",
    "links[4][1]^n[2][2]\n",
    "\n",
    "links[2][0]^n[0][4]\n",
    "links[2][1]^n[3][2]\n",
    "\n",
    "links[3][0]^n[1][3]\n",
    "links[3][1]^n[2][3]\n",
    "\n",
    "links[5][0]^n[1][4]\n",
    "links[5][1]^n[3][3]\n",
    "\n",
    "links[1][0]^n[2][4]\n",
    "links[1][1]^n[3][4]\n",
    "\n",
    "state = tn.contractors.auto([state_open_node]+n+links, output_edge_order=[state_open_node[0],n[0][0],n[1][0],n[2][0],n[3][0]])\n",
    "state_pentagram = norm(state)\n",
    "state_pentagram.tensor.reshape(2**5)"
   ]
  },
  {
   "attachments": {},
   "cell_type": "markdown",
   "metadata": {},
   "source": [
    "# Open pentagram"
   ]
  },
  {
   "cell_type": "code",
   "execution_count": 7,
   "metadata": {},
   "outputs": [],
   "source": [
    "N = 5\n",
    "pentagram_links = [[0,4],[1,8],[2,12],[3,16],[5,9],[6,13],[7,17],[10,14],[11,18],[15,19]]\n",
    "link_states = [np.array([0,1/np.sqrt(2),-1/np.sqrt(2),0]).reshape((2,2)) for i in range(2*N)]\n",
    "\n",
    "n=[]\n",
    "for i in range(4):\n",
    "    n.append(tn.Node(iota, name='N'+str(i)))\n",
    "    \n",
    "l=[]\n",
    "for link in link_states:\n",
    "    l.append(tn.Node(link, name='L'+str(i)))\n",
    "    \n",
    "for i,(p,q) in enumerate(pentagram_links):\n",
    "    n[p//4][p%4+1]^l[i][0]\n",
    "    if (q//4)<4:\n",
    "        l[i][1]^n[q//4][q%4+1]\n",
    "\n",
    "    \n",
    "state_open_pentagram = tn.contractors.auto(n+l, output_edge_order=[nn.edges[0] for nn in n]+[l[3].edges[1],l[6].edges[1],l[8].edges[1],l[9].edges[1]])\n",
    "state_open_pentagram = norm(state_open_pentagram)"
   ]
  },
  {
   "cell_type": "code",
   "execution_count": 8,
   "metadata": {},
   "outputs": [
    {
     "data": {
      "text/plain": [
       "array([ 0.00000000e+00,  0.00000000e+00,  0.00000000e+00,  0.00000000e+00,\n",
       "        0.00000000e+00,  2.00445933e-01, -2.00445933e-01,  0.00000000e+00,\n",
       "        0.00000000e+00, -2.00445933e-01,  2.00445933e-01,  0.00000000e+00,\n",
       "        0.00000000e+00,  0.00000000e+00,  0.00000000e+00,  0.00000000e+00,\n",
       "        0.00000000e+00,  0.00000000e+00,  0.00000000e+00,  2.31455027e-01,\n",
       "        0.00000000e+00, -1.15727512e-01, -1.15727512e-01,  0.00000000e+00,\n",
       "        0.00000000e+00, -1.15727512e-01, -1.15727512e-01,  0.00000000e+00,\n",
       "        2.31455027e-01,  0.00000000e+00,  0.00000000e+00,  0.00000000e+00,\n",
       "        0.00000000e+00,  0.00000000e+00,  0.00000000e+00,  0.00000000e+00,\n",
       "        0.00000000e+00, -2.98146682e-18, -2.98146682e-18,  0.00000000e+00,\n",
       "        0.00000000e+00,  2.98146682e-18,  2.98146682e-18,  0.00000000e+00,\n",
       "        0.00000000e+00,  0.00000000e+00,  0.00000000e+00,  0.00000000e+00,\n",
       "        0.00000000e+00,  0.00000000e+00,  0.00000000e+00,  2.08693648e-18,\n",
       "        0.00000000e+00,  1.83706729e-19, -1.83706729e-19,  0.00000000e+00,\n",
       "        0.00000000e+00,  1.83706729e-19, -1.83706729e-19,  0.00000000e+00,\n",
       "       -2.08693648e-18,  0.00000000e+00,  0.00000000e+00,  0.00000000e+00,\n",
       "        0.00000000e+00,  0.00000000e+00,  0.00000000e+00,  0.00000000e+00,\n",
       "        0.00000000e+00,  3.44270058e-18, -3.44270058e-18,  0.00000000e+00,\n",
       "        0.00000000e+00,  3.44270058e-18, -3.44270058e-18,  0.00000000e+00,\n",
       "        0.00000000e+00,  0.00000000e+00,  0.00000000e+00,  0.00000000e+00,\n",
       "        0.00000000e+00,  0.00000000e+00,  0.00000000e+00,  3.70899527e-18,\n",
       "        0.00000000e+00,  1.85449789e-18,  1.85449789e-18,  0.00000000e+00,\n",
       "        0.00000000e+00, -1.85449789e-18, -1.85449789e-18,  0.00000000e+00,\n",
       "       -3.70899527e-18,  0.00000000e+00,  0.00000000e+00,  0.00000000e+00,\n",
       "        0.00000000e+00,  0.00000000e+00,  0.00000000e+00, -1.33630622e-01,\n",
       "        0.00000000e+00,  6.68153089e-02,  6.68153089e-02,  0.00000000e+00,\n",
       "        0.00000000e+00,  6.68153089e-02,  6.68153089e-02,  0.00000000e+00,\n",
       "       -1.33630622e-01,  0.00000000e+00,  0.00000000e+00,  0.00000000e+00,\n",
       "        0.00000000e+00,  0.00000000e+00,  0.00000000e+00,  1.54303348e-01,\n",
       "        0.00000000e+00, -1.92879188e-01,  3.85758360e-02,  0.00000000e+00,\n",
       "        0.00000000e+00,  3.85758360e-02, -1.92879188e-01,  0.00000000e+00,\n",
       "        1.54303348e-01,  0.00000000e+00,  0.00000000e+00,  0.00000000e+00,\n",
       "        0.00000000e+00,  0.00000000e+00,  0.00000000e+00,  0.00000000e+00,\n",
       "        0.00000000e+00, -2.98146682e-18,  2.98146682e-18,  0.00000000e+00,\n",
       "        0.00000000e+00, -2.98146682e-18,  2.98146682e-18,  0.00000000e+00,\n",
       "        0.00000000e+00,  0.00000000e+00,  0.00000000e+00,  0.00000000e+00,\n",
       "        0.00000000e+00,  0.00000000e+00,  0.00000000e+00, -2.08693648e-18,\n",
       "        0.00000000e+00,  1.83706729e-19,  1.83706729e-19,  0.00000000e+00,\n",
       "        0.00000000e+00, -1.83706729e-19, -1.83706729e-19,  0.00000000e+00,\n",
       "        2.08693648e-18,  0.00000000e+00,  0.00000000e+00,  0.00000000e+00,\n",
       "        0.00000000e+00,  0.00000000e+00,  0.00000000e+00, -1.33630622e-01,\n",
       "        0.00000000e+00,  6.68153089e-02,  6.68153089e-02,  0.00000000e+00,\n",
       "        0.00000000e+00,  6.68153089e-02,  6.68153089e-02,  0.00000000e+00,\n",
       "       -1.33630622e-01,  0.00000000e+00,  0.00000000e+00,  0.00000000e+00,\n",
       "        0.00000000e+00,  0.00000000e+00,  0.00000000e+00, -1.54303348e-01,\n",
       "        0.00000000e+00, -3.85758360e-02,  1.92879188e-01,  0.00000000e+00,\n",
       "        0.00000000e+00,  1.92879188e-01, -3.85758360e-02,  0.00000000e+00,\n",
       "       -1.54303348e-01,  0.00000000e+00,  0.00000000e+00,  0.00000000e+00,\n",
       "        0.00000000e+00,  0.00000000e+00,  0.00000000e+00,  0.00000000e+00,\n",
       "        0.00000000e+00,  2.00445931e-01, -2.00445931e-01,  0.00000000e+00,\n",
       "        0.00000000e+00, -2.00445931e-01,  2.00445931e-01,  0.00000000e+00,\n",
       "        0.00000000e+00,  0.00000000e+00,  0.00000000e+00,  0.00000000e+00,\n",
       "        0.00000000e+00,  0.00000000e+00,  0.00000000e+00, -7.71516733e-02,\n",
       "        0.00000000e+00,  3.85758387e-02,  3.85758387e-02,  0.00000000e+00,\n",
       "        0.00000000e+00,  3.85758387e-02,  3.85758387e-02,  0.00000000e+00,\n",
       "       -7.71516733e-02,  0.00000000e+00,  0.00000000e+00,  0.00000000e+00,\n",
       "        0.00000000e+00,  0.00000000e+00,  0.00000000e+00, -1.54303349e-01,\n",
       "        0.00000000e+00,  7.71516746e-02,  7.71516746e-02,  0.00000000e+00,\n",
       "        0.00000000e+00,  7.71516746e-02,  7.71516746e-02,  0.00000000e+00,\n",
       "       -1.54303349e-01,  0.00000000e+00,  0.00000000e+00,  0.00000000e+00,\n",
       "        0.00000000e+00,  0.00000000e+00,  0.00000000e+00, -2.36269576e-18,\n",
       "        0.00000000e+00,  1.33630620e-01, -1.33630620e-01,  0.00000000e+00,\n",
       "        0.00000000e+00, -1.33630620e-01,  1.33630620e-01,  0.00000000e+00,\n",
       "        8.89778507e-19,  0.00000000e+00,  0.00000000e+00,  0.00000000e+00])"
      ]
     },
     "execution_count": 8,
     "metadata": {},
     "output_type": "execute_result"
    }
   ],
   "source": [
    "state_open_pentagram.tensor.reshape(2**8)"
   ]
  },
  {
   "cell_type": "markdown",
   "metadata": {},
   "source": [
    "# Dekagram"
   ]
  },
  {
   "cell_type": "code",
   "execution_count": 9,
   "metadata": {},
   "outputs": [],
   "source": [
    "state_open_pentagram_2 = tn.replicate_nodes([state_open_pentagram], conjugate=False)[0]"
   ]
  },
  {
   "cell_type": "code",
   "execution_count": 10,
   "metadata": {},
   "outputs": [],
   "source": [
    "for i in range(2):\n",
    "    n.append(tn.Node(iota, name='N'+str(i)))\n",
    "\n",
    "state_open_pentagram[4]^n[0][1]\n",
    "state_open_pentagram[5]^n[0][2]\n",
    "state_open_pentagram_2[4]^n[0][3]\n",
    "state_open_pentagram_2[5]^n[0][4]\n",
    "\n",
    "state_open_pentagram[6]^n[1][1]\n",
    "state_open_pentagram[7]^n[1][2]\n",
    "state_open_pentagram_2[6]^n[1][3]\n",
    "state_open_pentagram_2[7]^n[1][4]\n",
    "\n",
    "state_dekagram = tn.contractors.auto([state_open_pentagram, n[0], n[1], state_open_pentagram_2], output_edge_order=\n",
    "                                                                                        state_open_pentagram[:4]+\n",
    "                                                                                        [n[0][0],n[1][0]]+\n",
    "                                                                                        state_open_pentagram_2[:4])\n",
    "state_dekagram = norm(state_dekagram)"
   ]
  },
  {
   "cell_type": "code",
   "execution_count": 11,
   "metadata": {},
   "outputs": [
    {
     "data": {
      "text/plain": [
       "array([ 3.04933923e-01,  0.00000000e+00, -5.28554556e-35, ...,\n",
       "        7.18710013e-20,  1.43742005e-19, -2.65919206e-36])"
      ]
     },
     "execution_count": 11,
     "metadata": {},
     "output_type": "execute_result"
    }
   ],
   "source": [
    "state_dekagram.tensor.reshape(2**10)"
   ]
  },
  {
   "cell_type": "code",
   "execution_count": 23,
   "metadata": {},
   "outputs": [
    {
     "name": "stdout",
     "output_type": "stream",
     "text": [
      "0000000000 0.3049339225225648\n",
      "0000000111 -0.17605367994544388\n",
      "0000001011 -0.17605367994544385\n",
      "0000001100 0.30493391985750734\n",
      "0000001111 0.20328927812829994\n",
      "0001110001 0.10164463906415004\n",
      "0001110110 -0.05868455946892411\n",
      "0001110111 0.06776309211719835\n",
      "0001111010 -0.05868455946892411\n",
      "0001111011 -0.06776309211719833\n",
      "0001111101 -0.033881546058599166\n",
      "0001111110 -0.06776309211719835\n",
      "0110110001 -0.05868455946892411\n",
      "0110110110 0.0338815460585992\n",
      "0110110111 -0.03912303930402236\n",
      "0110111010 0.0338815460585992\n",
      "0110111011 0.03912303930402236\n",
      "0110111101 0.019561519652011174\n",
      "0110111110 0.039123039304022375\n",
      "0111000000 -0.1760536799454439\n",
      "0111000111 0.10164463817579757\n",
      "0111001011 0.10164463817579757\n",
      "0111001100 -0.1760536784067723\n",
      "0111001111 -0.11736911791206713\n",
      "0111110001 0.06776309211719835\n",
      "0111110110 -0.03912303930402236\n",
      "0111110111 0.04517539434997558\n",
      "0111111010 -0.03912303930402236\n",
      "0111111011 -0.04517539434997558\n",
      "0111111101 -0.022587697174987785\n",
      "0111111110 -0.04517539434997557\n",
      "1010110001 -0.05868455946892411\n",
      "1010110110 0.0338815460585992\n",
      "1010110111 -0.03912303930402236\n",
      "1010111010 0.0338815460585992\n",
      "1010111011 0.03912303930402236\n",
      "1010111101 0.019561519652011174\n",
      "1010111110 0.039123039304022375\n",
      "1011000000 -0.17605367994544385\n",
      "1011000111 0.10164463817579757\n",
      "1011001011 0.10164463817579755\n",
      "1011001100 -0.17605367840677225\n",
      "1011001111 -0.11736911791206711\n",
      "1011110001 -0.06776309211719833\n",
      "1011110110 0.039123039304022354\n",
      "1011110111 -0.04517539434997557\n",
      "1011111010 0.039123039304022354\n",
      "1011111011 0.04517539434997557\n",
      "1011111101 0.022587697174987785\n",
      "1011111110 0.04517539434997556\n",
      "1100000000 0.30493391985750734\n",
      "1100000111 -0.1760536784067723\n",
      "1100001011 -0.17605367840677225\n",
      "1100001100 0.30493391719245\n",
      "1100001111 0.20328927635159508\n",
      "1101110001 -0.033881546058599166\n",
      "1101110110 0.019561519652011174\n",
      "1101110111 -0.022587697174987785\n",
      "1101111010 0.019561519652011174\n",
      "1101111011 0.02258769717498778\n",
      "1101111101 0.011293848587493893\n",
      "1101111110 0.022587697174987778\n",
      "1110110001 -0.06776309211719835\n",
      "1110110110 0.039123039304022375\n",
      "1110110111 -0.04517539434997557\n",
      "1110111010 0.039123039304022375\n",
      "1110111011 0.04517539434997556\n",
      "1110111101 0.022587697174987778\n",
      "1110111110 0.04517539434997557\n",
      "1111000000 0.20328927812829994\n",
      "1111000111 -0.11736911791206711\n",
      "1111001011 -0.11736911791206711\n",
      "1111001100 0.20328927635159505\n",
      "1111001111 0.13552618304992678\n"
     ]
    }
   ],
   "source": [
    "# non zero elements of vector\n",
    "for i,a in enumerate(state_dekagram.tensor.reshape(2**10)):\n",
    "    if not np.isclose(a,0):\n",
    "        print(format(i,'010b'),a)"
   ]
  },
  {
   "attachments": {},
   "cell_type": "markdown",
   "metadata": {},
   "source": [
    "# Hexagram"
   ]
  },
  {
   "cell_type": "code",
   "execution_count": 26,
   "metadata": {},
   "outputs": [],
   "source": [
    "state_open_node2 = tn.replicate_nodes([state_open_node], conjugate=False)[0]"
   ]
  },
  {
   "cell_type": "code",
   "execution_count": 27,
   "metadata": {},
   "outputs": [],
   "source": [
    "links = [tn.Node(link) for i in range(4)]\n",
    "\n",
    "n=[]\n",
    "for i in range(4):\n",
    "    n.append(tn.Node(iota, name='N'+str(i)))\n",
    "\n",
    "state_open_node[1]^n[0][1]\n",
    "state_open_node[2]^n[1][1]\n",
    "state_open_node[3]^n[2][1]\n",
    "state_open_node[4]^n[3][1]\n",
    "\n",
    "state_open_node2[1]^n[1][2]\n",
    "state_open_node2[2]^n[0][2]\n",
    "state_open_node2[3]^n[3][2]\n",
    "state_open_node2[4]^n[2][2]\n",
    "\n",
    "links[0][0]^n[0][3]\n",
    "links[0][1]^n[1][3]\n",
    "\n",
    "links[1][0]^n[2][3]\n",
    "links[1][1]^n[3][3]\n",
    "\n",
    "links[2][0]^n[0][4]\n",
    "links[2][1]^n[3][4]\n",
    "\n",
    "links[3][0]^n[1][4]\n",
    "links[3][1]^n[2][4]\n",
    "\n",
    "state = tn.contractors.auto([state_open_node,state_open_node2]+n+links, output_edge_order=[state_open_node[0],n[0][0],n[1][0],state_open_node2[0],n[2][0],n[3][0]])\n",
    "state_hexagram = norm(state)"
   ]
  },
  {
   "cell_type": "code",
   "execution_count": 28,
   "metadata": {},
   "outputs": [
    {
     "data": {
      "text/plain": [
       "array([-2.63342585e-01, -1.26063593e-18, -4.51610686e-18, -2.63342583e-01,\n",
       "        2.85391704e-36,  1.07440648e-36, -1.94753376e-36, -1.52868484e-35,\n",
       "       -6.64917179e-35, -1.48210821e-35, -3.70328323e-35, -9.98165862e-36,\n",
       "       -2.20689373e-18,  1.52040910e-01,  1.52040910e-01,  1.75561720e-01,\n",
       "        2.70104708e-35, -3.12611010e-35,  3.77494617e-35, -4.02651610e-35,\n",
       "       -6.93103664e-19,  1.52040910e-01,  1.52040910e-01,  1.75561720e-01,\n",
       "       -2.63342583e-01,  4.23350271e-18,  3.66183895e-18, -2.63342580e-01,\n",
       "       -3.42251602e-18,  1.75561720e-01,  1.75561720e-01,  2.02721212e-01,\n",
       "        2.70104708e-35, -3.12611010e-35,  3.77494617e-35, -4.02651610e-35,\n",
       "       -2.63342583e-01, -3.93186543e-19,  1.57903230e-19,  8.77808601e-02,\n",
       "        3.77307554e-19,  1.52040910e-01,  1.52040910e-01, -1.75561720e-01,\n",
       "       -1.90872595e-18,  1.75561720e-01, -1.75561720e-01, -2.63079304e-18,\n",
       "        3.77307554e-19,  1.52040910e-01,  1.52040910e-01, -1.75561720e-01,\n",
       "        1.90872595e-18, -1.75561720e-01,  1.75561720e-01,  1.87928780e-18,\n",
       "       -2.32096481e-19, -1.75561720e-01, -1.75561720e-01,  2.02721212e-01,\n",
       "        8.77808601e-02,  2.87089261e-18, -4.87880993e-18, -2.92602864e-02])"
      ]
     },
     "execution_count": 28,
     "metadata": {},
     "output_type": "execute_result"
    }
   ],
   "source": [
    "state_hexagram.tensor.reshape(2**6)"
   ]
  }
 ],
 "metadata": {
  "kernelspec": {
   "display_name": "QSVM",
   "language": "python",
   "name": "python3"
  },
  "language_info": {
   "codemirror_mode": {
    "name": "ipython",
    "version": 3
   },
   "file_extension": ".py",
   "mimetype": "text/x-python",
   "name": "python",
   "nbconvert_exporter": "python",
   "pygments_lexer": "ipython3",
   "version": "3.10.6"
  },
  "orig_nbformat": 4,
  "vscode": {
   "interpreter": {
    "hash": "819c103db707b55336e8ded47fda16deadedbb0698ca64c9b46626d07d9863eb"
   }
  }
 },
 "nbformat": 4,
 "nbformat_minor": 2
}
