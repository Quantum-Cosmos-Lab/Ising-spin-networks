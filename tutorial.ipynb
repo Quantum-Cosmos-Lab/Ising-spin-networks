{
 "cells": [
  {
   "attachments": {},
   "cell_type": "markdown",
   "metadata": {},
   "source": [
    "# Tutorial\n",
    "---\n",
    "Notebook contains explict constructions of circuits and functions for minimazation that are consider in article: *G. Czelusta, J. Mielczarek, **Quantum circuits for the Ising spin networks***\n",
    "\n",
    "We use **Penny Lane** Python library.\n",
    "\n",
    "All names used in this notebook are the same as in the  article and all references are refrences to the article.\n",
    "\n",
    "In this tutorial simulators without statistical noise are used. Also used methods gradient computations are non compatible with real quantum hardware. Result with finite number of shots and real device compatible gradient computations are presented in notebook ```results.ipynb```."
   ]
  },
  {
   "cell_type": "code",
   "execution_count": 4,
   "metadata": {},
   "outputs": [],
   "source": [
    "import pennylane as qml\n",
    "from pennylane import numpy as np\n",
    "import matplotlib.pyplot as plt"
   ]
  },
  {
   "attachments": {},
   "cell_type": "markdown",
   "metadata": {},
   "source": [
    "First we construct quantum circuit representing operator $W$:"
   ]
  },
  {
   "cell_type": "code",
   "execution_count": 5,
   "metadata": {},
   "outputs": [],
   "source": [
    "def W(wires):\n",
    "    qml.PauliX(wires=wires[0])\n",
    "    qml.CNOT(wires=[wires[0],wires[1]])\n",
    "    qml.PauliX(wires=wires[1])\n",
    "    qml.CRY(2*np.arccos(1/np.sqrt(3)), wires=[wires[1],wires[0]])\n",
    "    qml.PauliX(wires=wires[1])\n",
    "    qml.CNOT(wires=[wires[0],wires[1]])\n",
    "    qml.Hadamard(wires=wires[0])\n",
    "    qml.T(wires=wires[0])\n",
    "    qml.adjoint(qml.T)(wires=wires[1])\n",
    "    qml.CNOT(wires=[wires[1],wires[0]])\n",
    "    qml.adjoint(qml.T)(wires=wires[0])\n",
    "    qml.Hadamard(wires=wires[0])\n",
    "    qml.CNOT(wires=[wires[0],wires[1]])\n",
    "    qml.T(wires=wires[0])\n",
    "    qml.adjoint(qml.T)(wires=wires[1])\n",
    "    qml.CNOT(wires=[wires[0],wires[2]])\n",
    "    qml.CNOT(wires=[wires[1],wires[3]])\n",
    "    qml.Hadamard(wires=wires[0])\n",
    "    qml.CNOT(wires=[wires[0],wires[1]])\n",
    "    qml.Hadamard(wires=wires[2])\n",
    "    qml.CNOT(wires=[wires[2],wires[3]])"
   ]
  },
  {
   "attachments": {},
   "cell_type": "markdown",
   "metadata": {},
   "source": [
    "then we construct quantum circuit wich construct state of single link, in the article we use singlet states, but you can choose arbitrary states\n",
    "$$|\\mathcal{B},\\frac{1}{2}\\rangle=\\frac{1}{\\sqrt{2}}\\left(|01\\rangle-|10\\rangle\\right)$$"
   ]
  },
  {
   "cell_type": "code",
   "execution_count": 6,
   "metadata": {},
   "outputs": [],
   "source": [
    "def link(wires):\n",
    "    qml.PauliX(wires=wires[0])\n",
    "    qml.PauliX(wires=wires[1])\n",
    "    qml.Hadamard(wires=wires[0])\n",
    "    qml.CNOT(wires=[wires[0], wires[1]])"
   ]
  },
  {
   "cell_type": "markdown",
   "metadata": {},
   "source": [
    "## Dipole"
   ]
  },
  {
   "attachments": {},
   "cell_type": "markdown",
   "metadata": {},
   "source": [
    "Here we construct dipole state using four links:\n",
    "\n",
    "$$|\\Gamma_2,\\mathcal{B},\\frac{1}{2}\\rangle=P_\\Gamma\\otimes_{l\\in\\Gamma_2}|\\mathcal{B},\\frac{1}{2}\\rangle=\\frac{1}{\\sqrt{2}}\\left(|\\iota_0\\iota_0\\rangle+|\\iota_1\\iota_1\\rangle\\right)$$\n",
    "\n",
    "we need 8 qubits"
   ]
  },
  {
   "cell_type": "code",
   "execution_count": 7,
   "metadata": {},
   "outputs": [],
   "source": [
    "dev8 = qml.device('lightning.qubit', wires=8) # we use simulator 'lightning.qubit', you can choose for example 'default.qubit'\n",
    "# dev8 = qml.device('lightning.qubit', wires=8, shots=20000) # you can also add 'shots=' and then obtain results with statistical noise simulated"
   ]
  },
  {
   "cell_type": "markdown",
   "metadata": {},
   "source": [
    "then we construct circuit Fig.9"
   ]
  },
  {
   "cell_type": "code",
   "execution_count": 8,
   "metadata": {},
   "outputs": [],
   "source": [
    "# @qml.qnode(dev8, diff_method=\"parameter-shift\") # you can add 'diff_method=', or choose other, to use comaptible with real quantum devices methods\n",
    "@qml.qnode(dev8)\n",
    "def cost_circ(initial_layer_weights, weights):\n",
    "    link([0,4])\n",
    "    link([1,5])\n",
    "    link([2,6])\n",
    "    link([3,7])\n",
    "\n",
    "    qml.adjoint(W)([0,1,2,3])\n",
    "    qml.adjoint(W)([4,5,6,7])\n",
    "\n",
    "    qml.SimplifiedTwoDesign(initial_layer_weights, weights, wires=[0,4])\n",
    "        \n",
    "    return qml.probs(wires=range(8))"
   ]
  },
  {
   "attachments": {},
   "cell_type": "markdown",
   "metadata": {},
   "source": [
    "Here we define function which post-selects measurements to obtain projected state"
   ]
  },
  {
   "cell_type": "code",
   "execution_count": 9,
   "metadata": {},
   "outputs": [],
   "source": [
    "def proj_probs(probs):\n",
    "    c = dict()\n",
    "    for i in range(len(probs)):\n",
    "        k=format(i,'08b')\n",
    "        if k[1:4]=='000' and k[5:8]=='000':\n",
    "            c[k[0]+k[4]] = probs[i]\n",
    "    return c['00']/np.sum(list(c.values()))"
   ]
  },
  {
   "attachments": {},
   "cell_type": "markdown",
   "metadata": {},
   "source": [
    "We define cost function, Eq. 21"
   ]
  },
  {
   "cell_type": "code",
   "execution_count": 10,
   "metadata": {},
   "outputs": [],
   "source": [
    "def cost_fn(initial_layer_weights, weights):\n",
    "    return 1-proj_probs(cost_circ(initial_layer_weights, weights))"
   ]
  },
  {
   "attachments": {},
   "cell_type": "markdown",
   "metadata": {},
   "source": [
    "We can check cost function on some random parameters.\n",
    "\n",
    "Variable ```initial_layer_weights``` needs to have shape $(N)$, where $N$ is number of qubits in anstaz, in this case $N=2$.\n",
    "\n",
    "Variable ```weights``` needs to have shape $(L,N-1,2)$, where $L$ is number of layers in ansatz, $N$ is number of qubits in anstaz, in this case $L=1$, $N=2$.\n",
    "\n",
    "For more details, see Fig. 8 and documentation of ```SimplifiedTwoDesign```."
   ]
  },
  {
   "cell_type": "code",
   "execution_count": 11,
   "metadata": {},
   "outputs": [
    {
     "data": {
      "text/plain": [
       "tensor(0.34607583, requires_grad=True)"
      ]
     },
     "execution_count": 11,
     "metadata": {},
     "output_type": "execute_result"
    }
   ],
   "source": [
    "initial_layer_weights=np.random.rand(2)*2*np.pi\n",
    "weights=np.random.rand(1,1,2)*2*np.pi\n",
    "cost_fn(initial_layer_weights, weights)"
   ]
  },
  {
   "attachments": {},
   "cell_type": "markdown",
   "metadata": {},
   "source": [
    "Then we can optimize our ansatz. We choose classical optimizer, here ```AdamOptimizer```, maximal number of iteration in optimization loop, here $100$ and converge tolerance, here $10^{-6}$. We initialize parameters randomly. At the end we plot history of cost function during minimalization."
   ]
  },
  {
   "cell_type": "code",
   "execution_count": 12,
   "metadata": {},
   "outputs": [
    {
     "name": "stdout",
     "output_type": "stream",
     "text": [
      "Iteration = 0,  Cost = 0.56165631\n",
      "Iteration = 20,  Cost = 0.05143240\n",
      "Iteration = 40,  Cost = 0.00686990\n",
      "Iteration = 60,  Cost = 0.00050189\n",
      "Iteration = 80,  Cost = 0.00010077\n"
     ]
    },
    {
     "data": {
      "text/plain": [
       "[<matplotlib.lines.Line2D at 0x7f1989756190>]"
      ]
     },
     "execution_count": 12,
     "metadata": {},
     "output_type": "execute_result"
    },
    {
     "data": {
      "image/png": "[encoded data removed]",
      "text/plain": [
       "<Figure size 432x288 with 1 Axes>"
      ]
     },
     "metadata": {
      "needs_background": "light"
     },
     "output_type": "display_data"
    }
   ],
   "source": [
    "opt = qml.AdamOptimizer(stepsize=0.1)\n",
    "\n",
    "max_iterations = 100\n",
    "conv_tol = 1e-06\n",
    "\n",
    "init_params = [np.random.rand(2)*2*np.pi, np.random.rand(1,1,2)*2*np.pi]\n",
    "\n",
    "params = init_params\n",
    "\n",
    "cost = 0\n",
    "\n",
    "costs=[]\n",
    "paramses = []\n",
    "paramses.append(params)\n",
    "\n",
    "\n",
    "for n in range(max_iterations):\n",
    "    params, prev_cost = opt.step_and_cost(cost_fn, *params)\n",
    "    conv = np.abs(cost - prev_cost)\n",
    "    cost=prev_cost\n",
    "    costs.append(cost)\n",
    "    paramses.append(params)\n",
    "    \n",
    "    if n % 20 == 0:\n",
    "        print('Iteration = {:},  Cost = {:.8f}'.format(n, cost))\n",
    "\n",
    "    if conv <= conv_tol:\n",
    "        break\n",
    "    \n",
    "plt.rcParams['figure.figsize'] = [10,5]\n",
    "\n",
    "plt.plot(costs)"
   ]
  },
  {
   "attachments": {},
   "cell_type": "markdown",
   "metadata": {},
   "source": [
    "We can now compute fidelity of obtained state. We execute ansatz with optimized parameters and check if it reproduces dipole state:"
   ]
  },
  {
   "cell_type": "code",
   "execution_count": 13,
   "metadata": {},
   "outputs": [],
   "source": [
    "def fidelity_dipole(params):\n",
    "    @qml.qnode(qml.device('lightning.qubit', wires=2))\n",
    "    def dipole(optimized_params):\n",
    "        qml.adjoint(qml.SimplifiedTwoDesign)(optimized_params[0], optimized_params[1],wires=[0,1])\n",
    "        return qml.state()\n",
    "\n",
    "    dipole_exact = [1/np.sqrt(2),0,0,1/np.sqrt(2)]\n",
    "\n",
    "    return np.abs(np.dot(dipole(params), dipole_exact))"
   ]
  },
  {
   "cell_type": "code",
   "execution_count": 14,
   "metadata": {},
   "outputs": [],
   "source": [
    "dipole_params = params"
   ]
  },
  {
   "cell_type": "code",
   "execution_count": 15,
   "metadata": {},
   "outputs": [
    {
     "data": {
      "text/plain": [
       "0.999989682777915"
      ]
     },
     "execution_count": 15,
     "metadata": {},
     "output_type": "execute_result"
    }
   ],
   "source": [
    "fidelity_dipole(dipole_params)"
   ]
  },
  {
   "attachments": {},
   "cell_type": "markdown",
   "metadata": {},
   "source": [
    "In similar way we can construct states for larger spin netorks. But construction starting from single links is not the most optimal one. Therefore, we show construction by gluing spin networks."
   ]
  },
  {
   "cell_type": "markdown",
   "metadata": {},
   "source": [
    "## Single node with free links"
   ]
  },
  {
   "attachments": {},
   "cell_type": "markdown",
   "metadata": {},
   "source": [
    "First, we need to prepare state of sningle node with four free links. We construct circuit, Fig. 19. It can be also seen as open dipole."
   ]
  },
  {
   "cell_type": "code",
   "execution_count": 16,
   "metadata": {},
   "outputs": [],
   "source": [
    "@qml.qnode(dev8)\n",
    "def cost_circ(initial_layer_weights, weights):\n",
    "    link([0,4])\n",
    "    link([1,5])\n",
    "    link([2,6])\n",
    "    link([3,7])\n",
    "\n",
    "    qml.adjoint(W)([0,1,2,3])\n",
    "\n",
    "    qml.SimplifiedTwoDesign(initial_layer_weights, weights, wires=[0,4,5,6,7])\n",
    "        \n",
    "    return qml.probs(wires=range(8))"
   ]
  },
  {
   "cell_type": "code",
   "execution_count": 17,
   "metadata": {},
   "outputs": [],
   "source": [
    "def proj_probs(probs):\n",
    "    c = dict()\n",
    "    for i in range(len(probs)):\n",
    "        k=format(i,'08b')\n",
    "        if k[1:4]=='000':\n",
    "            c[k[0]+k[4:]] = probs[i]\n",
    "    return c['00000']/np.sum(list(c.values()))"
   ]
  },
  {
   "cell_type": "code",
   "execution_count": 18,
   "metadata": {},
   "outputs": [],
   "source": [
    "def cost_fn(initial_layer_weights, weights):\n",
    "    return 1-proj_probs(cost_circ(initial_layer_weights, weights))"
   ]
  },
  {
   "cell_type": "code",
   "execution_count": 19,
   "metadata": {},
   "outputs": [
    {
     "name": "stdout",
     "output_type": "stream",
     "text": [
      "Iteration = 0,  Cost = 0.99848215\n",
      "Iteration = 20,  Cost = 0.11182490\n",
      "Iteration = 40,  Cost = 0.00687757\n",
      "Iteration = 60,  Cost = 0.00230182\n",
      "Iteration = 80,  Cost = 0.00019211\n"
     ]
    },
    {
     "data": {
      "text/plain": [
       "[<matplotlib.lines.Line2D at 0x7f1988baa1d0>]"
      ]
     },
     "execution_count": 19,
     "metadata": {},
     "output_type": "execute_result"
    },
    {
     "data": {
      "image/png": "[encoded data removed]",
      "text/plain": [
       "<Figure size 720x360 with 1 Axes>"
      ]
     },
     "metadata": {
      "needs_background": "light"
     },
     "output_type": "display_data"
    }
   ],
   "source": [
    "opt = qml.AdamOptimizer(stepsize=0.1)\n",
    "\n",
    "max_iterations = 100\n",
    "conv_tol = 1e-06\n",
    "\n",
    "init_params = [np.random.rand(5)*2*np.pi, np.random.rand(4,4,2)*2*np.pi]\n",
    "\n",
    "params = init_params\n",
    "\n",
    "cost = 0\n",
    "\n",
    "costs=[]\n",
    "paramses = []\n",
    "paramses.append(params)\n",
    "\n",
    "\n",
    "for n in range(max_iterations):\n",
    "    params, prev_cost = opt.step_and_cost(cost_fn, *params)\n",
    "    conv = np.abs(cost - prev_cost)\n",
    "    cost=prev_cost\n",
    "    costs.append(cost)\n",
    "    paramses.append(params)\n",
    "    \n",
    "    if n % 20 == 0:\n",
    "        print('Iteration = {:},  Cost = {:.8f}'.format(n, cost))\n",
    "\n",
    "    if conv <= conv_tol:\n",
    "        break\n",
    "    \n",
    "plt.rcParams['figure.figsize'] = [10,5]\n",
    "\n",
    "plt.plot(costs)"
   ]
  },
  {
   "cell_type": "code",
   "execution_count": 20,
   "metadata": {},
   "outputs": [],
   "source": [
    "def fidelity_node(params):\n",
    "    @qml.qnode(qml.device('default.qubit', wires=5))\n",
    "    def node(optimized_params):\n",
    "        qml.adjoint(qml.SimplifiedTwoDesign)(optimized_params[0], optimized_params[1],wires=range(5))\n",
    "        return qml.state()\n",
    "\n",
    "    node_exact = [ 0.        ,  0.        ,  0.        ,  0.        ,  0.        ,\n",
    "        0.35355339, -0.35355339,  0.        ,  0.        , -0.35355339,\n",
    "        0.35355339,  0.        ,  0.        ,  0.        ,  0.        ,\n",
    "        0.        ,  0.        ,  0.        ,  0.        ,  0.40824829,\n",
    "        0.        , -0.20412414, -0.20412414,  0.        ,  0.        ,\n",
    "       -0.20412414, -0.20412414,  0.        ,  0.40824829,  0.        ,\n",
    "        0.        ,  0.        ]\n",
    "\n",
    "    return np.abs(np.dot(node(params), node_exact))"
   ]
  },
  {
   "cell_type": "code",
   "execution_count": 21,
   "metadata": {},
   "outputs": [],
   "source": [
    "node_params = params"
   ]
  },
  {
   "cell_type": "code",
   "execution_count": 22,
   "metadata": {},
   "outputs": [
    {
     "data": {
      "text/plain": [
       "0.9999699516225807"
      ]
     },
     "execution_count": 22,
     "metadata": {},
     "output_type": "execute_result"
    }
   ],
   "source": [
    "fidelity_node(node_params)"
   ]
  },
  {
   "cell_type": "markdown",
   "metadata": {},
   "source": [
    "## Pentagram"
   ]
  },
  {
   "cell_type": "code",
   "execution_count": 23,
   "metadata": {},
   "outputs": [],
   "source": [
    "dev17 = qml.device('lightning.qubit', wires=17)"
   ]
  },
  {
   "cell_type": "code",
   "execution_count": 24,
   "metadata": {},
   "outputs": [],
   "source": [
    "pentagram_links = [[2,6],[3,10],[4,14],[7,11],[8,15],[12,16]]"
   ]
  },
  {
   "cell_type": "code",
   "execution_count": 25,
   "metadata": {},
   "outputs": [],
   "source": [
    "@qml.qnode(dev17)\n",
    "def cost_circ(initial_layer_weights, weights):\n",
    "        \n",
    "    qml.adjoint(qml.SimplifiedTwoDesign)(node_params[0],node_params[1],wires=[0,1,5,9,13])\n",
    "\n",
    "    for l in pentagram_links:\n",
    "        link(l)\n",
    "\n",
    "    qml.adjoint(W)([1,2,3,4])\n",
    "    qml.adjoint(W)([5,6,7,8])\n",
    "    qml.adjoint(W)([9,10,11,12])\n",
    "    qml.adjoint(W)([13,14,15,16])\n",
    "\n",
    "    qml.SimplifiedTwoDesign(initial_layer_weights, weights, wires=[0,1,5,9,13])\n",
    "        \n",
    "    return qml.probs(wires=range(17))"
   ]
  },
  {
   "cell_type": "code",
   "execution_count": 26,
   "metadata": {},
   "outputs": [],
   "source": [
    "def proj_probs(probs):\n",
    "    c = dict()\n",
    "    for i in range(len(probs)):\n",
    "        k=format(i,'017b')\n",
    "        if k[2:5]=='000' and k[6:9]=='000' and k[10:13]=='000' and k[14:17]=='000':\n",
    "            c[k[0]+k[1]+k[5]+k[9]+k[13]] = probs[i]\n",
    "    if np.sum(list(c.values()))==0:\n",
    "        return 0\n",
    "    else:\n",
    "        return c['00000']/np.sum(list(c.values()))"
   ]
  },
  {
   "cell_type": "code",
   "execution_count": 27,
   "metadata": {},
   "outputs": [],
   "source": [
    "def cost_fn(initial_layer_weights, weights):\n",
    "    return 1-proj_probs(cost_circ(initial_layer_weights, weights))"
   ]
  },
  {
   "cell_type": "code",
   "execution_count": 28,
   "metadata": {},
   "outputs": [
    {
     "name": "stdout",
     "output_type": "stream",
     "text": [
      "Iteration = 0,  Cost = 0.99486129\n",
      "Iteration = 1,  Cost = 0.94811247\n",
      "Iteration = 2,  Cost = 0.88170746\n",
      "Iteration = 3,  Cost = 0.83566804\n",
      "Iteration = 4,  Cost = 0.77662523\n",
      "Iteration = 5,  Cost = 0.70561702\n",
      "Iteration = 6,  Cost = 0.65591054\n",
      "Iteration = 7,  Cost = 0.62907210\n",
      "Iteration = 8,  Cost = 0.60699113\n",
      "Iteration = 9,  Cost = 0.58271325\n",
      "Iteration = 10,  Cost = 0.55288092\n",
      "Iteration = 11,  Cost = 0.51318223\n",
      "Iteration = 12,  Cost = 0.46473234\n",
      "Iteration = 13,  Cost = 0.41066920\n",
      "Iteration = 14,  Cost = 0.35449154\n",
      "Iteration = 15,  Cost = 0.30784214\n",
      "Iteration = 16,  Cost = 0.28756676\n",
      "Iteration = 17,  Cost = 0.29220851\n",
      "Iteration = 18,  Cost = 0.29846709\n",
      "Iteration = 19,  Cost = 0.29126191\n",
      "Iteration = 20,  Cost = 0.27281988\n",
      "Iteration = 21,  Cost = 0.25304560\n",
      "Iteration = 22,  Cost = 0.23734126\n",
      "Iteration = 23,  Cost = 0.22595548\n",
      "Iteration = 24,  Cost = 0.21625633\n",
      "Iteration = 25,  Cost = 0.20699927\n",
      "Iteration = 26,  Cost = 0.19823546\n",
      "Iteration = 27,  Cost = 0.18801769\n",
      "Iteration = 28,  Cost = 0.17685235\n",
      "Iteration = 29,  Cost = 0.16902531\n",
      "Iteration = 30,  Cost = 0.16685288\n",
      "Iteration = 31,  Cost = 0.16776076\n",
      "Iteration = 32,  Cost = 0.16773137\n",
      "Iteration = 33,  Cost = 0.16552886\n",
      "Iteration = 34,  Cost = 0.16285041\n",
      "Iteration = 35,  Cost = 0.16160658\n",
      "Iteration = 36,  Cost = 0.16109221\n",
      "Iteration = 37,  Cost = 0.15946953\n",
      "Iteration = 38,  Cost = 0.15676542\n",
      "Iteration = 39,  Cost = 0.15392619\n",
      "Iteration = 40,  Cost = 0.15151754\n",
      "Iteration = 41,  Cost = 0.14929945\n",
      "Iteration = 42,  Cost = 0.14717687\n",
      "Iteration = 43,  Cost = 0.14602947\n",
      "Iteration = 44,  Cost = 0.14570767\n",
      "Iteration = 45,  Cost = 0.14463837\n",
      "Iteration = 46,  Cost = 0.14249437\n",
      "Iteration = 47,  Cost = 0.14067288\n",
      "Iteration = 48,  Cost = 0.14021763\n",
      "Iteration = 49,  Cost = 0.14022486\n",
      "Iteration = 50,  Cost = 0.13933155\n",
      "Iteration = 51,  Cost = 0.13783881\n",
      "Iteration = 52,  Cost = 0.13650417\n",
      "Iteration = 53,  Cost = 0.13524054\n",
      "Iteration = 54,  Cost = 0.13364309\n",
      "Iteration = 55,  Cost = 0.13160107\n",
      "Iteration = 56,  Cost = 0.12920252\n",
      "Iteration = 57,  Cost = 0.12635410\n",
      "Iteration = 58,  Cost = 0.12318131\n",
      "Iteration = 59,  Cost = 0.11984084\n",
      "Iteration = 60,  Cost = 0.11582654\n",
      "Iteration = 61,  Cost = 0.11049732\n",
      "Iteration = 62,  Cost = 0.10372888\n",
      "Iteration = 63,  Cost = 0.09567987\n",
      "Iteration = 64,  Cost = 0.08621095\n",
      "Iteration = 65,  Cost = 0.07520805\n",
      "Iteration = 66,  Cost = 0.06348937\n",
      "Iteration = 67,  Cost = 0.05260329\n",
      "Iteration = 68,  Cost = 0.04389110\n",
      "Iteration = 69,  Cost = 0.03801778\n",
      "Iteration = 70,  Cost = 0.03487937\n",
      "Iteration = 71,  Cost = 0.03372340\n",
      "Iteration = 72,  Cost = 0.03358887\n",
      "Iteration = 73,  Cost = 0.03364747\n",
      "Iteration = 74,  Cost = 0.03304879\n",
      "Iteration = 75,  Cost = 0.03089106\n",
      "Iteration = 76,  Cost = 0.02695367\n",
      "Iteration = 77,  Cost = 0.02209198\n",
      "Iteration = 78,  Cost = 0.01731870\n",
      "Iteration = 79,  Cost = 0.01316839\n",
      "Iteration = 80,  Cost = 0.01020205\n",
      "Iteration = 81,  Cost = 0.00906254\n",
      "Iteration = 82,  Cost = 0.00961968\n",
      "Iteration = 83,  Cost = 0.01087781\n",
      "Iteration = 84,  Cost = 0.01181685\n",
      "Iteration = 85,  Cost = 0.01185035\n",
      "Iteration = 86,  Cost = 0.01076586\n",
      "Iteration = 87,  Cost = 0.00880349\n",
      "Iteration = 88,  Cost = 0.00667536\n",
      "Iteration = 89,  Cost = 0.00497214\n",
      "Iteration = 90,  Cost = 0.00379022\n",
      "Iteration = 91,  Cost = 0.00303236\n",
      "Iteration = 92,  Cost = 0.00272043\n",
      "Iteration = 93,  Cost = 0.00278864\n",
      "Iteration = 94,  Cost = 0.00293007\n",
      "Iteration = 95,  Cost = 0.00289973\n",
      "Iteration = 96,  Cost = 0.00268334\n",
      "Iteration = 97,  Cost = 0.00242541\n",
      "Iteration = 98,  Cost = 0.00222482\n",
      "Iteration = 99,  Cost = 0.00204172\n"
     ]
    }
   ],
   "source": [
    "opt = qml.AdamOptimizer(stepsize=0.1)\n",
    "\n",
    "max_iterations = 100\n",
    "conv_tol = 1e-06\n",
    "\n",
    "init_params = [np.random.rand(5)*2*np.pi, np.random.rand(4,4,2)*2*np.pi]\n",
    "params = init_params\n",
    "\n",
    "\n",
    "cost = 0\n",
    "\n",
    "costs=[]\n",
    "paramses = []\n",
    "paramses.append(params)\n",
    "\n",
    "for n in range(max_iterations):\n",
    "    params, prev_cost = opt.step_and_cost(cost_fn, *params)\n",
    "    conv = np.abs(cost - prev_cost)\n",
    "    cost=prev_cost\n",
    "    costs.append(cost)\n",
    "    paramses.append(params)\n",
    "    \n",
    "    if conv <= conv_tol:\n",
    "        break\n",
    "\n",
    "    if n % 1 == 0:\n",
    "        print('Iteration = {:},  Cost = {:.8f}'.format(n, cost))"
   ]
  },
  {
   "cell_type": "code",
   "execution_count": 29,
   "metadata": {},
   "outputs": [],
   "source": [
    "def fidelity_pentagram(params):\n",
    "    @qml.qnode(qml.device('default.qubit', wires=5))\n",
    "    def pentagram(optimized_params):\n",
    "        qml.adjoint(qml.SimplifiedTwoDesign)(optimized_params[0], optimized_params[1],wires=[0,1,2,3,4])\n",
    "        return qml.state()\n",
    "\n",
    "    pentagram_exact = 1/np.sqrt(14)*np.array([3/2,0,0,3/2,0,0,0,0,0,0,0,0,0,-np.sqrt(3)/2,-np.sqrt(3)/2,1,0,0,0,0,0,-np.sqrt(3)/2,-np.sqrt(3)/2,-1,3/2,0,0,-1/2,0,-1,1,0])\n",
    "\n",
    "    return np.abs(np.dot(pentagram(params), pentagram_exact))"
   ]
  },
  {
   "cell_type": "code",
   "execution_count": 30,
   "metadata": {},
   "outputs": [],
   "source": [
    "pentagram_params = params"
   ]
  },
  {
   "cell_type": "code",
   "execution_count": 31,
   "metadata": {},
   "outputs": [
    {
     "data": {
      "text/plain": [
       "0.9991287701112468"
      ]
     },
     "execution_count": 31,
     "metadata": {},
     "output_type": "execute_result"
    }
   ],
   "source": [
    "fidelity_pentagram(pentagram_params)"
   ]
  },
  {
   "attachments": {},
   "cell_type": "markdown",
   "metadata": {},
   "source": [
    "## Open pentagram, i.e. 4-node network with four open links"
   ]
  },
  {
   "attachments": {},
   "cell_type": "markdown",
   "metadata": {},
   "source": [
    "Similarly we prepare open pentagram by ommiting one of $W^\\dagger$."
   ]
  },
  {
   "cell_type": "code",
   "execution_count": 32,
   "metadata": {},
   "outputs": [],
   "source": [
    "dev20 = qml.device('lightning.qubit', wires=20)"
   ]
  },
  {
   "cell_type": "code",
   "execution_count": 33,
   "metadata": {},
   "outputs": [],
   "source": [
    "@qml.qnode(dev20)\n",
    "def cost_circ(initial_layer_weights, weights):\n",
    "    for l in pentagram_links:\n",
    "        link(l)\n",
    "\n",
    "    for i in range(4):\n",
    "        qml.adjoint(W)(range(4*i,4*(i+1)))\n",
    "\n",
    "    qml.SimplifiedTwoDesign(initial_layer_weights, weights, wires=[0,4,8,12,16,17,18,19])\n",
    "        \n",
    "    return qml.probs(wires=range(20))"
   ]
  },
  {
   "cell_type": "code",
   "execution_count": 34,
   "metadata": {},
   "outputs": [],
   "source": [
    "def proj_probs(probs):\n",
    "    c = dict()\n",
    "    for i in range(len(probs)):\n",
    "        k=format(i,'020b')\n",
    "        if k[1:4]=='000' and k[5:8]=='000' and k[9:12]=='000' and k[13:16]=='000':\n",
    "            c[k[0]+k[4]+k[8]+k[12]+k[16:]] = probs[i]\n",
    "    return c['00000000']/np.sum(list(c.values()))"
   ]
  },
  {
   "cell_type": "code",
   "execution_count": 35,
   "metadata": {},
   "outputs": [],
   "source": [
    "def cost_fn(initial_layer_weights, weights):\n",
    "    return 1-proj_probs(cost_circ(initial_layer_weights, weights))"
   ]
  },
  {
   "cell_type": "code",
   "execution_count": 94,
   "metadata": {},
   "outputs": [
    {
     "name": "stdout",
     "output_type": "stream",
     "text": [
      "Iteration = 0,  Cost = 0.99857045\n"
     ]
    },
    {
     "ename": "KeyboardInterrupt",
     "evalue": "",
     "output_type": "error",
     "traceback": [
      "\u001b[0;31m---------------------------------------------------------------------------\u001b[0m",
      "\u001b[0;31mKeyboardInterrupt\u001b[0m                         Traceback (most recent call last)",
      "\u001b[0;32m<ipython-input-94-f3d1d5708078>\u001b[0m in \u001b[0;36m<module>\u001b[0;34m\u001b[0m\n\u001b[1;32m     16\u001b[0m \u001b[0;34m\u001b[0m\u001b[0m\n\u001b[1;32m     17\u001b[0m \u001b[0;32mfor\u001b[0m \u001b[0mn\u001b[0m \u001b[0;32min\u001b[0m \u001b[0mrange\u001b[0m\u001b[0;34m(\u001b[0m\u001b[0mmax_iterations\u001b[0m\u001b[0;34m)\u001b[0m\u001b[0;34m:\u001b[0m\u001b[0;34m\u001b[0m\u001b[0;34m\u001b[0m\u001b[0m\n\u001b[0;32m---> 18\u001b[0;31m     \u001b[0mparams\u001b[0m\u001b[0;34m,\u001b[0m \u001b[0mprev_cost\u001b[0m \u001b[0;34m=\u001b[0m \u001b[0mopt\u001b[0m\u001b[0;34m.\u001b[0m\u001b[0mstep_and_cost\u001b[0m\u001b[0;34m(\u001b[0m\u001b[0mcost_fn\u001b[0m\u001b[0;34m,\u001b[0m \u001b[0;34m*\u001b[0m\u001b[0mparams\u001b[0m\u001b[0;34m)\u001b[0m\u001b[0;34m\u001b[0m\u001b[0;34m\u001b[0m\u001b[0m\n\u001b[0m\u001b[1;32m     19\u001b[0m     \u001b[0mconv\u001b[0m \u001b[0;34m=\u001b[0m \u001b[0mnp\u001b[0m\u001b[0;34m.\u001b[0m\u001b[0mabs\u001b[0m\u001b[0;34m(\u001b[0m\u001b[0mcost\u001b[0m \u001b[0;34m-\u001b[0m \u001b[0mprev_cost\u001b[0m\u001b[0;34m)\u001b[0m\u001b[0;34m\u001b[0m\u001b[0;34m\u001b[0m\u001b[0m\n\u001b[1;32m     20\u001b[0m     \u001b[0mcost\u001b[0m\u001b[0;34m=\u001b[0m\u001b[0mprev_cost\u001b[0m\u001b[0;34m\u001b[0m\u001b[0;34m\u001b[0m\u001b[0m\n",
      "\u001b[0;32m~/anaconda3/envs/quantumcircuits/lib/python3.7/site-packages/pennylane/optimize/gradient_descent.py\u001b[0m in \u001b[0;36mstep_and_cost\u001b[0;34m(self, objective_fn, grad_fn, *args, **kwargs)\u001b[0m\n\u001b[1;32m     57\u001b[0m         \"\"\"\n\u001b[1;32m     58\u001b[0m \u001b[0;34m\u001b[0m\u001b[0m\n\u001b[0;32m---> 59\u001b[0;31m         \u001b[0mg\u001b[0m\u001b[0;34m,\u001b[0m \u001b[0mforward\u001b[0m \u001b[0;34m=\u001b[0m \u001b[0mself\u001b[0m\u001b[0;34m.\u001b[0m\u001b[0mcompute_grad\u001b[0m\u001b[0;34m(\u001b[0m\u001b[0mobjective_fn\u001b[0m\u001b[0;34m,\u001b[0m \u001b[0margs\u001b[0m\u001b[0;34m,\u001b[0m \u001b[0mkwargs\u001b[0m\u001b[0;34m,\u001b[0m \u001b[0mgrad_fn\u001b[0m\u001b[0;34m=\u001b[0m\u001b[0mgrad_fn\u001b[0m\u001b[0;34m)\u001b[0m\u001b[0;34m\u001b[0m\u001b[0;34m\u001b[0m\u001b[0m\n\u001b[0m\u001b[1;32m     60\u001b[0m         \u001b[0mnew_args\u001b[0m \u001b[0;34m=\u001b[0m \u001b[0mself\u001b[0m\u001b[0;34m.\u001b[0m\u001b[0mapply_grad\u001b[0m\u001b[0;34m(\u001b[0m\u001b[0mg\u001b[0m\u001b[0;34m,\u001b[0m \u001b[0margs\u001b[0m\u001b[0;34m)\u001b[0m\u001b[0;34m\u001b[0m\u001b[0;34m\u001b[0m\u001b[0m\n\u001b[1;32m     61\u001b[0m \u001b[0;34m\u001b[0m\u001b[0m\n",
      "\u001b[0;32m~/anaconda3/envs/quantumcircuits/lib/python3.7/site-packages/pennylane/optimize/gradient_descent.py\u001b[0m in \u001b[0;36mcompute_grad\u001b[0;34m(objective_fn, args, kwargs, grad_fn)\u001b[0m\n\u001b[1;32m    115\u001b[0m         \"\"\"\n\u001b[1;32m    116\u001b[0m         \u001b[0mg\u001b[0m \u001b[0;34m=\u001b[0m \u001b[0mget_gradient\u001b[0m\u001b[0;34m(\u001b[0m\u001b[0mobjective_fn\u001b[0m\u001b[0;34m)\u001b[0m \u001b[0;32mif\u001b[0m \u001b[0mgrad_fn\u001b[0m \u001b[0;32mis\u001b[0m \u001b[0;32mNone\u001b[0m \u001b[0;32melse\u001b[0m \u001b[0mgrad_fn\u001b[0m\u001b[0;34m\u001b[0m\u001b[0;34m\u001b[0m\u001b[0m\n\u001b[0;32m--> 117\u001b[0;31m         \u001b[0mgrad\u001b[0m \u001b[0;34m=\u001b[0m \u001b[0mg\u001b[0m\u001b[0;34m(\u001b[0m\u001b[0;34m*\u001b[0m\u001b[0margs\u001b[0m\u001b[0;34m,\u001b[0m \u001b[0;34m**\u001b[0m\u001b[0mkwargs\u001b[0m\u001b[0;34m)\u001b[0m\u001b[0;34m\u001b[0m\u001b[0;34m\u001b[0m\u001b[0m\n\u001b[0m\u001b[1;32m    118\u001b[0m         \u001b[0mforward\u001b[0m \u001b[0;34m=\u001b[0m \u001b[0mgetattr\u001b[0m\u001b[0;34m(\u001b[0m\u001b[0mg\u001b[0m\u001b[0;34m,\u001b[0m \u001b[0;34m\"forward\"\u001b[0m\u001b[0;34m,\u001b[0m \u001b[0;32mNone\u001b[0m\u001b[0;34m)\u001b[0m\u001b[0;34m\u001b[0m\u001b[0;34m\u001b[0m\u001b[0m\n\u001b[1;32m    119\u001b[0m \u001b[0;34m\u001b[0m\u001b[0m\n",
      "\u001b[0;32m~/anaconda3/envs/quantumcircuits/lib/python3.7/site-packages/pennylane/_grad.py\u001b[0m in \u001b[0;36m__call__\u001b[0;34m(self, *args, **kwargs)\u001b[0m\n\u001b[1;32m    113\u001b[0m             \u001b[0;32mreturn\u001b[0m \u001b[0;34m(\u001b[0m\u001b[0;34m)\u001b[0m\u001b[0;34m\u001b[0m\u001b[0;34m\u001b[0m\u001b[0m\n\u001b[1;32m    114\u001b[0m \u001b[0;34m\u001b[0m\u001b[0m\n\u001b[0;32m--> 115\u001b[0;31m         \u001b[0mgrad_value\u001b[0m\u001b[0;34m,\u001b[0m \u001b[0mans\u001b[0m \u001b[0;34m=\u001b[0m \u001b[0mgrad_fn\u001b[0m\u001b[0;34m(\u001b[0m\u001b[0;34m*\u001b[0m\u001b[0margs\u001b[0m\u001b[0;34m,\u001b[0m \u001b[0;34m**\u001b[0m\u001b[0mkwargs\u001b[0m\u001b[0;34m)\u001b[0m\u001b[0;34m\u001b[0m\u001b[0;34m\u001b[0m\u001b[0m\n\u001b[0m\u001b[1;32m    116\u001b[0m         \u001b[0mself\u001b[0m\u001b[0;34m.\u001b[0m\u001b[0m_forward\u001b[0m \u001b[0;34m=\u001b[0m \u001b[0mans\u001b[0m\u001b[0;34m\u001b[0m\u001b[0;34m\u001b[0m\u001b[0m\n\u001b[1;32m    117\u001b[0m \u001b[0;34m\u001b[0m\u001b[0m\n",
      "\u001b[0;32m~/anaconda3/envs/quantumcircuits/lib/python3.7/site-packages/autograd/wrap_util.py\u001b[0m in \u001b[0;36mnary_f\u001b[0;34m(*args, **kwargs)\u001b[0m\n\u001b[1;32m     18\u001b[0m             \u001b[0;32melse\u001b[0m\u001b[0;34m:\u001b[0m\u001b[0;34m\u001b[0m\u001b[0;34m\u001b[0m\u001b[0m\n\u001b[1;32m     19\u001b[0m                 \u001b[0mx\u001b[0m \u001b[0;34m=\u001b[0m \u001b[0mtuple\u001b[0m\u001b[0;34m(\u001b[0m\u001b[0margs\u001b[0m\u001b[0;34m[\u001b[0m\u001b[0mi\u001b[0m\u001b[0;34m]\u001b[0m \u001b[0;32mfor\u001b[0m \u001b[0mi\u001b[0m \u001b[0;32min\u001b[0m \u001b[0margnum\u001b[0m\u001b[0;34m)\u001b[0m\u001b[0;34m\u001b[0m\u001b[0;34m\u001b[0m\u001b[0m\n\u001b[0;32m---> 20\u001b[0;31m             \u001b[0;32mreturn\u001b[0m \u001b[0munary_operator\u001b[0m\u001b[0;34m(\u001b[0m\u001b[0munary_f\u001b[0m\u001b[0;34m,\u001b[0m \u001b[0mx\u001b[0m\u001b[0;34m,\u001b[0m \u001b[0;34m*\u001b[0m\u001b[0mnary_op_args\u001b[0m\u001b[0;34m,\u001b[0m \u001b[0;34m**\u001b[0m\u001b[0mnary_op_kwargs\u001b[0m\u001b[0;34m)\u001b[0m\u001b[0;34m\u001b[0m\u001b[0;34m\u001b[0m\u001b[0m\n\u001b[0m\u001b[1;32m     21\u001b[0m         \u001b[0;32mreturn\u001b[0m \u001b[0mnary_f\u001b[0m\u001b[0;34m\u001b[0m\u001b[0;34m\u001b[0m\u001b[0m\n\u001b[1;32m     22\u001b[0m     \u001b[0;32mreturn\u001b[0m \u001b[0mnary_operator\u001b[0m\u001b[0;34m\u001b[0m\u001b[0;34m\u001b[0m\u001b[0m\n",
      "\u001b[0;32m~/anaconda3/envs/quantumcircuits/lib/python3.7/site-packages/pennylane/_grad.py\u001b[0m in \u001b[0;36m_grad_with_forward\u001b[0;34m(fun, x)\u001b[0m\n\u001b[1;32m    139\u001b[0m             )\n\u001b[1;32m    140\u001b[0m \u001b[0;34m\u001b[0m\u001b[0m\n\u001b[0;32m--> 141\u001b[0;31m         \u001b[0mgrad_value\u001b[0m \u001b[0;34m=\u001b[0m \u001b[0mvjp\u001b[0m\u001b[0;34m(\u001b[0m\u001b[0mvspace\u001b[0m\u001b[0;34m(\u001b[0m\u001b[0mans\u001b[0m\u001b[0;34m)\u001b[0m\u001b[0;34m.\u001b[0m\u001b[0mones\u001b[0m\u001b[0;34m(\u001b[0m\u001b[0;34m)\u001b[0m\u001b[0;34m)\u001b[0m\u001b[0;34m\u001b[0m\u001b[0;34m\u001b[0m\u001b[0m\n\u001b[0m\u001b[1;32m    142\u001b[0m         \u001b[0;32mreturn\u001b[0m \u001b[0mgrad_value\u001b[0m\u001b[0;34m,\u001b[0m \u001b[0mans\u001b[0m\u001b[0;34m\u001b[0m\u001b[0;34m\u001b[0m\u001b[0m\n\u001b[1;32m    143\u001b[0m \u001b[0;34m\u001b[0m\u001b[0m\n",
      "\u001b[0;32m~/anaconda3/envs/quantumcircuits/lib/python3.7/site-packages/autograd/core.py\u001b[0m in \u001b[0;36mvjp\u001b[0;34m(g)\u001b[0m\n\u001b[1;32m     12\u001b[0m         \u001b[0;32mdef\u001b[0m \u001b[0mvjp\u001b[0m\u001b[0;34m(\u001b[0m\u001b[0mg\u001b[0m\u001b[0;34m)\u001b[0m\u001b[0;34m:\u001b[0m \u001b[0;32mreturn\u001b[0m \u001b[0mvspace\u001b[0m\u001b[0;34m(\u001b[0m\u001b[0mx\u001b[0m\u001b[0;34m)\u001b[0m\u001b[0;34m.\u001b[0m\u001b[0mzeros\u001b[0m\u001b[0;34m(\u001b[0m\u001b[0;34m)\u001b[0m\u001b[0;34m\u001b[0m\u001b[0;34m\u001b[0m\u001b[0m\n\u001b[1;32m     13\u001b[0m     \u001b[0;32melse\u001b[0m\u001b[0;34m:\u001b[0m\u001b[0;34m\u001b[0m\u001b[0;34m\u001b[0m\u001b[0m\n\u001b[0;32m---> 14\u001b[0;31m         \u001b[0;32mdef\u001b[0m \u001b[0mvjp\u001b[0m\u001b[0;34m(\u001b[0m\u001b[0mg\u001b[0m\u001b[0;34m)\u001b[0m\u001b[0;34m:\u001b[0m \u001b[0;32mreturn\u001b[0m \u001b[0mbackward_pass\u001b[0m\u001b[0;34m(\u001b[0m\u001b[0mg\u001b[0m\u001b[0;34m,\u001b[0m \u001b[0mend_node\u001b[0m\u001b[0;34m)\u001b[0m\u001b[0;34m\u001b[0m\u001b[0;34m\u001b[0m\u001b[0m\n\u001b[0m\u001b[1;32m     15\u001b[0m     \u001b[0;32mreturn\u001b[0m \u001b[0mvjp\u001b[0m\u001b[0;34m,\u001b[0m \u001b[0mend_value\u001b[0m\u001b[0;34m\u001b[0m\u001b[0;34m\u001b[0m\u001b[0m\n\u001b[1;32m     16\u001b[0m \u001b[0;34m\u001b[0m\u001b[0m\n",
      "\u001b[0;32m~/anaconda3/envs/quantumcircuits/lib/python3.7/site-packages/autograd/core.py\u001b[0m in \u001b[0;36mbackward_pass\u001b[0;34m(g, end_node)\u001b[0m\n\u001b[1;32m     20\u001b[0m         \u001b[0moutgrad\u001b[0m \u001b[0;34m=\u001b[0m \u001b[0moutgrads\u001b[0m\u001b[0;34m.\u001b[0m\u001b[0mpop\u001b[0m\u001b[0;34m(\u001b[0m\u001b[0mnode\u001b[0m\u001b[0;34m)\u001b[0m\u001b[0;34m\u001b[0m\u001b[0;34m\u001b[0m\u001b[0m\n\u001b[1;32m     21\u001b[0m         \u001b[0mingrads\u001b[0m \u001b[0;34m=\u001b[0m \u001b[0mnode\u001b[0m\u001b[0;34m.\u001b[0m\u001b[0mvjp\u001b[0m\u001b[0;34m(\u001b[0m\u001b[0moutgrad\u001b[0m\u001b[0;34m[\u001b[0m\u001b[0;36m0\u001b[0m\u001b[0;34m]\u001b[0m\u001b[0;34m)\u001b[0m\u001b[0;34m\u001b[0m\u001b[0;34m\u001b[0m\u001b[0m\n\u001b[0;32m---> 22\u001b[0;31m         \u001b[0;32mfor\u001b[0m \u001b[0mparent\u001b[0m\u001b[0;34m,\u001b[0m \u001b[0mingrad\u001b[0m \u001b[0;32min\u001b[0m \u001b[0mzip\u001b[0m\u001b[0;34m(\u001b[0m\u001b[0mnode\u001b[0m\u001b[0;34m.\u001b[0m\u001b[0mparents\u001b[0m\u001b[0;34m,\u001b[0m \u001b[0mingrads\u001b[0m\u001b[0;34m)\u001b[0m\u001b[0;34m:\u001b[0m\u001b[0;34m\u001b[0m\u001b[0;34m\u001b[0m\u001b[0m\n\u001b[0m\u001b[1;32m     23\u001b[0m             \u001b[0moutgrads\u001b[0m\u001b[0;34m[\u001b[0m\u001b[0mparent\u001b[0m\u001b[0;34m]\u001b[0m \u001b[0;34m=\u001b[0m \u001b[0madd_outgrads\u001b[0m\u001b[0;34m(\u001b[0m\u001b[0moutgrads\u001b[0m\u001b[0;34m.\u001b[0m\u001b[0mget\u001b[0m\u001b[0;34m(\u001b[0m\u001b[0mparent\u001b[0m\u001b[0;34m)\u001b[0m\u001b[0;34m,\u001b[0m \u001b[0mingrad\u001b[0m\u001b[0;34m)\u001b[0m\u001b[0;34m\u001b[0m\u001b[0;34m\u001b[0m\u001b[0m\n\u001b[1;32m     24\u001b[0m     \u001b[0;32mreturn\u001b[0m \u001b[0moutgrad\u001b[0m\u001b[0;34m[\u001b[0m\u001b[0;36m0\u001b[0m\u001b[0;34m]\u001b[0m\u001b[0;34m\u001b[0m\u001b[0;34m\u001b[0m\u001b[0m\n",
      "\u001b[0;32m~/anaconda3/envs/quantumcircuits/lib/python3.7/site-packages/autograd/core.py\u001b[0m in \u001b[0;36m<genexpr>\u001b[0;34m(.0)\u001b[0m\n\u001b[1;32m     47\u001b[0m     \u001b[0;32mdef\u001b[0m \u001b[0mvjp_argnums\u001b[0m\u001b[0;34m(\u001b[0m\u001b[0margnums\u001b[0m\u001b[0;34m,\u001b[0m \u001b[0;34m*\u001b[0m\u001b[0margs\u001b[0m\u001b[0;34m)\u001b[0m\u001b[0;34m:\u001b[0m\u001b[0;34m\u001b[0m\u001b[0;34m\u001b[0m\u001b[0m\n\u001b[1;32m     48\u001b[0m         \u001b[0mvjps\u001b[0m \u001b[0;34m=\u001b[0m \u001b[0;34m[\u001b[0m\u001b[0mvjpmaker\u001b[0m\u001b[0;34m(\u001b[0m\u001b[0margnum\u001b[0m\u001b[0;34m,\u001b[0m \u001b[0;34m*\u001b[0m\u001b[0margs\u001b[0m\u001b[0;34m)\u001b[0m \u001b[0;32mfor\u001b[0m \u001b[0margnum\u001b[0m \u001b[0;32min\u001b[0m \u001b[0margnums\u001b[0m\u001b[0;34m]\u001b[0m\u001b[0;34m\u001b[0m\u001b[0;34m\u001b[0m\u001b[0m\n\u001b[0;32m---> 49\u001b[0;31m         \u001b[0;32mreturn\u001b[0m \u001b[0;32mlambda\u001b[0m \u001b[0mg\u001b[0m\u001b[0;34m:\u001b[0m \u001b[0;34m(\u001b[0m\u001b[0mvjp\u001b[0m\u001b[0;34m(\u001b[0m\u001b[0mg\u001b[0m\u001b[0;34m)\u001b[0m \u001b[0;32mfor\u001b[0m \u001b[0mvjp\u001b[0m \u001b[0;32min\u001b[0m \u001b[0mvjps\u001b[0m\u001b[0;34m)\u001b[0m\u001b[0;34m\u001b[0m\u001b[0;34m\u001b[0m\u001b[0m\n\u001b[0m\u001b[1;32m     50\u001b[0m     \u001b[0mdefvjp_argnums\u001b[0m\u001b[0;34m(\u001b[0m\u001b[0mfun\u001b[0m\u001b[0;34m,\u001b[0m \u001b[0mvjp_argnums\u001b[0m\u001b[0;34m)\u001b[0m\u001b[0;34m\u001b[0m\u001b[0;34m\u001b[0m\u001b[0m\n\u001b[1;32m     51\u001b[0m \u001b[0;34m\u001b[0m\u001b[0m\n",
      "\u001b[0;32m~/anaconda3/envs/quantumcircuits/lib/python3.7/site-packages/autograd/numpy/numpy_vjps.py\u001b[0m in \u001b[0;36mvjp\u001b[0;34m(g)\u001b[0m\n\u001b[1;32m    617\u001b[0m \u001b[0;34m\u001b[0m\u001b[0m\n\u001b[1;32m    618\u001b[0m             \u001b[0mnew_subscripts\u001b[0m \u001b[0;34m=\u001b[0m \u001b[0mnew_input_subs\u001b[0m \u001b[0;34m+\u001b[0m \u001b[0;34m'->'\u001b[0m \u001b[0;34m+\u001b[0m \u001b[0msubs_wrt\u001b[0m\u001b[0;34m\u001b[0m\u001b[0;34m\u001b[0m\u001b[0m\n\u001b[0;32m--> 619\u001b[0;31m             \u001b[0;32mreturn\u001b[0m \u001b[0munbroadcast\u001b[0m\u001b[0;34m(\u001b[0m\u001b[0manp\u001b[0m\u001b[0;34m.\u001b[0m\u001b[0meinsum\u001b[0m\u001b[0;34m(\u001b[0m\u001b[0mnew_subscripts\u001b[0m\u001b[0;34m,\u001b[0m \u001b[0;34m*\u001b[0m\u001b[0mnew_operands\u001b[0m\u001b[0;34m)\u001b[0m\u001b[0;34m,\u001b[0m \u001b[0mresult_meta\u001b[0m\u001b[0;34m)\u001b[0m\u001b[0;34m\u001b[0m\u001b[0;34m\u001b[0m\u001b[0m\n\u001b[0m\u001b[1;32m    620\u001b[0m         \u001b[0;32melse\u001b[0m\u001b[0;34m:\u001b[0m  \u001b[0;31m# using (op0, sublist0, op1, sublist1, ..., sublistout) convention\u001b[0m\u001b[0;34m\u001b[0m\u001b[0;34m\u001b[0m\u001b[0m\n\u001b[1;32m    621\u001b[0m             \u001b[0;32mif\u001b[0m \u001b[0mlen\u001b[0m\u001b[0;34m(\u001b[0m\u001b[0moperands\u001b[0m\u001b[0;34m)\u001b[0m \u001b[0;34m%\u001b[0m \u001b[0;36m2\u001b[0m \u001b[0;34m==\u001b[0m \u001b[0;36m0\u001b[0m\u001b[0;34m:\u001b[0m\u001b[0;34m\u001b[0m\u001b[0;34m\u001b[0m\u001b[0m\n",
      "\u001b[0;32m~/anaconda3/envs/quantumcircuits/lib/python3.7/site-packages/autograd/tracer.py\u001b[0m in \u001b[0;36mf_wrapped\u001b[0;34m(*args, **kwargs)\u001b[0m\n\u001b[1;32m     46\u001b[0m             \u001b[0;32mreturn\u001b[0m \u001b[0mnew_box\u001b[0m\u001b[0;34m(\u001b[0m\u001b[0mans\u001b[0m\u001b[0;34m,\u001b[0m \u001b[0mtrace\u001b[0m\u001b[0;34m,\u001b[0m \u001b[0mnode\u001b[0m\u001b[0;34m)\u001b[0m\u001b[0;34m\u001b[0m\u001b[0;34m\u001b[0m\u001b[0m\n\u001b[1;32m     47\u001b[0m         \u001b[0;32melse\u001b[0m\u001b[0;34m:\u001b[0m\u001b[0;34m\u001b[0m\u001b[0;34m\u001b[0m\u001b[0m\n\u001b[0;32m---> 48\u001b[0;31m             \u001b[0;32mreturn\u001b[0m \u001b[0mf_raw\u001b[0m\u001b[0;34m(\u001b[0m\u001b[0;34m*\u001b[0m\u001b[0margs\u001b[0m\u001b[0;34m,\u001b[0m \u001b[0;34m**\u001b[0m\u001b[0mkwargs\u001b[0m\u001b[0;34m)\u001b[0m\u001b[0;34m\u001b[0m\u001b[0;34m\u001b[0m\u001b[0m\n\u001b[0m\u001b[1;32m     49\u001b[0m     \u001b[0mf_wrapped\u001b[0m\u001b[0;34m.\u001b[0m\u001b[0mfun\u001b[0m \u001b[0;34m=\u001b[0m \u001b[0mf_raw\u001b[0m\u001b[0;34m\u001b[0m\u001b[0;34m\u001b[0m\u001b[0m\n\u001b[1;32m     50\u001b[0m     \u001b[0mf_wrapped\u001b[0m\u001b[0;34m.\u001b[0m\u001b[0m_is_autograd_primitive\u001b[0m \u001b[0;34m=\u001b[0m \u001b[0;32mTrue\u001b[0m\u001b[0;34m\u001b[0m\u001b[0;34m\u001b[0m\u001b[0m\n",
      "\u001b[0;32m<__array_function__ internals>\u001b[0m in \u001b[0;36meinsum\u001b[0;34m(*args, **kwargs)\u001b[0m\n",
      "\u001b[0;32m~/anaconda3/envs/quantumcircuits/lib/python3.7/site-packages/numpy/core/einsumfunc.py\u001b[0m in \u001b[0;36meinsum\u001b[0;34m(out, optimize, *operands, **kwargs)\u001b[0m\n\u001b[1;32m   1348\u001b[0m         \u001b[0;32mif\u001b[0m \u001b[0mspecified_out\u001b[0m\u001b[0;34m:\u001b[0m\u001b[0;34m\u001b[0m\u001b[0;34m\u001b[0m\u001b[0m\n\u001b[1;32m   1349\u001b[0m             \u001b[0mkwargs\u001b[0m\u001b[0;34m[\u001b[0m\u001b[0;34m'out'\u001b[0m\u001b[0;34m]\u001b[0m \u001b[0;34m=\u001b[0m \u001b[0mout\u001b[0m\u001b[0;34m\u001b[0m\u001b[0;34m\u001b[0m\u001b[0m\n\u001b[0;32m-> 1350\u001b[0;31m         \u001b[0;32mreturn\u001b[0m \u001b[0mc_einsum\u001b[0m\u001b[0;34m(\u001b[0m\u001b[0;34m*\u001b[0m\u001b[0moperands\u001b[0m\u001b[0;34m,\u001b[0m \u001b[0;34m**\u001b[0m\u001b[0mkwargs\u001b[0m\u001b[0;34m)\u001b[0m\u001b[0;34m\u001b[0m\u001b[0;34m\u001b[0m\u001b[0m\n\u001b[0m\u001b[1;32m   1351\u001b[0m \u001b[0;34m\u001b[0m\u001b[0m\n\u001b[1;32m   1352\u001b[0m     \u001b[0;31m# Check the kwargs to avoid a more cryptic error later, without having to\u001b[0m\u001b[0;34m\u001b[0m\u001b[0;34m\u001b[0m\u001b[0;34m\u001b[0m\u001b[0m\n",
      "\u001b[0;31mKeyboardInterrupt\u001b[0m: "
     ]
    }
   ],
   "source": [
    "opt = qml.GradientDescentOptimizer(stepsize=0.1)\n",
    "\n",
    "max_iterations = 500\n",
    "conv_tol = 1e-06\n",
    "\n",
    "init_params = [np.random.rand(8)*2*np.pi, np.random.rand(1,7,2)*2*np.pi]\n",
    "\n",
    "params = init_params\n",
    "\n",
    "cost = 0\n",
    "\n",
    "costs=[]\n",
    "paramses = []\n",
    "paramses.append(params)\n",
    "\n",
    "\n",
    "for n in range(max_iterations):\n",
    "    params, prev_cost = opt.step_and_cost(cost_fn, *params)\n",
    "    conv = np.abs(cost - prev_cost)\n",
    "    cost=prev_cost\n",
    "    costs.append(cost)\n",
    "    paramses.append(params)\n",
    "    \n",
    "    if n % 20 == 0:\n",
    "        print('Iteration = {:},  Cost = {:.8f}'.format(n, cost))\n",
    "\n",
    "    if conv <= conv_tol:\n",
    "        break\n",
    "    \n",
    "plt.rcParams['figure.figsize'] = [10,5]\n",
    "\n",
    "plt.plot(costs)"
   ]
  },
  {
   "cell_type": "code",
   "execution_count": 108,
   "metadata": {},
   "outputs": [],
   "source": [
    "open_pentagram_params = params"
   ]
  },
  {
   "cell_type": "code",
   "execution_count": 26,
   "metadata": {},
   "outputs": [],
   "source": [
    "def fidelity_open_pentagram(params):\n",
    "    @qml.qnode(qml.device('default.qubit', wires=8))\n",
    "    def open_pentagram(optimized_params):\n",
    "        qml.adjoint(qml.SimplifiedTwoDesign)(optimized_params[0], optimized_params[1],wires=range(8))\n",
    "        return qml.state()\n",
    "\n",
    "    open_pentagram_exact = np.array([ 0.00000000e+00,  0.00000000e+00,  0.00000000e+00,  0.00000000e+00,\n",
    "        0.00000000e+00,  2.00445933e-01, -2.00445933e-01,  0.00000000e+00,\n",
    "        0.00000000e+00, -2.00445933e-01,  2.00445933e-01,  0.00000000e+00,\n",
    "        0.00000000e+00,  0.00000000e+00,  0.00000000e+00,  0.00000000e+00,\n",
    "        0.00000000e+00,  0.00000000e+00,  0.00000000e+00,  2.31455027e-01,\n",
    "        0.00000000e+00, -1.15727512e-01, -1.15727512e-01,  0.00000000e+00,\n",
    "        0.00000000e+00, -1.15727512e-01, -1.15727512e-01,  0.00000000e+00,\n",
    "        2.31455027e-01,  0.00000000e+00,  0.00000000e+00,  0.00000000e+00,\n",
    "        0.00000000e+00,  0.00000000e+00,  0.00000000e+00,  0.00000000e+00,\n",
    "        0.00000000e+00,  3.44270058e-18,  3.44270058e-18,  0.00000000e+00,\n",
    "        0.00000000e+00, -3.44270058e-18, -3.44270058e-18,  0.00000000e+00,\n",
    "        0.00000000e+00,  0.00000000e+00,  0.00000000e+00,  0.00000000e+00,\n",
    "        0.00000000e+00,  0.00000000e+00,  0.00000000e+00,  2.08693648e-18,\n",
    "        0.00000000e+00,  1.83706729e-19, -1.83706729e-19,  0.00000000e+00,\n",
    "        0.00000000e+00,  1.83706729e-19, -1.83706729e-19,  0.00000000e+00,\n",
    "       -2.08693648e-18,  0.00000000e+00,  0.00000000e+00,  0.00000000e+00,\n",
    "        0.00000000e+00,  0.00000000e+00,  0.00000000e+00,  0.00000000e+00,\n",
    "        0.00000000e+00,  3.44270058e-18, -3.44270058e-18,  0.00000000e+00,\n",
    "        0.00000000e+00,  3.44270058e-18, -3.44270058e-18,  0.00000000e+00,\n",
    "        0.00000000e+00,  0.00000000e+00,  0.00000000e+00,  0.00000000e+00,\n",
    "        0.00000000e+00,  0.00000000e+00,  0.00000000e+00,  3.70899527e-18,\n",
    "        0.00000000e+00,  1.85449789e-18,  1.85449789e-18,  0.00000000e+00,\n",
    "        0.00000000e+00, -1.85449789e-18, -1.85449789e-18,  0.00000000e+00,\n",
    "       -3.70899527e-18,  0.00000000e+00,  0.00000000e+00,  0.00000000e+00,\n",
    "        0.00000000e+00,  0.00000000e+00,  0.00000000e+00, -1.33630622e-01,\n",
    "        0.00000000e+00,  6.68153089e-02,  6.68153089e-02,  0.00000000e+00,\n",
    "        0.00000000e+00,  6.68153089e-02,  6.68153089e-02,  0.00000000e+00,\n",
    "       -1.33630622e-01,  0.00000000e+00,  0.00000000e+00,  0.00000000e+00,\n",
    "        0.00000000e+00,  0.00000000e+00,  0.00000000e+00,  1.54303348e-01,\n",
    "        0.00000000e+00, -1.92879188e-01,  3.85758360e-02,  0.00000000e+00,\n",
    "        0.00000000e+00,  3.85758360e-02, -1.92879188e-01,  0.00000000e+00,\n",
    "        1.54303348e-01,  0.00000000e+00,  0.00000000e+00,  0.00000000e+00,\n",
    "        0.00000000e+00,  0.00000000e+00,  0.00000000e+00,  0.00000000e+00,\n",
    "        0.00000000e+00,  3.44270058e-18, -3.44270058e-18,  0.00000000e+00,\n",
    "        0.00000000e+00,  3.44270058e-18, -3.44270058e-18,  0.00000000e+00,\n",
    "        0.00000000e+00,  0.00000000e+00,  0.00000000e+00,  0.00000000e+00,\n",
    "        0.00000000e+00,  0.00000000e+00,  0.00000000e+00, -2.08693648e-18,\n",
    "        0.00000000e+00,  1.83706729e-19,  1.83706729e-19,  0.00000000e+00,\n",
    "        0.00000000e+00, -1.83706729e-19, -1.83706729e-19,  0.00000000e+00,\n",
    "        2.08693648e-18,  0.00000000e+00,  0.00000000e+00,  0.00000000e+00,\n",
    "        0.00000000e+00,  0.00000000e+00,  0.00000000e+00, -1.33630622e-01,\n",
    "        0.00000000e+00,  6.68153089e-02,  6.68153089e-02,  0.00000000e+00,\n",
    "        0.00000000e+00,  6.68153089e-02,  6.68153089e-02,  0.00000000e+00,\n",
    "       -1.33630622e-01,  0.00000000e+00,  0.00000000e+00,  0.00000000e+00,\n",
    "        0.00000000e+00,  0.00000000e+00,  0.00000000e+00, -1.54303348e-01,\n",
    "        0.00000000e+00, -3.85758360e-02,  1.92879188e-01,  0.00000000e+00,\n",
    "        0.00000000e+00,  1.92879188e-01, -3.85758360e-02,  0.00000000e+00,\n",
    "       -1.54303348e-01,  0.00000000e+00,  0.00000000e+00,  0.00000000e+00,\n",
    "        0.00000000e+00,  0.00000000e+00,  0.00000000e+00,  0.00000000e+00,\n",
    "        0.00000000e+00,  2.00445931e-01, -2.00445931e-01,  0.00000000e+00,\n",
    "        0.00000000e+00, -2.00445931e-01,  2.00445931e-01,  0.00000000e+00,\n",
    "        0.00000000e+00,  0.00000000e+00,  0.00000000e+00,  0.00000000e+00,\n",
    "        0.00000000e+00,  0.00000000e+00,  0.00000000e+00, -7.71516733e-02,\n",
    "        0.00000000e+00,  3.85758387e-02,  3.85758387e-02,  0.00000000e+00,\n",
    "        0.00000000e+00,  3.85758387e-02,  3.85758387e-02,  0.00000000e+00,\n",
    "       -7.71516733e-02,  0.00000000e+00,  0.00000000e+00,  0.00000000e+00,\n",
    "        0.00000000e+00,  0.00000000e+00,  0.00000000e+00, -1.54303349e-01,\n",
    "        0.00000000e+00,  7.71516746e-02,  7.71516746e-02,  0.00000000e+00,\n",
    "        0.00000000e+00,  7.71516746e-02,  7.71516746e-02,  0.00000000e+00,\n",
    "       -1.54303349e-01,  0.00000000e+00,  0.00000000e+00,  0.00000000e+00,\n",
    "        0.00000000e+00,  0.00000000e+00,  0.00000000e+00,  8.56420681e-18,\n",
    "        0.00000000e+00,  1.33630620e-01, -1.33630620e-01,  0.00000000e+00,\n",
    "        0.00000000e+00, -1.33630620e-01,  1.33630620e-01,  0.00000000e+00,\n",
    "        8.76428875e-18,  0.00000000e+00,  0.00000000e+00,  0.00000000e+00])\n",
    "    \n",
    "    return np.abs(np.dot(open_pentagram(params), open_pentagram_exact))"
   ]
  },
  {
   "attachments": {},
   "cell_type": "markdown",
   "metadata": {},
   "source": [
    "## Gluing two open pentagrams into decagram network"
   ]
  },
  {
   "attachments": {},
   "cell_type": "markdown",
   "metadata": {},
   "source": [
    "To glue two open pentagrams we need to use ansatz for open pentagram with optimized parameters."
   ]
  },
  {
   "cell_type": "code",
   "execution_count": 98,
   "metadata": {},
   "outputs": [],
   "source": [
    "dev16 = qml.device('default.qubit', wires=16)"
   ]
  },
  {
   "cell_type": "markdown",
   "metadata": {},
   "source": [
    "We construct circuit, Fig. 17"
   ]
  },
  {
   "cell_type": "code",
   "execution_count": 113,
   "metadata": {},
   "outputs": [],
   "source": [
    "@qml.qnode(dev16)\n",
    "def cost_circ(initial_layer_weights, weights):\n",
    "    open_pentagram_circ(open_pentagram_params, wires=range(8))\n",
    "    open_pentagram_circ(open_pentagram_params, wires=range(8,16))\n",
    "\n",
    "    qml.adjoint(W)([4,5,12,13])\n",
    "    qml.adjoint(W)([6,7,14,15])\n",
    "\n",
    "    qml.SimplifiedTwoDesign(initial_layer_weights, weights, wires=[0,1,2,3,4,6,8,9,10,11])\n",
    "        \n",
    "    return qml.probs(wires=range(16))"
   ]
  },
  {
   "cell_type": "code",
   "execution_count": 114,
   "metadata": {},
   "outputs": [],
   "source": [
    "def proj_probs(probs):\n",
    "    c = dict()\n",
    "    for i in range(len(probs)):\n",
    "        k=format(i,'016b')\n",
    "        if (k[5]+k[12]+k[13])=='000' and (k[7]+k[14]+k[15])=='000':\n",
    "            c[k[0:5]+k[6]+k[8]+k[9:12]] = probs[i]\n",
    "    return c[10*'0']/np.sum(list(c.values()))"
   ]
  },
  {
   "cell_type": "code",
   "execution_count": 115,
   "metadata": {},
   "outputs": [],
   "source": [
    "def cost_fn(initial_layer_weights, weights):\n",
    "    return 1-proj_probs(cost_circ(initial_layer_weights, weights))"
   ]
  },
  {
   "cell_type": "code",
   "execution_count": 116,
   "metadata": {},
   "outputs": [
    {
     "data": {
      "text/plain": [
       "tensor(0.9999754, requires_grad=True)"
      ]
     },
     "execution_count": 116,
     "metadata": {},
     "output_type": "execute_result"
    }
   ],
   "source": [
    "initial_layer_weights=np.random.rand(10)*2*np.pi\n",
    "weights=np.random.rand(1,9,2)*2*np.pi\n",
    "cost_fn(initial_layer_weights, weights)"
   ]
  },
  {
   "cell_type": "code",
   "execution_count": 118,
   "metadata": {},
   "outputs": [
    {
     "name": "stdout",
     "output_type": "stream",
     "text": [
      "Iteration = 0,  Cost = 0.99999970\n"
     ]
    },
    {
     "data": {
      "text/plain": [
       "[<matplotlib.lines.Line2D at 0x7f945427e590>]"
      ]
     },
     "execution_count": 118,
     "metadata": {},
     "output_type": "execute_result"
    },
    {
     "data": {
      "image/png": "[encoded data removed]",
      "text/plain": [
       "<Figure size 720x360 with 1 Axes>"
      ]
     },
     "metadata": {
      "needs_background": "light"
     },
     "output_type": "display_data"
    }
   ],
   "source": [
    "opt = qml.GradientDescentOptimizer(stepsize=0.1)\n",
    "\n",
    "max_iterations = 500\n",
    "conv_tol = 1e-06\n",
    "\n",
    "init_params = [np.random.rand(10)*2*np.pi, np.random.rand(1,9,2)*2*np.pi]\n",
    "\n",
    "params = init_params\n",
    "\n",
    "cost = 0\n",
    "\n",
    "costs=[]\n",
    "paramses = []\n",
    "paramses.append(params)\n",
    "\n",
    "\n",
    "for n in range(max_iterations):\n",
    "    params, prev_cost = opt.step_and_cost(cost_fn, *params)\n",
    "    conv = np.abs(cost - prev_cost)\n",
    "    cost=prev_cost\n",
    "    costs.append(cost)\n",
    "    paramses.append(params)\n",
    "    \n",
    "    if n % 20 == 0:\n",
    "        print('Iteration = {:},  Cost = {:.8f}'.format(n, cost))\n",
    "\n",
    "    if conv <= conv_tol:\n",
    "        break\n",
    "    \n",
    "plt.rcParams['figure.figsize'] = [10,5]\n",
    "\n",
    "plt.plot(costs)"
   ]
  },
  {
   "cell_type": "markdown",
   "metadata": {},
   "source": [
    "## Gluing two open nodes and four links into hexagram network"
   ]
  },
  {
   "cell_type": "code",
   "execution_count": 28,
   "metadata": {},
   "outputs": [],
   "source": [
    "dev18 = qml.device('default.qubit', wires=18)"
   ]
  },
  {
   "cell_type": "code",
   "execution_count": null,
   "metadata": {},
   "outputs": [],
   "source": [
    "@qml.qnode(dev18)\n",
    "def cost_circ(initial_layer_weights, weights):\n",
    "    node(node_params, wires=[0,1,2,3,4])\n",
    "    node(node_params, wires=[5,6,7,8,9])\n",
    "    \n",
    "    # link([1,2])\n",
    "    # link([3,4])\n",
    "    # link([1,4])\n",
    "    # link([2,3])\n",
    "    \n",
    "        \n",
    "    \n",
    "    # qml.adjoint(W)([0,1,2,3])\n",
    "\n",
    "    # qml.SimplifiedTwoDesign(initial_layer_weights, weights, wires=[0,4,5,6,7])\n",
    "        \n",
    "    return qml.probs(wires=range(18))"
   ]
  },
  {
   "cell_type": "code",
   "execution_count": null,
   "metadata": {},
   "outputs": [],
   "source": [
    "# def proj_probs(probs):\n",
    "#     c = dict()\n",
    "#     for i in range(len(probs)):\n",
    "#         k=format(i,'08b')\n",
    "#         if k[1:4]=='000':\n",
    "#             c[k[0]+k[4:]] = probs[i]\n",
    "#     return c['00000']/np.sum(list(c.values()))"
   ]
  },
  {
   "cell_type": "code",
   "execution_count": null,
   "metadata": {},
   "outputs": [],
   "source": [
    "def cost_fn(initial_layer_weights, weights):\n",
    "    return 1-proj_probs(cost_circ(initial_layer_weights, weights))"
   ]
  },
  {
   "cell_type": "code",
   "execution_count": null,
   "metadata": {},
   "outputs": [
    {
     "data": {
      "text/plain": [
       "tensor(0.99954651, requires_grad=True)"
      ]
     },
     "metadata": {},
     "output_type": "display_data"
    }
   ],
   "source": [
    "initial_layer_weights=np.random.rand(6)*2*np.pi\n",
    "weights=np.random.rand(1,5,2)*2*np.pi\n",
    "cost_fn(initial_layer_weights, weights)"
   ]
  },
  {
   "cell_type": "code",
   "execution_count": null,
   "metadata": {},
   "outputs": [
    {
     "name": "stdout",
     "output_type": "stream",
     "text": [
      "Iteration = 0,  Cost = 0.99992244\n",
      "Iteration = 20,  Cost = 0.52037750\n",
      "Iteration = 40,  Cost = 0.29561435\n",
      "Iteration = 60,  Cost = 0.17941566\n",
      "Iteration = 80,  Cost = 0.15849507\n",
      "Iteration = 100,  Cost = 0.09804664\n",
      "Iteration = 120,  Cost = 0.06543366\n",
      "Iteration = 140,  Cost = 0.05990671\n",
      "Iteration = 160,  Cost = 0.05915126\n"
     ]
    },
    {
     "data": {
      "text/plain": [
       "[<matplotlib.lines.Line2D at 0x7fb976c2e1d0>]"
      ]
     },
     "metadata": {},
     "output_type": "display_data"
    },
    {
     "data": {
      "image/png": "[encoded data removed]",
      "text/plain": [
       "<Figure size 720x360 with 1 Axes>"
      ]
     },
     "metadata": {},
     "output_type": "display_data"
    }
   ],
   "source": [
    "opt = qml.AdamOptimizer(stepsize=0.1)\n",
    "\n",
    "max_iterations = 500\n",
    "conv_tol = 1e-06\n",
    "\n",
    "init_params = [np.random.rand(6)*2*np.pi, np.random.rand(3,5,2)*2*np.pi]\n",
    "\n",
    "params = init_params\n",
    "\n",
    "cost = 0\n",
    "\n",
    "costs=[]\n",
    "paramses = []\n",
    "paramses.append(params)\n",
    "\n",
    "\n",
    "for n in range(max_iterations):\n",
    "    params, prev_cost = opt.step_and_cost(cost_fn, *params)\n",
    "    conv = np.abs(cost - prev_cost)\n",
    "    cost=prev_cost\n",
    "    costs.append(cost)\n",
    "    paramses.append(params)\n",
    "    \n",
    "    if n % 20 == 0:\n",
    "        print('Iteration = {:},  Cost = {:.8f}'.format(n, cost))\n",
    "\n",
    "    if conv <= conv_tol:\n",
    "        break\n",
    "    \n",
    "plt.rcParams['figure.figsize'] = [10,5]\n",
    "\n",
    "plt.plot(costs)"
   ]
  },
  {
   "cell_type": "code",
   "execution_count": null,
   "metadata": {},
   "outputs": [],
   "source": [
    "hexagram_params = params"
   ]
  },
  {
   "cell_type": "code",
   "execution_count": 27,
   "metadata": {},
   "outputs": [],
   "source": [
    "def fidelity_hexagram(params):\n",
    "    @qml.qnode(qml.device('default.qubit', wires=6))\n",
    "    def hexagram(optimized_params):\n",
    "        qml.adjoint(qml.SimplifiedTwoDesign)(optimized_params[0], optimized_params[1],wires=[0,1,2,3,4,5])\n",
    "        return qml.state()\n",
    "\n",
    "    hexagram_exact = np.array([-2.63342585e-01,  5.65370456e-19,  1.51490340e-19, -2.63342583e-01,\n",
    "        5.65370456e-19, -3.04551051e-18, -6.03377231e-20, -1.75092612e-18,\n",
    "       -1.51490340e-19,  6.03377231e-20, -1.21820390e-18,  3.22994982e-18,\n",
    "        6.03377231e-20,  1.52040910e-01,  1.52040910e-01,  1.75561720e-01,\n",
    "       -5.65370456e-19,  1.21820425e-18,  6.03377231e-20, -1.76234378e-18,\n",
    "        1.21820425e-18,  1.52040910e-01,  1.52040910e-01,  1.75561720e-01,\n",
    "       -2.63342583e-01, -2.41165196e-18, -4.53151247e-19, -2.63342580e-01,\n",
    "        1.84628143e-18,  1.75561720e-01,  1.75561720e-01,  2.02721212e-01,\n",
    "        5.65370456e-19, -3.04551051e-18, -6.03377231e-20, -1.60958351e-18,\n",
    "       -2.63342583e-01, -4.20645312e-19, -3.43688977e-18,  8.77808601e-02,\n",
    "        6.03377231e-20,  1.52040910e-01,  1.52040910e-01, -1.75561720e-01,\n",
    "       -3.87233526e-18,  1.75561720e-01, -1.75561720e-01,  3.45439101e-18,\n",
    "        1.21820425e-18,  1.52040910e-01,  1.52040910e-01, -1.75561720e-01,\n",
    "        4.20645312e-19, -1.75561720e-01,  1.75561720e-01, -2.46726461e-18,\n",
    "       -1.84628143e-18, -1.75561720e-01, -1.75561720e-01,  2.02721212e-01,\n",
    "        8.77808601e-02,  4.30589915e-18, -6.50422488e-18, -2.92602864e-02])\n",
    "    \n",
    "    return np.abs(np.dot(hexagram(params), hexagram_exact))"
   ]
  }
 ],
 "metadata": {
  "kernelspec": {
   "display_name": "quantumcircuits",
   "language": "python",
   "name": "python3"
  },
  "language_info": {
   "codemirror_mode": {
    "name": "ipython",
    "version": 3
   },
   "file_extension": ".py",
   "mimetype": "text/x-python",
   "name": "python",
   "nbconvert_exporter": "python",
   "pygments_lexer": "ipython3",
   "version": "3.7.4"
  },
  "orig_nbformat": 4,
  "vscode": {
   "interpreter": {
    "hash": "fe576ce98fb499882f842c59cda27c51aa23a4bc63f86e9b9e6ec5c10118d911"
   }
  }
 },
 "nbformat": 4,
 "nbformat_minor": 2
}
