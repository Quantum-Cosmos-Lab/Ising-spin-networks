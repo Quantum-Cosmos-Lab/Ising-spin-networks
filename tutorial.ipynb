{
 "cells": [
  {
   "attachments": {},
   "cell_type": "markdown",
   "metadata": {},
   "source": [
    "# Tutorial\n",
    "---\n",
    "Notebook contains explict constructions of circuits and functions for minimazation that are consider in article: *G. Czelusta, J. Mielczarek, **Quantum circuits for the Ising spin networks***\n",
    "\n",
    "We use **Penny Lane** Python library.\n",
    "\n",
    "All names used in this notebook are the same as in the  article and all references are refrences to the article."
   ]
  },
  {
   "cell_type": "code",
   "execution_count": 2,
   "metadata": {},
   "outputs": [],
   "source": [
    "import pennylane as qml\n",
    "from pennylane import numpy as np\n",
    "import matplotlib.pyplot as plt"
   ]
  },
  {
   "attachments": {},
   "cell_type": "markdown",
   "metadata": {},
   "source": [
    "# Closed networks from single links"
   ]
  },
  {
   "attachments": {},
   "cell_type": "markdown",
   "metadata": {},
   "source": [
    "First we construct quantum circuit representing operator $W$:"
   ]
  },
  {
   "cell_type": "code",
   "execution_count": 3,
   "metadata": {},
   "outputs": [],
   "source": [
    "def W(wires):\n",
    "    qml.PauliX(wires=wires[0])\n",
    "    qml.CNOT(wires=[wires[0],wires[1]])\n",
    "    qml.PauliX(wires=wires[1])\n",
    "    qml.CRY(2*np.arccos(1/np.sqrt(3)), wires=[wires[1],wires[0]])\n",
    "    qml.PauliX(wires=wires[1])\n",
    "    qml.CNOT(wires=[wires[0],wires[1]])\n",
    "    qml.Hadamard(wires=wires[0])\n",
    "    qml.T(wires=wires[0])\n",
    "    qml.adjoint(qml.T)(wires=wires[1])\n",
    "    qml.CNOT(wires=[wires[1],wires[0]])\n",
    "    qml.adjoint(qml.T)(wires=wires[0])\n",
    "    qml.Hadamard(wires=wires[0])\n",
    "    qml.CNOT(wires=[wires[0],wires[1]])\n",
    "    qml.T(wires=wires[0])\n",
    "    qml.adjoint(qml.T)(wires=wires[1])\n",
    "    qml.CNOT(wires=[wires[0],wires[2]])\n",
    "    qml.CNOT(wires=[wires[1],wires[3]])\n",
    "    qml.Hadamard(wires=wires[0])\n",
    "    qml.CNOT(wires=[wires[0],wires[1]])\n",
    "    qml.Hadamard(wires=wires[2])\n",
    "    qml.CNOT(wires=[wires[2],wires[3]])"
   ]
  },
  {
   "attachments": {},
   "cell_type": "markdown",
   "metadata": {},
   "source": [
    "then we construct quantum circuit wich construct state of single link, in the article we use singlet states, but you can choose arbitrary states\n",
    "$$|\\mathcal{B},\\frac{1}{2}\\rangle=\\frac{1}{\\sqrt{2}}\\left(|01\\rangle-|10\\rangle\\right)$$"
   ]
  },
  {
   "cell_type": "code",
   "execution_count": 4,
   "metadata": {},
   "outputs": [],
   "source": [
    "def link(wires):\n",
    "    qml.PauliX(wires=wires[0])\n",
    "    qml.PauliX(wires=wires[1])\n",
    "    qml.Hadamard(wires=wires[0])\n",
    "    qml.CNOT(wires=[wires[0], wires[1]])"
   ]
  },
  {
   "cell_type": "markdown",
   "metadata": {},
   "source": [
    "## Dipole"
   ]
  },
  {
   "attachments": {},
   "cell_type": "markdown",
   "metadata": {},
   "source": [
    "Here we construct dipole state using four links:\n",
    "\n",
    "$$|\\Gamma_2,\\mathcal{B},\\frac{1}{2}\\rangle=P_\\Gamma\\otimes_{l\\in\\Gamma_2}|\\mathcal{B},\\frac{1}{2}\\rangle=\\frac{1}{\\sqrt{2}}\\left(|\\iota_0\\iota_0\\rangle+|\\iota_1\\iota_1\\rangle\\right)$$\n",
    "\n",
    "we need 8 qubits"
   ]
  },
  {
   "cell_type": "code",
   "execution_count": 5,
   "metadata": {},
   "outputs": [],
   "source": [
    "dev8 = qml.device('lightning.qubit', wires=8, shots=20000) # we use simulator 'lightning.qubit', you can choose for example 'default.qubit'\n",
    "# dev8 = qml.device('lightning.qubit', wires=8) # you can also omit 'shots=' and then obtain results without statistical noise simulated"
   ]
  },
  {
   "cell_type": "markdown",
   "metadata": {},
   "source": [
    "then we construct circuit Fig.9"
   ]
  },
  {
   "cell_type": "code",
   "execution_count": 6,
   "metadata": {},
   "outputs": [],
   "source": [
    "# @qml.qnode(dev8) # you can omit 'diff_method=', or choose other, to use faster but non-comaptible with real quantum devices methods\n",
    "@qml.qnode(dev8, diff_method=\"parameter-shift\")\n",
    "def cost_circ(initial_layer_weights, weights):\n",
    "    link([0,4])\n",
    "    link([1,5])\n",
    "    link([2,6])\n",
    "    link([3,7])\n",
    "\n",
    "    qml.adjoint(W)([0,1,2,3])\n",
    "    qml.adjoint(W)([4,5,6,7])\n",
    "\n",
    "    qml.SimplifiedTwoDesign(initial_layer_weights, weights, wires=[0,4])\n",
    "        \n",
    "    return qml.probs(wires=range(8))"
   ]
  },
  {
   "attachments": {},
   "cell_type": "markdown",
   "metadata": {},
   "source": [
    "Here we define function which post-selects measurements to obtain projected state"
   ]
  },
  {
   "cell_type": "code",
   "execution_count": 7,
   "metadata": {},
   "outputs": [],
   "source": [
    "def proj_probs(probs):\n",
    "    c = dict()\n",
    "    for i in range(len(probs)):\n",
    "        k=format(i,'08b')\n",
    "        if k[1:4]=='000' and k[5:8]=='000':\n",
    "            c[k[0]+k[4]] = probs[i]\n",
    "    return c['00']/np.sum(list(c.values()))"
   ]
  },
  {
   "attachments": {},
   "cell_type": "markdown",
   "metadata": {},
   "source": [
    "We define cost function, Eq. 21"
   ]
  },
  {
   "cell_type": "code",
   "execution_count": 8,
   "metadata": {},
   "outputs": [],
   "source": [
    "def cost_fn(initial_layer_weights, weights):\n",
    "    return 1-proj_probs(cost_circ(initial_layer_weights, weights))"
   ]
  },
  {
   "attachments": {},
   "cell_type": "markdown",
   "metadata": {},
   "source": [
    "We can check cost function on some random parameters.\n",
    "\n",
    "Variable ```initial_layer_weights``` needs to have shape $(N)$, where $N$ is number of qubits in anstaz, in this case $N=2$.\n",
    "\n",
    "Variable ```weights``` needs to have shape $(L,N-1,2)$, where $L$ is number of layers in ansatz, $N$ is number of qubits in anstaz, in this case $L=1$, $N=2$.\n",
    "\n",
    "For more details, see Fig. 8 and documentation of ```SimplifiedTwoDesign```."
   ]
  },
  {
   "cell_type": "code",
   "execution_count": 9,
   "metadata": {},
   "outputs": [
    {
     "data": {
      "text/plain": [
       "tensor(0.99839744, requires_grad=True)"
      ]
     },
     "execution_count": 9,
     "metadata": {},
     "output_type": "execute_result"
    }
   ],
   "source": [
    "initial_layer_weights=np.random.rand(2)*2*np.pi\n",
    "weights=np.random.rand(1,1,2)*2*np.pi\n",
    "cost_fn(initial_layer_weights, weights)"
   ]
  },
  {
   "attachments": {},
   "cell_type": "markdown",
   "metadata": {},
   "source": [
    "Then we can optimize our ansatz. We choose classical optimizer, here ```AdamOptimizer```, maximal number of iteration in optimization loop, here $100$ and converge tolerance, here $10^{-6}$. We initialize parameters randomly. At the end we plot history of cost function during minimalization."
   ]
  },
  {
   "cell_type": "code",
   "execution_count": 10,
   "metadata": {},
   "outputs": [
    {
     "name": "stdout",
     "output_type": "stream",
     "text": [
      "Iteration = 0,  Cost = 0.98661800\n",
      "Iteration = 20,  Cost = 0.09498355\n"
     ]
    },
    {
     "data": {
      "text/plain": [
       "[<matplotlib.lines.Line2D at 0x7f57a6641a50>]"
      ]
     },
     "execution_count": 10,
     "metadata": {},
     "output_type": "execute_result"
    },
    {
     "data": {
      "image/png": "[encoded data removed]",
      "text/plain": [
       "<Figure size 432x288 with 1 Axes>"
      ]
     },
     "metadata": {
      "needs_background": "light"
     },
     "output_type": "display_data"
    }
   ],
   "source": [
    "opt = qml.AdamOptimizer(stepsize=0.1)\n",
    "\n",
    "max_iterations = 100\n",
    "conv_tol = 1e-06\n",
    "\n",
    "init_params = [np.random.rand(2)*2*np.pi, np.random.rand(1,1,2)*2*np.pi]\n",
    "\n",
    "params = init_params\n",
    "\n",
    "cost = 0\n",
    "\n",
    "costs=[]\n",
    "paramses = []\n",
    "paramses.append(params)\n",
    "\n",
    "\n",
    "for n in range(max_iterations):\n",
    "    params, prev_cost = opt.step_and_cost(cost_fn, *params)\n",
    "    conv = np.abs(cost - prev_cost)\n",
    "    cost=prev_cost\n",
    "    costs.append(cost)\n",
    "    paramses.append(params)\n",
    "    \n",
    "    if n % 20 == 0:\n",
    "        print('Iteration = {:},  Cost = {:.8f}'.format(n, cost))\n",
    "\n",
    "    if conv <= conv_tol:\n",
    "        break\n",
    "    \n",
    "plt.rcParams['figure.figsize'] = [10,5]\n",
    "\n",
    "plt.plot(costs)"
   ]
  },
  {
   "attachments": {},
   "cell_type": "markdown",
   "metadata": {},
   "source": [
    "We can now compute fidelity of obtained state. We execute ansatz with optimized parameters and check if it reproduces dipole state:"
   ]
  },
  {
   "cell_type": "code",
   "execution_count": 16,
   "metadata": {},
   "outputs": [],
   "source": [
    "def fidelity_dipole(params):\n",
    "    @qml.qnode(qml.device('lightning.qubit', wires=2))\n",
    "    def dipole(optimized_params):\n",
    "        qml.adjoint(qml.SimplifiedTwoDesign)(optimized_params[0], optimized_params[1],wires=[0,1])\n",
    "        return qml.state()\n",
    "\n",
    "    dipole_exact = [1/np.sqrt(2),0,0,1/np.sqrt(2)]\n",
    "\n",
    "    return np.abs(np.dot(dipole(params), dipole_exact))"
   ]
  },
  {
   "cell_type": "code",
   "execution_count": 14,
   "metadata": {},
   "outputs": [],
   "source": [
    "dipole_params = params"
   ]
  },
  {
   "cell_type": "code",
   "execution_count": 17,
   "metadata": {},
   "outputs": [
    {
     "data": {
      "text/plain": [
       "0.9939487603661952"
      ]
     },
     "execution_count": 17,
     "metadata": {},
     "output_type": "execute_result"
    }
   ],
   "source": [
    "fidelity_dipole(dipole_params)"
   ]
  },
  {
   "attachments": {},
   "cell_type": "markdown",
   "metadata": {},
   "source": [
    "In similar way we can construct states for larger spin netorks. But construction starting from single links is not the most optimal one. Therefore, er show construction by gluing spin networks."
   ]
  },
  {
   "attachments": {},
   "cell_type": "markdown",
   "metadata": {},
   "source": [
    "## Pentagram"
   ]
  },
  {
   "attachments": {},
   "cell_type": "markdown",
   "metadata": {},
   "source": [
    "Very similar steps lead to pentagram network. Now we need 10 links connected according to ```pentagram_links```, we need 5 operators $W^\\dagger$ and 5-qubit ansatz."
   ]
  },
  {
   "cell_type": "code",
   "execution_count": 8,
   "metadata": {},
   "outputs": [],
   "source": [
    "dev20 = qml.device('default.qubit', wires=20)"
   ]
  },
  {
   "cell_type": "code",
   "execution_count": 9,
   "metadata": {},
   "outputs": [],
   "source": [
    "pentagram_links = [[0,4],[1,8],[2,12],[3,16],[5,9],[6,13],[7,17],[10,14],[11,18],[15,19]]"
   ]
  },
  {
   "cell_type": "code",
   "execution_count": 10,
   "metadata": {},
   "outputs": [],
   "source": [
    "@qml.qnode(dev20)\n",
    "def cost_circ(initial_layer_weights, weights):\n",
    "    for l in pentagram_links:\n",
    "        link(l)\n",
    "\n",
    "    for i in range(5):\n",
    "        qml.adjoint(W)(range(4*i,4*(i+1)))\n",
    "\n",
    "    qml.SimplifiedTwoDesign(initial_layer_weights, weights, wires=[0,4,8,12,16])\n",
    "        \n",
    "    return qml.probs(wires=range(20))"
   ]
  },
  {
   "cell_type": "code",
   "execution_count": 11,
   "metadata": {},
   "outputs": [],
   "source": [
    "def proj_probs(probs):\n",
    "    c = dict()\n",
    "    for i in range(len(probs)):\n",
    "        k=format(i,'020b')\n",
    "        if k[1:4]=='000' and k[5:8]=='000' and k[9:12]=='000' and k[13:16]=='000' and k[17:20]=='000':\n",
    "            c[k[0]+k[4]+k[8]+k[12]+k[16]] = probs[i]\n",
    "    return c['00000']/np.sum(list(c.values()))"
   ]
  },
  {
   "cell_type": "code",
   "execution_count": 12,
   "metadata": {},
   "outputs": [],
   "source": [
    "def cost_fn(initial_layer_weights, weights):\n",
    "    return 1-proj_probs(cost_circ(initial_layer_weights, weights))"
   ]
  },
  {
   "cell_type": "code",
   "execution_count": 13,
   "metadata": {},
   "outputs": [
    {
     "data": {
      "text/plain": [
       "tensor(0.99987436, requires_grad=True)"
      ]
     },
     "execution_count": 13,
     "metadata": {},
     "output_type": "execute_result"
    }
   ],
   "source": [
    "initial_layer_weights=np.random.rand(5)*2*np.pi\n",
    "weights=np.random.rand(1,4,2)*2*np.pi\n",
    "cost_fn(initial_layer_weights, weights)"
   ]
  },
  {
   "cell_type": "code",
   "execution_count": 20,
   "metadata": {},
   "outputs": [
    {
     "name": "stdout",
     "output_type": "stream",
     "text": [
      "Iteration = 0,  Cost = 0.99711557\n",
      "Iteration = 20,  Cost = 0.37846557\n",
      "Iteration = 40,  Cost = 0.29017491\n",
      "Iteration = 60,  Cost = 0.08489050\n",
      "Iteration = 80,  Cost = 0.03805956\n",
      "Iteration = 100,  Cost = 0.02419218\n",
      "Iteration = 120,  Cost = 0.00907390\n",
      "Iteration = 140,  Cost = 0.00817245\n"
     ]
    },
    {
     "data": {
      "text/plain": [
       "[<matplotlib.lines.Line2D at 0x7f77c35f9a90>]"
      ]
     },
     "execution_count": 20,
     "metadata": {},
     "output_type": "execute_result"
    },
    {
     "data": {
      "image/png": "[encoded data removed]",
      "text/plain": [
       "<Figure size 720x360 with 1 Axes>"
      ]
     },
     "metadata": {
      "needs_background": "light"
     },
     "output_type": "display_data"
    }
   ],
   "source": [
    "opt = qml.AdamOptimizer(stepsize=0.1)\n",
    "\n",
    "max_iterations = 500\n",
    "conv_tol = 1e-06\n",
    "\n",
    "init_params = [np.random.rand(5)*2*np.pi, np.random.rand(3,4,2)*2*np.pi]\n",
    "\n",
    "params = init_params\n",
    "\n",
    "cost = 0\n",
    "\n",
    "costs=[]\n",
    "paramses = []\n",
    "paramses.append(params)\n",
    "\n",
    "\n",
    "for n in range(max_iterations):\n",
    "    params, prev_cost = opt.step_and_cost(cost_fn, *params)\n",
    "    conv = np.abs(cost - prev_cost)\n",
    "    cost=prev_cost\n",
    "    costs.append(cost)\n",
    "    paramses.append(params)\n",
    "    \n",
    "    if n % 20 == 0:\n",
    "        print('Iteration = {:},  Cost = {:.8f}'.format(n, cost))\n",
    "\n",
    "    if conv <= conv_tol:\n",
    "        break\n",
    "    \n",
    "plt.rcParams['figure.figsize'] = [10,5]\n",
    "\n",
    "plt.plot(costs)"
   ]
  },
  {
   "cell_type": "code",
   "execution_count": 26,
   "metadata": {},
   "outputs": [
    {
     "data": {
      "text/plain": [
       "0.007953895910441933"
      ]
     },
     "execution_count": 26,
     "metadata": {},
     "output_type": "execute_result"
    }
   ],
   "source": [
    "costs[-1]"
   ]
  },
  {
   "cell_type": "code",
   "execution_count": 21,
   "metadata": {},
   "outputs": [],
   "source": [
    "dev5 = qml.device('default.qubit', wires=5)"
   ]
  },
  {
   "cell_type": "code",
   "execution_count": 22,
   "metadata": {},
   "outputs": [],
   "source": [
    "@qml.qnode(dev5)\n",
    "def pentagram(optimized_params):\n",
    "    qml.adjoint(qml.SimplifiedTwoDesign)(optimized_params[0], optimized_params[1],wires=range(5))\n",
    "    return qml.state()"
   ]
  },
  {
   "cell_type": "code",
   "execution_count": 23,
   "metadata": {},
   "outputs": [
    {
     "data": {
      "text/plain": [
       "tensor([ 0.38173425+0.j, -0.00929067+0.j, -0.01804923+0.j,\n",
       "         0.40936991+0.j,  0.03151203+0.j, -0.01042196+0.j,\n",
       "         0.01519517+0.j,  0.00628369+0.j, -0.0051039 +0.j,\n",
       "         0.00754334+0.j, -0.02596306+0.j,  0.00371136+0.j,\n",
       "        -0.03806279+0.j, -0.22259474+0.j, -0.25553824+0.j,\n",
       "         0.24194752+0.j, -0.00887507+0.j,  0.0043533 +0.j,\n",
       "        -0.01164118+0.j, -0.01122513+0.j, -0.01085522+0.j,\n",
       "        -0.24808501+0.j, -0.23454355+0.j, -0.26667178+0.j,\n",
       "         0.3952221 +0.j,  0.01533096+0.j,  0.00772909+0.j,\n",
       "        -0.15028288+0.j, -0.02391893+0.j, -0.26115278+0.j,\n",
       "         0.27029672+0.j, -0.01560614+0.j], requires_grad=True)"
      ]
     },
     "execution_count": 23,
     "metadata": {},
     "output_type": "execute_result"
    }
   ],
   "source": [
    "pentagram(params)"
   ]
  },
  {
   "cell_type": "code",
   "execution_count": 24,
   "metadata": {},
   "outputs": [],
   "source": [
    "pentagram_exact = 1/np.sqrt(14)*np.array([3/2,0,0,3/2,0,0,0,0,0,0,0,0,0,-np.sqrt(3)/2,-np.sqrt(3)/2,1,0,0,0,0,0,-np.sqrt(3)/2,-np.sqrt(3)/2,-1,3/2,0,0,-1/2,0,-1,1,0])"
   ]
  },
  {
   "cell_type": "code",
   "execution_count": 25,
   "metadata": {},
   "outputs": [
    {
     "data": {
      "text/plain": [
       "(0.9960141042504967+0j)"
      ]
     },
     "execution_count": 25,
     "metadata": {},
     "output_type": "execute_result"
    }
   ],
   "source": [
    "np.dot(pentagram(params), pentagram_exact)"
   ]
  },
  {
   "cell_type": "markdown",
   "metadata": {},
   "source": [
    "# Gluing open networks"
   ]
  },
  {
   "attachments": {},
   "cell_type": "markdown",
   "metadata": {},
   "source": [
    "## Open pentagram, i.e. 4-node network with four open links"
   ]
  },
  {
   "attachments": {},
   "cell_type": "markdown",
   "metadata": {},
   "source": [
    "Similarly we prepare open pentagram by ommiting one of $W^\\dagger$."
   ]
  },
  {
   "cell_type": "code",
   "execution_count": 89,
   "metadata": {},
   "outputs": [],
   "source": [
    "@qml.qnode(dev20)\n",
    "def cost_circ(initial_layer_weights, weights):\n",
    "    for l in pentagram_links:\n",
    "        link(l)\n",
    "\n",
    "    for i in range(4):\n",
    "        qml.adjoint(W)(range(4*i,4*(i+1)))\n",
    "\n",
    "    qml.SimplifiedTwoDesign(initial_layer_weights, weights, wires=[0,4,8,12,16,17,18,19])\n",
    "        \n",
    "    return qml.probs(wires=range(20))"
   ]
  },
  {
   "cell_type": "code",
   "execution_count": 90,
   "metadata": {},
   "outputs": [],
   "source": [
    "def proj_probs(probs):\n",
    "    c = dict()\n",
    "    for i in range(len(probs)):\n",
    "        k=format(i,'020b')\n",
    "        if k[1:4]=='000' and k[5:8]=='000' and k[9:12]=='000' and k[13:16]=='000':\n",
    "            c[k[0]+k[4]+k[8]+k[12]+k[16:]] = probs[i]\n",
    "    return c['00000000']/np.sum(list(c.values()))"
   ]
  },
  {
   "cell_type": "code",
   "execution_count": 91,
   "metadata": {},
   "outputs": [],
   "source": [
    "def cost_fn(initial_layer_weights, weights):\n",
    "    return 1-proj_probs(cost_circ(initial_layer_weights, weights))"
   ]
  },
  {
   "cell_type": "code",
   "execution_count": 92,
   "metadata": {},
   "outputs": [
    {
     "data": {
      "text/plain": [
       "tensor(0.99248964, requires_grad=True)"
      ]
     },
     "execution_count": 92,
     "metadata": {},
     "output_type": "execute_result"
    }
   ],
   "source": [
    "initial_layer_weights=np.random.rand(8)*2*np.pi\n",
    "weights=np.random.rand(1,7,2)*2*np.pi\n",
    "cost_fn(initial_layer_weights, weights)"
   ]
  },
  {
   "cell_type": "code",
   "execution_count": 94,
   "metadata": {},
   "outputs": [
    {
     "name": "stdout",
     "output_type": "stream",
     "text": [
      "Iteration = 0,  Cost = 0.99857045\n"
     ]
    },
    {
     "ename": "KeyboardInterrupt",
     "evalue": "",
     "output_type": "error",
     "traceback": [
      "\u001b[0;31m---------------------------------------------------------------------------\u001b[0m",
      "\u001b[0;31mKeyboardInterrupt\u001b[0m                         Traceback (most recent call last)",
      "\u001b[0;32m<ipython-input-94-f3d1d5708078>\u001b[0m in \u001b[0;36m<module>\u001b[0;34m\u001b[0m\n\u001b[1;32m     16\u001b[0m \u001b[0;34m\u001b[0m\u001b[0m\n\u001b[1;32m     17\u001b[0m \u001b[0;32mfor\u001b[0m \u001b[0mn\u001b[0m \u001b[0;32min\u001b[0m \u001b[0mrange\u001b[0m\u001b[0;34m(\u001b[0m\u001b[0mmax_iterations\u001b[0m\u001b[0;34m)\u001b[0m\u001b[0;34m:\u001b[0m\u001b[0;34m\u001b[0m\u001b[0;34m\u001b[0m\u001b[0m\n\u001b[0;32m---> 18\u001b[0;31m     \u001b[0mparams\u001b[0m\u001b[0;34m,\u001b[0m \u001b[0mprev_cost\u001b[0m \u001b[0;34m=\u001b[0m \u001b[0mopt\u001b[0m\u001b[0;34m.\u001b[0m\u001b[0mstep_and_cost\u001b[0m\u001b[0;34m(\u001b[0m\u001b[0mcost_fn\u001b[0m\u001b[0;34m,\u001b[0m \u001b[0;34m*\u001b[0m\u001b[0mparams\u001b[0m\u001b[0;34m)\u001b[0m\u001b[0;34m\u001b[0m\u001b[0;34m\u001b[0m\u001b[0m\n\u001b[0m\u001b[1;32m     19\u001b[0m     \u001b[0mconv\u001b[0m \u001b[0;34m=\u001b[0m \u001b[0mnp\u001b[0m\u001b[0;34m.\u001b[0m\u001b[0mabs\u001b[0m\u001b[0;34m(\u001b[0m\u001b[0mcost\u001b[0m \u001b[0;34m-\u001b[0m \u001b[0mprev_cost\u001b[0m\u001b[0;34m)\u001b[0m\u001b[0;34m\u001b[0m\u001b[0;34m\u001b[0m\u001b[0m\n\u001b[1;32m     20\u001b[0m     \u001b[0mcost\u001b[0m\u001b[0;34m=\u001b[0m\u001b[0mprev_cost\u001b[0m\u001b[0;34m\u001b[0m\u001b[0;34m\u001b[0m\u001b[0m\n",
      "\u001b[0;32m~/anaconda3/envs/quantumcircuits/lib/python3.7/site-packages/pennylane/optimize/gradient_descent.py\u001b[0m in \u001b[0;36mstep_and_cost\u001b[0;34m(self, objective_fn, grad_fn, *args, **kwargs)\u001b[0m\n\u001b[1;32m     57\u001b[0m         \"\"\"\n\u001b[1;32m     58\u001b[0m \u001b[0;34m\u001b[0m\u001b[0m\n\u001b[0;32m---> 59\u001b[0;31m         \u001b[0mg\u001b[0m\u001b[0;34m,\u001b[0m \u001b[0mforward\u001b[0m \u001b[0;34m=\u001b[0m \u001b[0mself\u001b[0m\u001b[0;34m.\u001b[0m\u001b[0mcompute_grad\u001b[0m\u001b[0;34m(\u001b[0m\u001b[0mobjective_fn\u001b[0m\u001b[0;34m,\u001b[0m \u001b[0margs\u001b[0m\u001b[0;34m,\u001b[0m \u001b[0mkwargs\u001b[0m\u001b[0;34m,\u001b[0m \u001b[0mgrad_fn\u001b[0m\u001b[0;34m=\u001b[0m\u001b[0mgrad_fn\u001b[0m\u001b[0;34m)\u001b[0m\u001b[0;34m\u001b[0m\u001b[0;34m\u001b[0m\u001b[0m\n\u001b[0m\u001b[1;32m     60\u001b[0m         \u001b[0mnew_args\u001b[0m \u001b[0;34m=\u001b[0m \u001b[0mself\u001b[0m\u001b[0;34m.\u001b[0m\u001b[0mapply_grad\u001b[0m\u001b[0;34m(\u001b[0m\u001b[0mg\u001b[0m\u001b[0;34m,\u001b[0m \u001b[0margs\u001b[0m\u001b[0;34m)\u001b[0m\u001b[0;34m\u001b[0m\u001b[0;34m\u001b[0m\u001b[0m\n\u001b[1;32m     61\u001b[0m \u001b[0;34m\u001b[0m\u001b[0m\n",
      "\u001b[0;32m~/anaconda3/envs/quantumcircuits/lib/python3.7/site-packages/pennylane/optimize/gradient_descent.py\u001b[0m in \u001b[0;36mcompute_grad\u001b[0;34m(objective_fn, args, kwargs, grad_fn)\u001b[0m\n\u001b[1;32m    115\u001b[0m         \"\"\"\n\u001b[1;32m    116\u001b[0m         \u001b[0mg\u001b[0m \u001b[0;34m=\u001b[0m \u001b[0mget_gradient\u001b[0m\u001b[0;34m(\u001b[0m\u001b[0mobjective_fn\u001b[0m\u001b[0;34m)\u001b[0m \u001b[0;32mif\u001b[0m \u001b[0mgrad_fn\u001b[0m \u001b[0;32mis\u001b[0m \u001b[0;32mNone\u001b[0m \u001b[0;32melse\u001b[0m \u001b[0mgrad_fn\u001b[0m\u001b[0;34m\u001b[0m\u001b[0;34m\u001b[0m\u001b[0m\n\u001b[0;32m--> 117\u001b[0;31m         \u001b[0mgrad\u001b[0m \u001b[0;34m=\u001b[0m \u001b[0mg\u001b[0m\u001b[0;34m(\u001b[0m\u001b[0;34m*\u001b[0m\u001b[0margs\u001b[0m\u001b[0;34m,\u001b[0m \u001b[0;34m**\u001b[0m\u001b[0mkwargs\u001b[0m\u001b[0;34m)\u001b[0m\u001b[0;34m\u001b[0m\u001b[0;34m\u001b[0m\u001b[0m\n\u001b[0m\u001b[1;32m    118\u001b[0m         \u001b[0mforward\u001b[0m \u001b[0;34m=\u001b[0m \u001b[0mgetattr\u001b[0m\u001b[0;34m(\u001b[0m\u001b[0mg\u001b[0m\u001b[0;34m,\u001b[0m \u001b[0;34m\"forward\"\u001b[0m\u001b[0;34m,\u001b[0m \u001b[0;32mNone\u001b[0m\u001b[0;34m)\u001b[0m\u001b[0;34m\u001b[0m\u001b[0;34m\u001b[0m\u001b[0m\n\u001b[1;32m    119\u001b[0m \u001b[0;34m\u001b[0m\u001b[0m\n",
      "\u001b[0;32m~/anaconda3/envs/quantumcircuits/lib/python3.7/site-packages/pennylane/_grad.py\u001b[0m in \u001b[0;36m__call__\u001b[0;34m(self, *args, **kwargs)\u001b[0m\n\u001b[1;32m    113\u001b[0m             \u001b[0;32mreturn\u001b[0m \u001b[0;34m(\u001b[0m\u001b[0;34m)\u001b[0m\u001b[0;34m\u001b[0m\u001b[0;34m\u001b[0m\u001b[0m\n\u001b[1;32m    114\u001b[0m \u001b[0;34m\u001b[0m\u001b[0m\n\u001b[0;32m--> 115\u001b[0;31m         \u001b[0mgrad_value\u001b[0m\u001b[0;34m,\u001b[0m \u001b[0mans\u001b[0m \u001b[0;34m=\u001b[0m \u001b[0mgrad_fn\u001b[0m\u001b[0;34m(\u001b[0m\u001b[0;34m*\u001b[0m\u001b[0margs\u001b[0m\u001b[0;34m,\u001b[0m \u001b[0;34m**\u001b[0m\u001b[0mkwargs\u001b[0m\u001b[0;34m)\u001b[0m\u001b[0;34m\u001b[0m\u001b[0;34m\u001b[0m\u001b[0m\n\u001b[0m\u001b[1;32m    116\u001b[0m         \u001b[0mself\u001b[0m\u001b[0;34m.\u001b[0m\u001b[0m_forward\u001b[0m \u001b[0;34m=\u001b[0m \u001b[0mans\u001b[0m\u001b[0;34m\u001b[0m\u001b[0;34m\u001b[0m\u001b[0m\n\u001b[1;32m    117\u001b[0m \u001b[0;34m\u001b[0m\u001b[0m\n",
      "\u001b[0;32m~/anaconda3/envs/quantumcircuits/lib/python3.7/site-packages/autograd/wrap_util.py\u001b[0m in \u001b[0;36mnary_f\u001b[0;34m(*args, **kwargs)\u001b[0m\n\u001b[1;32m     18\u001b[0m             \u001b[0;32melse\u001b[0m\u001b[0;34m:\u001b[0m\u001b[0;34m\u001b[0m\u001b[0;34m\u001b[0m\u001b[0m\n\u001b[1;32m     19\u001b[0m                 \u001b[0mx\u001b[0m \u001b[0;34m=\u001b[0m \u001b[0mtuple\u001b[0m\u001b[0;34m(\u001b[0m\u001b[0margs\u001b[0m\u001b[0;34m[\u001b[0m\u001b[0mi\u001b[0m\u001b[0;34m]\u001b[0m \u001b[0;32mfor\u001b[0m \u001b[0mi\u001b[0m \u001b[0;32min\u001b[0m \u001b[0margnum\u001b[0m\u001b[0;34m)\u001b[0m\u001b[0;34m\u001b[0m\u001b[0;34m\u001b[0m\u001b[0m\n\u001b[0;32m---> 20\u001b[0;31m             \u001b[0;32mreturn\u001b[0m \u001b[0munary_operator\u001b[0m\u001b[0;34m(\u001b[0m\u001b[0munary_f\u001b[0m\u001b[0;34m,\u001b[0m \u001b[0mx\u001b[0m\u001b[0;34m,\u001b[0m \u001b[0;34m*\u001b[0m\u001b[0mnary_op_args\u001b[0m\u001b[0;34m,\u001b[0m \u001b[0;34m**\u001b[0m\u001b[0mnary_op_kwargs\u001b[0m\u001b[0;34m)\u001b[0m\u001b[0;34m\u001b[0m\u001b[0;34m\u001b[0m\u001b[0m\n\u001b[0m\u001b[1;32m     21\u001b[0m         \u001b[0;32mreturn\u001b[0m \u001b[0mnary_f\u001b[0m\u001b[0;34m\u001b[0m\u001b[0;34m\u001b[0m\u001b[0m\n\u001b[1;32m     22\u001b[0m     \u001b[0;32mreturn\u001b[0m \u001b[0mnary_operator\u001b[0m\u001b[0;34m\u001b[0m\u001b[0;34m\u001b[0m\u001b[0m\n",
      "\u001b[0;32m~/anaconda3/envs/quantumcircuits/lib/python3.7/site-packages/pennylane/_grad.py\u001b[0m in \u001b[0;36m_grad_with_forward\u001b[0;34m(fun, x)\u001b[0m\n\u001b[1;32m    139\u001b[0m             )\n\u001b[1;32m    140\u001b[0m \u001b[0;34m\u001b[0m\u001b[0m\n\u001b[0;32m--> 141\u001b[0;31m         \u001b[0mgrad_value\u001b[0m \u001b[0;34m=\u001b[0m \u001b[0mvjp\u001b[0m\u001b[0;34m(\u001b[0m\u001b[0mvspace\u001b[0m\u001b[0;34m(\u001b[0m\u001b[0mans\u001b[0m\u001b[0;34m)\u001b[0m\u001b[0;34m.\u001b[0m\u001b[0mones\u001b[0m\u001b[0;34m(\u001b[0m\u001b[0;34m)\u001b[0m\u001b[0;34m)\u001b[0m\u001b[0;34m\u001b[0m\u001b[0;34m\u001b[0m\u001b[0m\n\u001b[0m\u001b[1;32m    142\u001b[0m         \u001b[0;32mreturn\u001b[0m \u001b[0mgrad_value\u001b[0m\u001b[0;34m,\u001b[0m \u001b[0mans\u001b[0m\u001b[0;34m\u001b[0m\u001b[0;34m\u001b[0m\u001b[0m\n\u001b[1;32m    143\u001b[0m \u001b[0;34m\u001b[0m\u001b[0m\n",
      "\u001b[0;32m~/anaconda3/envs/quantumcircuits/lib/python3.7/site-packages/autograd/core.py\u001b[0m in \u001b[0;36mvjp\u001b[0;34m(g)\u001b[0m\n\u001b[1;32m     12\u001b[0m         \u001b[0;32mdef\u001b[0m \u001b[0mvjp\u001b[0m\u001b[0;34m(\u001b[0m\u001b[0mg\u001b[0m\u001b[0;34m)\u001b[0m\u001b[0;34m:\u001b[0m \u001b[0;32mreturn\u001b[0m \u001b[0mvspace\u001b[0m\u001b[0;34m(\u001b[0m\u001b[0mx\u001b[0m\u001b[0;34m)\u001b[0m\u001b[0;34m.\u001b[0m\u001b[0mzeros\u001b[0m\u001b[0;34m(\u001b[0m\u001b[0;34m)\u001b[0m\u001b[0;34m\u001b[0m\u001b[0;34m\u001b[0m\u001b[0m\n\u001b[1;32m     13\u001b[0m     \u001b[0;32melse\u001b[0m\u001b[0;34m:\u001b[0m\u001b[0;34m\u001b[0m\u001b[0;34m\u001b[0m\u001b[0m\n\u001b[0;32m---> 14\u001b[0;31m         \u001b[0;32mdef\u001b[0m \u001b[0mvjp\u001b[0m\u001b[0;34m(\u001b[0m\u001b[0mg\u001b[0m\u001b[0;34m)\u001b[0m\u001b[0;34m:\u001b[0m \u001b[0;32mreturn\u001b[0m \u001b[0mbackward_pass\u001b[0m\u001b[0;34m(\u001b[0m\u001b[0mg\u001b[0m\u001b[0;34m,\u001b[0m \u001b[0mend_node\u001b[0m\u001b[0;34m)\u001b[0m\u001b[0;34m\u001b[0m\u001b[0;34m\u001b[0m\u001b[0m\n\u001b[0m\u001b[1;32m     15\u001b[0m     \u001b[0;32mreturn\u001b[0m \u001b[0mvjp\u001b[0m\u001b[0;34m,\u001b[0m \u001b[0mend_value\u001b[0m\u001b[0;34m\u001b[0m\u001b[0;34m\u001b[0m\u001b[0m\n\u001b[1;32m     16\u001b[0m \u001b[0;34m\u001b[0m\u001b[0m\n",
      "\u001b[0;32m~/anaconda3/envs/quantumcircuits/lib/python3.7/site-packages/autograd/core.py\u001b[0m in \u001b[0;36mbackward_pass\u001b[0;34m(g, end_node)\u001b[0m\n\u001b[1;32m     20\u001b[0m         \u001b[0moutgrad\u001b[0m \u001b[0;34m=\u001b[0m \u001b[0moutgrads\u001b[0m\u001b[0;34m.\u001b[0m\u001b[0mpop\u001b[0m\u001b[0;34m(\u001b[0m\u001b[0mnode\u001b[0m\u001b[0;34m)\u001b[0m\u001b[0;34m\u001b[0m\u001b[0;34m\u001b[0m\u001b[0m\n\u001b[1;32m     21\u001b[0m         \u001b[0mingrads\u001b[0m \u001b[0;34m=\u001b[0m \u001b[0mnode\u001b[0m\u001b[0;34m.\u001b[0m\u001b[0mvjp\u001b[0m\u001b[0;34m(\u001b[0m\u001b[0moutgrad\u001b[0m\u001b[0;34m[\u001b[0m\u001b[0;36m0\u001b[0m\u001b[0;34m]\u001b[0m\u001b[0;34m)\u001b[0m\u001b[0;34m\u001b[0m\u001b[0;34m\u001b[0m\u001b[0m\n\u001b[0;32m---> 22\u001b[0;31m         \u001b[0;32mfor\u001b[0m \u001b[0mparent\u001b[0m\u001b[0;34m,\u001b[0m \u001b[0mingrad\u001b[0m \u001b[0;32min\u001b[0m \u001b[0mzip\u001b[0m\u001b[0;34m(\u001b[0m\u001b[0mnode\u001b[0m\u001b[0;34m.\u001b[0m\u001b[0mparents\u001b[0m\u001b[0;34m,\u001b[0m \u001b[0mingrads\u001b[0m\u001b[0;34m)\u001b[0m\u001b[0;34m:\u001b[0m\u001b[0;34m\u001b[0m\u001b[0;34m\u001b[0m\u001b[0m\n\u001b[0m\u001b[1;32m     23\u001b[0m             \u001b[0moutgrads\u001b[0m\u001b[0;34m[\u001b[0m\u001b[0mparent\u001b[0m\u001b[0;34m]\u001b[0m \u001b[0;34m=\u001b[0m \u001b[0madd_outgrads\u001b[0m\u001b[0;34m(\u001b[0m\u001b[0moutgrads\u001b[0m\u001b[0;34m.\u001b[0m\u001b[0mget\u001b[0m\u001b[0;34m(\u001b[0m\u001b[0mparent\u001b[0m\u001b[0;34m)\u001b[0m\u001b[0;34m,\u001b[0m \u001b[0mingrad\u001b[0m\u001b[0;34m)\u001b[0m\u001b[0;34m\u001b[0m\u001b[0;34m\u001b[0m\u001b[0m\n\u001b[1;32m     24\u001b[0m     \u001b[0;32mreturn\u001b[0m \u001b[0moutgrad\u001b[0m\u001b[0;34m[\u001b[0m\u001b[0;36m0\u001b[0m\u001b[0;34m]\u001b[0m\u001b[0;34m\u001b[0m\u001b[0;34m\u001b[0m\u001b[0m\n",
      "\u001b[0;32m~/anaconda3/envs/quantumcircuits/lib/python3.7/site-packages/autograd/core.py\u001b[0m in \u001b[0;36m<genexpr>\u001b[0;34m(.0)\u001b[0m\n\u001b[1;32m     47\u001b[0m     \u001b[0;32mdef\u001b[0m \u001b[0mvjp_argnums\u001b[0m\u001b[0;34m(\u001b[0m\u001b[0margnums\u001b[0m\u001b[0;34m,\u001b[0m \u001b[0;34m*\u001b[0m\u001b[0margs\u001b[0m\u001b[0;34m)\u001b[0m\u001b[0;34m:\u001b[0m\u001b[0;34m\u001b[0m\u001b[0;34m\u001b[0m\u001b[0m\n\u001b[1;32m     48\u001b[0m         \u001b[0mvjps\u001b[0m \u001b[0;34m=\u001b[0m \u001b[0;34m[\u001b[0m\u001b[0mvjpmaker\u001b[0m\u001b[0;34m(\u001b[0m\u001b[0margnum\u001b[0m\u001b[0;34m,\u001b[0m \u001b[0;34m*\u001b[0m\u001b[0margs\u001b[0m\u001b[0;34m)\u001b[0m \u001b[0;32mfor\u001b[0m \u001b[0margnum\u001b[0m \u001b[0;32min\u001b[0m \u001b[0margnums\u001b[0m\u001b[0;34m]\u001b[0m\u001b[0;34m\u001b[0m\u001b[0;34m\u001b[0m\u001b[0m\n\u001b[0;32m---> 49\u001b[0;31m         \u001b[0;32mreturn\u001b[0m \u001b[0;32mlambda\u001b[0m \u001b[0mg\u001b[0m\u001b[0;34m:\u001b[0m \u001b[0;34m(\u001b[0m\u001b[0mvjp\u001b[0m\u001b[0;34m(\u001b[0m\u001b[0mg\u001b[0m\u001b[0;34m)\u001b[0m \u001b[0;32mfor\u001b[0m \u001b[0mvjp\u001b[0m \u001b[0;32min\u001b[0m \u001b[0mvjps\u001b[0m\u001b[0;34m)\u001b[0m\u001b[0;34m\u001b[0m\u001b[0;34m\u001b[0m\u001b[0m\n\u001b[0m\u001b[1;32m     50\u001b[0m     \u001b[0mdefvjp_argnums\u001b[0m\u001b[0;34m(\u001b[0m\u001b[0mfun\u001b[0m\u001b[0;34m,\u001b[0m \u001b[0mvjp_argnums\u001b[0m\u001b[0;34m)\u001b[0m\u001b[0;34m\u001b[0m\u001b[0;34m\u001b[0m\u001b[0m\n\u001b[1;32m     51\u001b[0m \u001b[0;34m\u001b[0m\u001b[0m\n",
      "\u001b[0;32m~/anaconda3/envs/quantumcircuits/lib/python3.7/site-packages/autograd/numpy/numpy_vjps.py\u001b[0m in \u001b[0;36mvjp\u001b[0;34m(g)\u001b[0m\n\u001b[1;32m    617\u001b[0m \u001b[0;34m\u001b[0m\u001b[0m\n\u001b[1;32m    618\u001b[0m             \u001b[0mnew_subscripts\u001b[0m \u001b[0;34m=\u001b[0m \u001b[0mnew_input_subs\u001b[0m \u001b[0;34m+\u001b[0m \u001b[0;34m'->'\u001b[0m \u001b[0;34m+\u001b[0m \u001b[0msubs_wrt\u001b[0m\u001b[0;34m\u001b[0m\u001b[0;34m\u001b[0m\u001b[0m\n\u001b[0;32m--> 619\u001b[0;31m             \u001b[0;32mreturn\u001b[0m \u001b[0munbroadcast\u001b[0m\u001b[0;34m(\u001b[0m\u001b[0manp\u001b[0m\u001b[0;34m.\u001b[0m\u001b[0meinsum\u001b[0m\u001b[0;34m(\u001b[0m\u001b[0mnew_subscripts\u001b[0m\u001b[0;34m,\u001b[0m \u001b[0;34m*\u001b[0m\u001b[0mnew_operands\u001b[0m\u001b[0;34m)\u001b[0m\u001b[0;34m,\u001b[0m \u001b[0mresult_meta\u001b[0m\u001b[0;34m)\u001b[0m\u001b[0;34m\u001b[0m\u001b[0;34m\u001b[0m\u001b[0m\n\u001b[0m\u001b[1;32m    620\u001b[0m         \u001b[0;32melse\u001b[0m\u001b[0;34m:\u001b[0m  \u001b[0;31m# using (op0, sublist0, op1, sublist1, ..., sublistout) convention\u001b[0m\u001b[0;34m\u001b[0m\u001b[0;34m\u001b[0m\u001b[0m\n\u001b[1;32m    621\u001b[0m             \u001b[0;32mif\u001b[0m \u001b[0mlen\u001b[0m\u001b[0;34m(\u001b[0m\u001b[0moperands\u001b[0m\u001b[0;34m)\u001b[0m \u001b[0;34m%\u001b[0m \u001b[0;36m2\u001b[0m \u001b[0;34m==\u001b[0m \u001b[0;36m0\u001b[0m\u001b[0;34m:\u001b[0m\u001b[0;34m\u001b[0m\u001b[0;34m\u001b[0m\u001b[0m\n",
      "\u001b[0;32m~/anaconda3/envs/quantumcircuits/lib/python3.7/site-packages/autograd/tracer.py\u001b[0m in \u001b[0;36mf_wrapped\u001b[0;34m(*args, **kwargs)\u001b[0m\n\u001b[1;32m     46\u001b[0m             \u001b[0;32mreturn\u001b[0m \u001b[0mnew_box\u001b[0m\u001b[0;34m(\u001b[0m\u001b[0mans\u001b[0m\u001b[0;34m,\u001b[0m \u001b[0mtrace\u001b[0m\u001b[0;34m,\u001b[0m \u001b[0mnode\u001b[0m\u001b[0;34m)\u001b[0m\u001b[0;34m\u001b[0m\u001b[0;34m\u001b[0m\u001b[0m\n\u001b[1;32m     47\u001b[0m         \u001b[0;32melse\u001b[0m\u001b[0;34m:\u001b[0m\u001b[0;34m\u001b[0m\u001b[0;34m\u001b[0m\u001b[0m\n\u001b[0;32m---> 48\u001b[0;31m             \u001b[0;32mreturn\u001b[0m \u001b[0mf_raw\u001b[0m\u001b[0;34m(\u001b[0m\u001b[0;34m*\u001b[0m\u001b[0margs\u001b[0m\u001b[0;34m,\u001b[0m \u001b[0;34m**\u001b[0m\u001b[0mkwargs\u001b[0m\u001b[0;34m)\u001b[0m\u001b[0;34m\u001b[0m\u001b[0;34m\u001b[0m\u001b[0m\n\u001b[0m\u001b[1;32m     49\u001b[0m     \u001b[0mf_wrapped\u001b[0m\u001b[0;34m.\u001b[0m\u001b[0mfun\u001b[0m \u001b[0;34m=\u001b[0m \u001b[0mf_raw\u001b[0m\u001b[0;34m\u001b[0m\u001b[0;34m\u001b[0m\u001b[0m\n\u001b[1;32m     50\u001b[0m     \u001b[0mf_wrapped\u001b[0m\u001b[0;34m.\u001b[0m\u001b[0m_is_autograd_primitive\u001b[0m \u001b[0;34m=\u001b[0m \u001b[0;32mTrue\u001b[0m\u001b[0;34m\u001b[0m\u001b[0;34m\u001b[0m\u001b[0m\n",
      "\u001b[0;32m<__array_function__ internals>\u001b[0m in \u001b[0;36meinsum\u001b[0;34m(*args, **kwargs)\u001b[0m\n",
      "\u001b[0;32m~/anaconda3/envs/quantumcircuits/lib/python3.7/site-packages/numpy/core/einsumfunc.py\u001b[0m in \u001b[0;36meinsum\u001b[0;34m(out, optimize, *operands, **kwargs)\u001b[0m\n\u001b[1;32m   1348\u001b[0m         \u001b[0;32mif\u001b[0m \u001b[0mspecified_out\u001b[0m\u001b[0;34m:\u001b[0m\u001b[0;34m\u001b[0m\u001b[0;34m\u001b[0m\u001b[0m\n\u001b[1;32m   1349\u001b[0m             \u001b[0mkwargs\u001b[0m\u001b[0;34m[\u001b[0m\u001b[0;34m'out'\u001b[0m\u001b[0;34m]\u001b[0m \u001b[0;34m=\u001b[0m \u001b[0mout\u001b[0m\u001b[0;34m\u001b[0m\u001b[0;34m\u001b[0m\u001b[0m\n\u001b[0;32m-> 1350\u001b[0;31m         \u001b[0;32mreturn\u001b[0m \u001b[0mc_einsum\u001b[0m\u001b[0;34m(\u001b[0m\u001b[0;34m*\u001b[0m\u001b[0moperands\u001b[0m\u001b[0;34m,\u001b[0m \u001b[0;34m**\u001b[0m\u001b[0mkwargs\u001b[0m\u001b[0;34m)\u001b[0m\u001b[0;34m\u001b[0m\u001b[0;34m\u001b[0m\u001b[0m\n\u001b[0m\u001b[1;32m   1351\u001b[0m \u001b[0;34m\u001b[0m\u001b[0m\n\u001b[1;32m   1352\u001b[0m     \u001b[0;31m# Check the kwargs to avoid a more cryptic error later, without having to\u001b[0m\u001b[0;34m\u001b[0m\u001b[0;34m\u001b[0m\u001b[0;34m\u001b[0m\u001b[0m\n",
      "\u001b[0;31mKeyboardInterrupt\u001b[0m: "
     ]
    }
   ],
   "source": [
    "opt = qml.GradientDescentOptimizer(stepsize=0.1)\n",
    "\n",
    "max_iterations = 500\n",
    "conv_tol = 1e-06\n",
    "\n",
    "init_params = [np.random.rand(8)*2*np.pi, np.random.rand(1,7,2)*2*np.pi]\n",
    "\n",
    "params = init_params\n",
    "\n",
    "cost = 0\n",
    "\n",
    "costs=[]\n",
    "paramses = []\n",
    "paramses.append(params)\n",
    "\n",
    "\n",
    "for n in range(max_iterations):\n",
    "    params, prev_cost = opt.step_and_cost(cost_fn, *params)\n",
    "    conv = np.abs(cost - prev_cost)\n",
    "    cost=prev_cost\n",
    "    costs.append(cost)\n",
    "    paramses.append(params)\n",
    "    \n",
    "    if n % 20 == 0:\n",
    "        print('Iteration = {:},  Cost = {:.8f}'.format(n, cost))\n",
    "\n",
    "    if conv <= conv_tol:\n",
    "        break\n",
    "    \n",
    "plt.rcParams['figure.figsize'] = [10,5]\n",
    "\n",
    "plt.plot(costs)"
   ]
  },
  {
   "cell_type": "code",
   "execution_count": 108,
   "metadata": {},
   "outputs": [],
   "source": [
    "open_pentagram_params = params"
   ]
  },
  {
   "cell_type": "code",
   "execution_count": 109,
   "metadata": {},
   "outputs": [],
   "source": [
    "dev8 = qml.device('default.qubit', wires=8)"
   ]
  },
  {
   "cell_type": "code",
   "execution_count": 110,
   "metadata": {},
   "outputs": [],
   "source": [
    "def open_pentagram_circ(optimized_params, wires):\n",
    "    qml.adjoint(qml.SimplifiedTwoDesign)(optimized_params[0], optimized_params[1],wires=wires)"
   ]
  },
  {
   "cell_type": "code",
   "execution_count": 111,
   "metadata": {},
   "outputs": [],
   "source": [
    "@qml.qnode(dev8)\n",
    "def open_pentagram(optimized_params):\n",
    "    open_pentagram_circ(optimized_params, wires=range(8))\n",
    "    return qml.state()"
   ]
  },
  {
   "cell_type": "code",
   "execution_count": 112,
   "metadata": {},
   "outputs": [
    {
     "data": {
      "text/plain": [
       "tensor([-3.97551495e-02+0.j, -7.54507870e-05+0.j, -2.80822707e-01+0.j,\n",
       "         1.08035861e-01+0.j,  2.21577308e-01+0.j, -9.68065032e-02+0.j,\n",
       "        -2.14621597e-01+0.j,  9.63316123e-02+0.j, -2.31570815e-02+0.j,\n",
       "         1.33652034e-02+0.j,  8.18856818e-02+0.j, -3.34006929e-02+0.j,\n",
       "         1.62665056e-01+0.j, -6.86620509e-02+0.j, -1.13518043e-01+0.j,\n",
       "         5.34357171e-02+0.j,  4.09385353e-02+0.j, -3.21268178e-04+0.j,\n",
       "         2.81878616e-01+0.j, -1.08385601e-01+0.j, -2.29172612e-01+0.j,\n",
       "         1.00053288e-01+0.j,  2.20668121e-01+0.j, -9.91194600e-02+0.j,\n",
       "         2.15961031e-02+0.j, -1.17793515e-02+0.j, -6.38278997e-02+0.j,\n",
       "         2.62287245e-02+0.j, -1.49983940e-01+0.j,  6.34067699e-02+0.j,\n",
       "         1.06453269e-01+0.j, -4.99704340e-02+0.j,  3.64833920e-02+0.j,\n",
       "        -2.02058362e-03+0.j,  2.19456104e-01+0.j, -8.41315435e-02+0.j,\n",
       "        -2.08578260e-01+0.j,  9.07523015e-02+0.j,  1.95166847e-01+0.j,\n",
       "        -8.79865708e-02+0.j,  9.46401383e-03+0.j, -1.87446614e-03+0.j,\n",
       "         3.22099070e-02+0.j, -1.21236324e-02+0.j, -5.74898107e-02+0.j,\n",
       "         2.47775995e-02+0.j,  4.94696626e-02+0.j, -2.25547017e-02+0.j,\n",
       "        -1.69577198e-02+0.j, -1.89633870e-03+0.j, -1.53910569e-01+0.j,\n",
       "         5.94751426e-02+0.j,  8.98438795e-02+0.j, -3.95870030e-02+0.j,\n",
       "        -9.31460986e-02+0.j,  4.14627616e-02+0.j, -2.03921869e-02+0.j,\n",
       "         1.49697397e-02+0.j,  1.30692334e-01+0.j, -5.24036031e-02+0.j,\n",
       "         1.51261949e-01+0.j, -6.33931226e-02+0.j, -9.72202375e-02+0.j,\n",
       "         4.64167876e-02+0.j, -4.21716434e-03+0.j,  2.72266983e-04+0.j,\n",
       "        -2.46587071e-02+0.j,  9.44682312e-03+0.j,  2.42068206e-02+0.j,\n",
       "        -1.05256060e-02+0.j, -2.25264113e-02+0.j,  1.01627597e-02+0.j,\n",
       "        -8.75649254e-04+0.j,  2.42270340e-05+0.j, -5.71150475e-03+0.j,\n",
       "         2.19361932e-03+0.j,  4.94534192e-03+0.j, -2.15596103e-03+0.j,\n",
       "        -4.70506985e-03+0.j,  2.11663779e-03+0.j,  1.57842326e-03+0.j,\n",
       "         2.59782275e-04+0.j,  1.58503151e-02+0.j, -6.13415860e-03+0.j,\n",
       "        -8.15401752e-03+0.j,  3.60853970e-03+0.j,  8.74143128e-03+0.j,\n",
       "        -3.87597330e-03+0.j,  2.36777995e-03+0.j, -1.80741474e-03+0.j,\n",
       "        -1.64425654e-02+0.j,  6.58215791e-03+0.j, -1.77368487e-02+0.j,\n",
       "         7.42408878e-03+0.j,  1.12290730e-02+0.j, -5.37572835e-03+0.j,\n",
       "         1.27575140e-02+0.j, -4.01152961e-04+0.j,  8.23300428e-02+0.j,\n",
       "        -3.16131365e-02+0.j, -7.21704333e-02+0.j,  3.14547409e-02+0.j,\n",
       "         6.85078148e-02+0.j, -3.08281124e-02+0.j,  5.03195919e-03+0.j,\n",
       "        -2.17396556e-03+0.j, -4.42581556e-03+0.j,  2.01177743e-03+0.j,\n",
       "        -3.35168815e-02+0.j,  1.42516674e-02+0.j,  2.52932456e-02+0.j,\n",
       "        -1.17571817e-02+0.j, -8.94194335e-03+0.j, -3.42896943e-04+0.j,\n",
       "        -6.91304424e-02+0.j,  2.66414499e-02+0.j,  4.90217282e-02+0.j,\n",
       "        -2.14759326e-02+0.j, -4.85533108e-02+0.j,  2.17324889e-02+0.j,\n",
       "        -7.04694561e-03+0.j,  4.62671015e-03+0.j,  3.51613516e-02+0.j,\n",
       "        -1.41838749e-02+0.j,  5.09026755e-02+0.j, -2.14067172e-02+0.j,\n",
       "        -3.40649791e-02+0.j,  1.61493609e-02+0.j,  1.76401132e-02+0.j,\n",
       "         2.28943844e-05+0.j,  1.24412599e-01+0.j, -4.78615195e-02+0.j,\n",
       "        -9.83445710e-02+0.j,  4.29645676e-02+0.j,  9.52225939e-02+0.j,\n",
       "        -4.27420489e-02+0.j,  1.02155355e-02+0.j, -5.87776656e-03+0.j,\n",
       "        -3.57904884e-02+0.j,  1.46038706e-02+0.j, -7.17126779e-02+0.j,\n",
       "         3.02730067e-02+0.j,  5.00930307e-02+0.j, -2.35763071e-02+0.j,\n",
       "        -1.80608097e-02+0.j,  1.31454940e-04+0.j, -1.24544243e-01+0.j,\n",
       "         4.78902007e-02+0.j,  1.01078082e-01+0.j, -4.41309943e-02+0.j,\n",
       "        -9.73607317e-02+0.j,  4.37304778e-02+0.j, -9.58550432e-03+0.j,\n",
       "         5.24779005e-03+0.j,  2.86869089e-02+0.j, -1.17816855e-02+0.j,\n",
       "         6.66197055e-02+0.j, -2.81611455e-02+0.j, -4.72329412e-02+0.j,\n",
       "         2.21756587e-02+0.j, -1.65240099e-02+0.j,  9.03626311e-04+0.j,\n",
       "        -9.96069023e-02+0.j,  3.81876059e-02+0.j,  9.44400918e-02+0.j,\n",
       "        -4.10928564e-02+0.j, -8.84046006e-02+0.j,  3.98530641e-02+0.j,\n",
       "        -4.35148285e-03+0.j,  9.06327713e-04+0.j, -1.39959668e-02+0.j,\n",
       "         5.25494116e-03+0.j,  2.65447897e-02+0.j, -1.14332499e-02+0.j,\n",
       "        -2.27076579e-02+0.j,  1.03616078e-02+0.j,  7.79422407e-03+0.j,\n",
       "         8.46794158e-04+0.j,  7.02871991e-02+0.j, -2.71581115e-02+0.j,\n",
       "        -4.13568374e-02+0.j,  1.82179628e-02+0.j,  4.27911755e-02+0.j,\n",
       "        -1.90524469e-02+0.j,  9.23283789e-03+0.j, -6.75711679e-03+0.j,\n",
       "        -5.87949838e-02+0.j,  2.35781984e-02+0.j, -6.84341862e-02+0.j,\n",
       "         2.86832054e-02+0.j,  4.40354678e-02+0.j, -2.10199462e-02+0.j,\n",
       "         3.00075607e-03+0.j, -9.39531936e-05+0.j,  1.93726384e-02+0.j,\n",
       "        -7.43877926e-03+0.j, -1.69745418e-02+0.j,  7.39825084e-03+0.j,\n",
       "         1.61143982e-02+0.j, -7.25130888e-03+0.j,  1.18586950e-03+0.j,\n",
       "        -5.13357196e-04+0.j, -1.06176708e-03+0.j,  4.81467431e-04+0.j,\n",
       "        -7.90140727e-03+0.j,  3.35959285e-03+0.j,  5.95991920e-03+0.j,\n",
       "        -2.77058181e-03+0.j, -2.10726120e-03+0.j, -8.02309286e-05+0.j,\n",
       "        -1.62807529e-02+0.j,  6.27419260e-03+0.j,  1.15539199e-02+0.j,\n",
       "        -5.06155251e-03+0.j, -1.14415945e-02+0.j,  5.12137018e-03+0.j,\n",
       "        -1.65743506e-03+0.j,  1.08746669e-03+0.j,  8.25653145e-03+0.j,\n",
       "        -3.33078100e-03+0.j,  1.19704298e-02+0.j, -5.03417073e-03+0.j,\n",
       "        -8.01267845e-03+0.j,  3.79846065e-03+0.j, -5.91365837e-03+0.j,\n",
       "         2.18935470e-04+0.j, -3.75597404e-02+0.j,  1.44170994e-02+0.j,\n",
       "         3.35367549e-02+0.j, -1.46108191e-02+0.j, -3.17280478e-02+0.j,\n",
       "         1.42835765e-02+0.j, -2.14649115e-03+0.j,  8.43728443e-04+0.j,\n",
       "         3.57145006e-04+0.j, -2.57418546e-04+0.j,  1.40878246e-02+0.j,\n",
       "        -6.00281925e-03+0.j, -1.08610833e-02+0.j,  5.03197342e-03+0.j,\n",
       "         3.81966225e-03+0.j,  1.93530778e-04+0.j,  3.03913552e-02+0.j,\n",
       "        -1.17182898e-02+0.j, -2.08223320e-02+0.j,  9.13064076e-03+0.j,\n",
       "         2.07804994e-02+0.j, -9.29269653e-03+0.j,  3.27561334e-03+0.j,\n",
       "        -2.21033411e-03+0.j, -1.74370336e-02+0.j,  7.02202561e-03+0.j,\n",
       "        -2.38105732e-02+0.j,  1.00050815e-02+0.j,  1.57831359e-02+0.j,\n",
       "        -7.49474545e-03+0.j], requires_grad=True)"
      ]
     },
     "execution_count": 112,
     "metadata": {},
     "output_type": "execute_result"
    }
   ],
   "source": [
    "open_pentagram(open_pentagram_params)"
   ]
  },
  {
   "cell_type": "code",
   "execution_count": null,
   "metadata": {},
   "outputs": [],
   "source": [
    "# open_pentagram_exact = "
   ]
  },
  {
   "cell_type": "code",
   "execution_count": 104,
   "metadata": {},
   "outputs": [],
   "source": [
    "# np.dot(open_pentagram(open_pentagram_params), open_pentagram_exact)"
   ]
  },
  {
   "attachments": {},
   "cell_type": "markdown",
   "metadata": {},
   "source": [
    "## Gluing two open pentagrams into decagram network"
   ]
  },
  {
   "attachments": {},
   "cell_type": "markdown",
   "metadata": {},
   "source": [
    "To glue two open pentagrams we need to use ansatz for open pentagram with optimized parameters."
   ]
  },
  {
   "cell_type": "code",
   "execution_count": 98,
   "metadata": {},
   "outputs": [],
   "source": [
    "dev16 = qml.device('default.qubit', wires=16)"
   ]
  },
  {
   "cell_type": "markdown",
   "metadata": {},
   "source": [
    "We construct circuit, Fig. 17"
   ]
  },
  {
   "cell_type": "code",
   "execution_count": 113,
   "metadata": {},
   "outputs": [],
   "source": [
    "@qml.qnode(dev16)\n",
    "def cost_circ(initial_layer_weights, weights):\n",
    "    open_pentagram_circ(open_pentagram_params, wires=range(8))\n",
    "    open_pentagram_circ(open_pentagram_params, wires=range(8,16))\n",
    "\n",
    "    qml.adjoint(W)([4,5,12,13])\n",
    "    qml.adjoint(W)([6,7,14,15])\n",
    "\n",
    "    qml.SimplifiedTwoDesign(initial_layer_weights, weights, wires=[0,1,2,3,4,6,8,9,10,11])\n",
    "        \n",
    "    return qml.probs(wires=range(16))"
   ]
  },
  {
   "cell_type": "code",
   "execution_count": 114,
   "metadata": {},
   "outputs": [],
   "source": [
    "def proj_probs(probs):\n",
    "    c = dict()\n",
    "    for i in range(len(probs)):\n",
    "        k=format(i,'016b')\n",
    "        if (k[5]+k[12]+k[13])=='000' and (k[7]+k[14]+k[15])=='000':\n",
    "            c[k[0:5]+k[6]+k[8]+k[9:12]] = probs[i]\n",
    "    return c[10*'0']/np.sum(list(c.values()))"
   ]
  },
  {
   "cell_type": "code",
   "execution_count": 115,
   "metadata": {},
   "outputs": [],
   "source": [
    "def cost_fn(initial_layer_weights, weights):\n",
    "    return 1-proj_probs(cost_circ(initial_layer_weights, weights))"
   ]
  },
  {
   "cell_type": "code",
   "execution_count": 116,
   "metadata": {},
   "outputs": [
    {
     "data": {
      "text/plain": [
       "tensor(0.9999754, requires_grad=True)"
      ]
     },
     "execution_count": 116,
     "metadata": {},
     "output_type": "execute_result"
    }
   ],
   "source": [
    "initial_layer_weights=np.random.rand(10)*2*np.pi\n",
    "weights=np.random.rand(1,9,2)*2*np.pi\n",
    "cost_fn(initial_layer_weights, weights)"
   ]
  },
  {
   "cell_type": "code",
   "execution_count": 118,
   "metadata": {},
   "outputs": [
    {
     "name": "stdout",
     "output_type": "stream",
     "text": [
      "Iteration = 0,  Cost = 0.99999970\n"
     ]
    },
    {
     "data": {
      "text/plain": [
       "[<matplotlib.lines.Line2D at 0x7f945427e590>]"
      ]
     },
     "execution_count": 118,
     "metadata": {},
     "output_type": "execute_result"
    },
    {
     "data": {
      "image/png": "[encoded data removed]",
      "text/plain": [
       "<Figure size 720x360 with 1 Axes>"
      ]
     },
     "metadata": {
      "needs_background": "light"
     },
     "output_type": "display_data"
    }
   ],
   "source": [
    "opt = qml.GradientDescentOptimizer(stepsize=0.1)\n",
    "\n",
    "max_iterations = 500\n",
    "conv_tol = 1e-06\n",
    "\n",
    "init_params = [np.random.rand(10)*2*np.pi, np.random.rand(1,9,2)*2*np.pi]\n",
    "\n",
    "params = init_params\n",
    "\n",
    "cost = 0\n",
    "\n",
    "costs=[]\n",
    "paramses = []\n",
    "paramses.append(params)\n",
    "\n",
    "\n",
    "for n in range(max_iterations):\n",
    "    params, prev_cost = opt.step_and_cost(cost_fn, *params)\n",
    "    conv = np.abs(cost - prev_cost)\n",
    "    cost=prev_cost\n",
    "    costs.append(cost)\n",
    "    paramses.append(params)\n",
    "    \n",
    "    if n % 20 == 0:\n",
    "        print('Iteration = {:},  Cost = {:.8f}'.format(n, cost))\n",
    "\n",
    "    if conv <= conv_tol:\n",
    "        break\n",
    "    \n",
    "plt.rcParams['figure.figsize'] = [10,5]\n",
    "\n",
    "plt.plot(costs)"
   ]
  },
  {
   "attachments": {},
   "cell_type": "markdown",
   "metadata": {},
   "source": [
    "## Single node with free links"
   ]
  },
  {
   "attachments": {},
   "cell_type": "markdown",
   "metadata": {},
   "source": [
    "We construct circuit, Fig. 19, i.e. single node with free four links, it can be seen as open dipole."
   ]
  },
  {
   "cell_type": "code",
   "execution_count": 9,
   "metadata": {},
   "outputs": [],
   "source": [
    "@qml.qnode(dev8)\n",
    "def cost_circ(initial_layer_weights, weights):\n",
    "    link([0,4])\n",
    "    link([1,5])\n",
    "    link([2,6])\n",
    "    link([3,7])\n",
    "\n",
    "    qml.adjoint(W)([0,1,2,3])\n",
    "\n",
    "    qml.SimplifiedTwoDesign(initial_layer_weights, weights, wires=[0,4,5,6,7])\n",
    "        \n",
    "    return qml.probs(wires=range(8))"
   ]
  },
  {
   "cell_type": "code",
   "execution_count": 10,
   "metadata": {},
   "outputs": [],
   "source": [
    "def proj_probs(probs):\n",
    "    c = dict()\n",
    "    for i in range(len(probs)):\n",
    "        k=format(i,'08b')\n",
    "        if k[1:4]=='000':\n",
    "            c[k[0]+k[4:]] = probs[i]\n",
    "    return c['00000']/np.sum(list(c.values()))"
   ]
  },
  {
   "cell_type": "code",
   "execution_count": 11,
   "metadata": {},
   "outputs": [],
   "source": [
    "def cost_fn(initial_layer_weights, weights):\n",
    "    return 1-proj_probs(cost_circ(initial_layer_weights, weights))"
   ]
  },
  {
   "cell_type": "code",
   "execution_count": 12,
   "metadata": {},
   "outputs": [
    {
     "data": {
      "text/plain": [
       "tensor(0.99954651, requires_grad=True)"
      ]
     },
     "execution_count": 12,
     "metadata": {},
     "output_type": "execute_result"
    }
   ],
   "source": [
    "initial_layer_weights=np.random.rand(5)*2*np.pi\n",
    "weights=np.random.rand(1,4,2)*2*np.pi\n",
    "cost_fn(initial_layer_weights, weights)"
   ]
  },
  {
   "cell_type": "code",
   "execution_count": 22,
   "metadata": {},
   "outputs": [
    {
     "name": "stdout",
     "output_type": "stream",
     "text": [
      "Iteration = 0,  Cost = 0.99992244\n",
      "Iteration = 20,  Cost = 0.52037750\n",
      "Iteration = 40,  Cost = 0.29561435\n",
      "Iteration = 60,  Cost = 0.17941566\n",
      "Iteration = 80,  Cost = 0.15849507\n",
      "Iteration = 100,  Cost = 0.09804664\n",
      "Iteration = 120,  Cost = 0.06543366\n",
      "Iteration = 140,  Cost = 0.05990671\n",
      "Iteration = 160,  Cost = 0.05915126\n"
     ]
    },
    {
     "data": {
      "text/plain": [
       "[<matplotlib.lines.Line2D at 0x7fb976c2e1d0>]"
      ]
     },
     "execution_count": 22,
     "metadata": {},
     "output_type": "execute_result"
    },
    {
     "data": {
      "image/png": "[encoded data removed]",
      "text/plain": [
       "<Figure size 720x360 with 1 Axes>"
      ]
     },
     "metadata": {
      "needs_background": "light"
     },
     "output_type": "display_data"
    }
   ],
   "source": [
    "opt = qml.AdamOptimizer(stepsize=0.1)\n",
    "\n",
    "max_iterations = 500\n",
    "conv_tol = 1e-06\n",
    "\n",
    "init_params = [np.random.rand(5)*2*np.pi, np.random.rand(3,4,2)*2*np.pi]\n",
    "\n",
    "params = init_params\n",
    "\n",
    "cost = 0\n",
    "\n",
    "costs=[]\n",
    "paramses = []\n",
    "paramses.append(params)\n",
    "\n",
    "\n",
    "for n in range(max_iterations):\n",
    "    params, prev_cost = opt.step_and_cost(cost_fn, *params)\n",
    "    conv = np.abs(cost - prev_cost)\n",
    "    cost=prev_cost\n",
    "    costs.append(cost)\n",
    "    paramses.append(params)\n",
    "    \n",
    "    if n % 20 == 0:\n",
    "        print('Iteration = {:},  Cost = {:.8f}'.format(n, cost))\n",
    "\n",
    "    if conv <= conv_tol:\n",
    "        break\n",
    "    \n",
    "plt.rcParams['figure.figsize'] = [10,5]\n",
    "\n",
    "plt.plot(costs)"
   ]
  },
  {
   "cell_type": "code",
   "execution_count": 23,
   "metadata": {},
   "outputs": [],
   "source": [
    "node_params = params"
   ]
  },
  {
   "cell_type": "code",
   "execution_count": 24,
   "metadata": {},
   "outputs": [],
   "source": [
    "def node_circ(optimized_params, wires):\n",
    "    qml.adjoint(qml.SimplifiedTwoDesign)(optimized_params[0], optimized_params[1],wires=wires)"
   ]
  },
  {
   "cell_type": "code",
   "execution_count": 25,
   "metadata": {},
   "outputs": [],
   "source": [
    "@qml.qnode(dev5)\n",
    "def node(optimized_params):\n",
    "    node_circ(optimized_params, wires=range(5))\n",
    "    return qml.state()"
   ]
  },
  {
   "cell_type": "code",
   "execution_count": 26,
   "metadata": {},
   "outputs": [
    {
     "data": {
      "text/plain": [
       "tensor([-7.02203474e-02+0.j,  3.25268615e-03+0.j,  2.57806939e-03+0.j,\n",
       "        -6.72171669e-02+0.j,  3.52770747e-03+0.j, -4.57592953e-01+0.j,\n",
       "         3.20949456e-01+0.j,  2.89178758e-05+0.j,  6.11729946e-04+0.j,\n",
       "         3.20993908e-01+0.j, -4.58251981e-01+0.j, -3.93410266e-03+0.j,\n",
       "        -6.84650565e-02+0.j, -2.51215814e-03+0.j, -3.57686543e-03+0.j,\n",
       "        -7.08835997e-02+0.j, -3.91177278e-02+0.j, -6.32907493e-04+0.j,\n",
       "        -7.08222844e-03+0.j, -3.31751999e-01+0.j, -4.27432707e-03+0.j,\n",
       "         1.83961297e-01+0.j,  1.81067091e-01+0.j,  4.70130560e-03+0.j,\n",
       "        -5.23183207e-03+0.j,  1.80079660e-01+0.j,  1.82778129e-01+0.j,\n",
       "         2.77513582e-03+0.j, -3.31149872e-01+0.j,  7.16569744e-03+0.j,\n",
       "         1.36761350e-03+0.j, -3.80778638e-02+0.j], requires_grad=True)"
      ]
     },
     "execution_count": 26,
     "metadata": {},
     "output_type": "execute_result"
    }
   ],
   "source": [
    "node(node_params)"
   ]
  },
  {
   "cell_type": "code",
   "execution_count": null,
   "metadata": {},
   "outputs": [],
   "source": [
    "# node_exact = "
   ]
  },
  {
   "cell_type": "code",
   "execution_count": null,
   "metadata": {},
   "outputs": [],
   "source": [
    "# np.dot(node(node_params), node_exact)"
   ]
  },
  {
   "cell_type": "markdown",
   "metadata": {},
   "source": [
    "## Gluing two open nodes and four links into hexagram network"
   ]
  },
  {
   "cell_type": "code",
   "execution_count": 28,
   "metadata": {},
   "outputs": [],
   "source": [
    "dev18 = qml.device('default.qubit', wires=18)"
   ]
  },
  {
   "cell_type": "code",
   "execution_count": null,
   "metadata": {},
   "outputs": [],
   "source": [
    "@qml.qnode(dev18)\n",
    "def cost_circ(initial_layer_weights, weights):\n",
    "    node(node_params, wires=[0,1,2,3,4])\n",
    "    node(node_params, wires=[5,6,7,8,9])\n",
    "    \n",
    "    # link([1,2])\n",
    "    # link([3,4])\n",
    "    # link([1,4])\n",
    "    # link([2,3])\n",
    "    \n",
    "        \n",
    "    \n",
    "    # qml.adjoint(W)([0,1,2,3])\n",
    "\n",
    "    # qml.SimplifiedTwoDesign(initial_layer_weights, weights, wires=[0,4,5,6,7])\n",
    "        \n",
    "    return qml.probs(wires=range(18))"
   ]
  },
  {
   "cell_type": "code",
   "execution_count": null,
   "metadata": {},
   "outputs": [],
   "source": [
    "# def proj_probs(probs):\n",
    "#     c = dict()\n",
    "#     for i in range(len(probs)):\n",
    "#         k=format(i,'08b')\n",
    "#         if k[1:4]=='000':\n",
    "#             c[k[0]+k[4:]] = probs[i]\n",
    "#     return c['00000']/np.sum(list(c.values()))"
   ]
  },
  {
   "cell_type": "code",
   "execution_count": null,
   "metadata": {},
   "outputs": [],
   "source": [
    "def cost_fn(initial_layer_weights, weights):\n",
    "    return 1-proj_probs(cost_circ(initial_layer_weights, weights))"
   ]
  },
  {
   "cell_type": "code",
   "execution_count": null,
   "metadata": {},
   "outputs": [
    {
     "data": {
      "text/plain": [
       "tensor(0.99954651, requires_grad=True)"
      ]
     },
     "metadata": {},
     "output_type": "display_data"
    }
   ],
   "source": [
    "initial_layer_weights=np.random.rand(6)*2*np.pi\n",
    "weights=np.random.rand(1,5,2)*2*np.pi\n",
    "cost_fn(initial_layer_weights, weights)"
   ]
  },
  {
   "cell_type": "code",
   "execution_count": null,
   "metadata": {},
   "outputs": [
    {
     "name": "stdout",
     "output_type": "stream",
     "text": [
      "Iteration = 0,  Cost = 0.99992244\n",
      "Iteration = 20,  Cost = 0.52037750\n",
      "Iteration = 40,  Cost = 0.29561435\n",
      "Iteration = 60,  Cost = 0.17941566\n",
      "Iteration = 80,  Cost = 0.15849507\n",
      "Iteration = 100,  Cost = 0.09804664\n",
      "Iteration = 120,  Cost = 0.06543366\n",
      "Iteration = 140,  Cost = 0.05990671\n",
      "Iteration = 160,  Cost = 0.05915126\n"
     ]
    },
    {
     "data": {
      "text/plain": [
       "[<matplotlib.lines.Line2D at 0x7fb976c2e1d0>]"
      ]
     },
     "metadata": {},
     "output_type": "display_data"
    },
    {
     "data": {
      "image/png": "[encoded data removed]",
      "text/plain": [
       "<Figure size 720x360 with 1 Axes>"
      ]
     },
     "metadata": {},
     "output_type": "display_data"
    }
   ],
   "source": [
    "opt = qml.AdamOptimizer(stepsize=0.1)\n",
    "\n",
    "max_iterations = 500\n",
    "conv_tol = 1e-06\n",
    "\n",
    "init_params = [np.random.rand(6)*2*np.pi, np.random.rand(3,5,2)*2*np.pi]\n",
    "\n",
    "params = init_params\n",
    "\n",
    "cost = 0\n",
    "\n",
    "costs=[]\n",
    "paramses = []\n",
    "paramses.append(params)\n",
    "\n",
    "\n",
    "for n in range(max_iterations):\n",
    "    params, prev_cost = opt.step_and_cost(cost_fn, *params)\n",
    "    conv = np.abs(cost - prev_cost)\n",
    "    cost=prev_cost\n",
    "    costs.append(cost)\n",
    "    paramses.append(params)\n",
    "    \n",
    "    if n % 20 == 0:\n",
    "        print('Iteration = {:},  Cost = {:.8f}'.format(n, cost))\n",
    "\n",
    "    if conv <= conv_tol:\n",
    "        break\n",
    "    \n",
    "plt.rcParams['figure.figsize'] = [10,5]\n",
    "\n",
    "plt.plot(costs)"
   ]
  },
  {
   "cell_type": "code",
   "execution_count": null,
   "metadata": {},
   "outputs": [],
   "source": [
    "hexagram_params = params"
   ]
  },
  {
   "cell_type": "code",
   "execution_count": null,
   "metadata": {},
   "outputs": [],
   "source": [
    "def hexagram_circ(optimized_params, wires):\n",
    "    qml.adjoint(qml.SimplifiedTwoDesign)(optimized_params[0], optimized_params[1],wires=wires)"
   ]
  },
  {
   "cell_type": "code",
   "execution_count": 29,
   "metadata": {},
   "outputs": [],
   "source": [
    "dev6 = qml.device('default.qubit', wires=6)"
   ]
  },
  {
   "cell_type": "code",
   "execution_count": null,
   "metadata": {},
   "outputs": [],
   "source": [
    "@qml.qnode(dev6)\n",
    "def hexagram(optimized_params):\n",
    "    node_circ(optimized_params, wires=range(6))\n",
    "    return qml.state()"
   ]
  },
  {
   "cell_type": "code",
   "execution_count": null,
   "metadata": {},
   "outputs": [
    {
     "data": {
      "text/plain": [
       "tensor([-7.02203474e-02+0.j,  3.25268615e-03+0.j,  2.57806939e-03+0.j,\n",
       "        -6.72171669e-02+0.j,  3.52770747e-03+0.j, -4.57592953e-01+0.j,\n",
       "         3.20949456e-01+0.j,  2.89178758e-05+0.j,  6.11729946e-04+0.j,\n",
       "         3.20993908e-01+0.j, -4.58251981e-01+0.j, -3.93410266e-03+0.j,\n",
       "        -6.84650565e-02+0.j, -2.51215814e-03+0.j, -3.57686543e-03+0.j,\n",
       "        -7.08835997e-02+0.j, -3.91177278e-02+0.j, -6.32907493e-04+0.j,\n",
       "        -7.08222844e-03+0.j, -3.31751999e-01+0.j, -4.27432707e-03+0.j,\n",
       "         1.83961297e-01+0.j,  1.81067091e-01+0.j,  4.70130560e-03+0.j,\n",
       "        -5.23183207e-03+0.j,  1.80079660e-01+0.j,  1.82778129e-01+0.j,\n",
       "         2.77513582e-03+0.j, -3.31149872e-01+0.j,  7.16569744e-03+0.j,\n",
       "         1.36761350e-03+0.j, -3.80778638e-02+0.j], requires_grad=True)"
      ]
     },
     "metadata": {},
     "output_type": "display_data"
    }
   ],
   "source": [
    "hexagram(hexagram_params)"
   ]
  },
  {
   "cell_type": "code",
   "execution_count": null,
   "metadata": {},
   "outputs": [],
   "source": [
    "# hexagram_exact = "
   ]
  },
  {
   "cell_type": "code",
   "execution_count": null,
   "metadata": {},
   "outputs": [],
   "source": [
    "# np.dot(hexagram(hexagram_params), hexagram_exact)"
   ]
  }
 ],
 "metadata": {
  "kernelspec": {
   "display_name": "quantumcircuits",
   "language": "python",
   "name": "python3"
  },
  "language_info": {
   "codemirror_mode": {
    "name": "ipython",
    "version": 3
   },
   "file_extension": ".py",
   "mimetype": "text/x-python",
   "name": "python",
   "nbconvert_exporter": "python",
   "pygments_lexer": "ipython3",
   "version": "3.7.4"
  },
  "orig_nbformat": 4,
  "vscode": {
   "interpreter": {
    "hash": "fe576ce98fb499882f842c59cda27c51aa23a4bc63f86e9b9e6ec5c10118d911"
   }
  }
 },
 "nbformat": 4,
 "nbformat_minor": 2
}
