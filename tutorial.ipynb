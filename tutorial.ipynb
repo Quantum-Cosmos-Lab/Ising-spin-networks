{
 "cells": [
  {
   "attachments": {},
   "cell_type": "markdown",
   "metadata": {},
   "source": [
    "# Tutorial\n",
    "---\n",
    "Notebook contains explict constructions of circuits and functions for minimazation that are consider in article: *G. Czelusta, J. Mielczarek, **Quantum circuits for the Ising spin networks***\n",
    "\n",
    "We use **Penny Lane** Python library.\n",
    "\n",
    "All names used in this notebook are the same as in the  article and all references are refrences to the article.\n",
    "\n",
    "In this tutorial simulators without statistical noise are used. Also used methods gradient computations are non compatible with real quantum hardware. Result with finite number of shots and real device compatible gradient computations are presented in notebook ```results.ipynb```."
   ]
  },
  {
   "cell_type": "code",
   "execution_count": 1,
   "metadata": {},
   "outputs": [],
   "source": [
    "import pennylane as qml\n",
    "from pennylane import numpy as np\n",
    "import matplotlib.pyplot as plt"
   ]
  },
  {
   "attachments": {},
   "cell_type": "markdown",
   "metadata": {},
   "source": [
    "First we construct quantum circuit representing operator $W$:"
   ]
  },
  {
   "cell_type": "code",
   "execution_count": 2,
   "metadata": {},
   "outputs": [],
   "source": [
    "def W(wires):\n",
    "    qml.PauliX(wires=wires[0])\n",
    "    qml.CNOT(wires=[wires[0],wires[1]])\n",
    "    qml.PauliX(wires=wires[1])\n",
    "    qml.CRY(2*np.arccos(1/np.sqrt(3)), wires=[wires[1],wires[0]])\n",
    "    qml.PauliX(wires=wires[1])\n",
    "    qml.CNOT(wires=[wires[0],wires[1]])\n",
    "    qml.Hadamard(wires=wires[0])\n",
    "    qml.T(wires=wires[0])\n",
    "    qml.adjoint(qml.T)(wires=wires[1])\n",
    "    qml.CNOT(wires=[wires[1],wires[0]])\n",
    "    qml.adjoint(qml.T)(wires=wires[0])\n",
    "    qml.Hadamard(wires=wires[0])\n",
    "    qml.CNOT(wires=[wires[0],wires[1]])\n",
    "    qml.T(wires=wires[0])\n",
    "    qml.adjoint(qml.T)(wires=wires[1])\n",
    "    qml.CNOT(wires=[wires[0],wires[2]])\n",
    "    qml.CNOT(wires=[wires[1],wires[3]])\n",
    "    qml.Hadamard(wires=wires[0])\n",
    "    qml.CNOT(wires=[wires[0],wires[1]])\n",
    "    qml.Hadamard(wires=wires[2])\n",
    "    qml.CNOT(wires=[wires[2],wires[3]])"
   ]
  },
  {
   "attachments": {},
   "cell_type": "markdown",
   "metadata": {},
   "source": [
    "then we construct quantum circuit wich construct state of single link, in the article we use singlet states, but you can choose arbitrary states\n",
    "$$|\\mathcal{B},\\frac{1}{2}\\rangle=\\frac{1}{\\sqrt{2}}\\left(|01\\rangle-|10\\rangle\\right)$$"
   ]
  },
  {
   "cell_type": "code",
   "execution_count": 3,
   "metadata": {},
   "outputs": [],
   "source": [
    "def link(wires):\n",
    "    qml.PauliX(wires=wires[0])\n",
    "    qml.PauliX(wires=wires[1])\n",
    "    qml.Hadamard(wires=wires[0])\n",
    "    qml.CNOT(wires=[wires[0], wires[1]])"
   ]
  },
  {
   "cell_type": "markdown",
   "metadata": {},
   "source": [
    "## Dipole"
   ]
  },
  {
   "attachments": {},
   "cell_type": "markdown",
   "metadata": {},
   "source": [
    "Here we construct dipole state using four links:\n",
    "\n",
    "$$|\\Gamma_2,\\mathcal{B},\\frac{1}{2}\\rangle=P_\\Gamma\\otimes_{l\\in\\Gamma_2}|\\mathcal{B},\\frac{1}{2}\\rangle=\\frac{1}{\\sqrt{2}}\\left(|\\iota_0\\iota_0\\rangle+|\\iota_1\\iota_1\\rangle\\right)$$\n",
    "\n",
    "we need 8 qubits"
   ]
  },
  {
   "cell_type": "code",
   "execution_count": 13,
   "metadata": {},
   "outputs": [],
   "source": [
    "dev8 = qml.device('lightning.qubit', wires=8) # we use simulator 'lightning.qubit', you can choose for example 'default.qubit'\n",
    "# dev8 = qml.device('lightning.qubit', wires=8, shots=20000) # you can also add 'shots=' and then obtain results with statistical noise simulated"
   ]
  },
  {
   "cell_type": "markdown",
   "metadata": {},
   "source": [
    "then we construct circuit Fig.9"
   ]
  },
  {
   "cell_type": "code",
   "execution_count": 8,
   "metadata": {},
   "outputs": [],
   "source": [
    "# @qml.qnode(dev8, diff_method=\"parameter-shift\") # you can add 'diff_method=', or choose other, to use comaptible with real quantum devices methods\n",
    "@qml.qnode(dev8)\n",
    "def cost_circ(initial_layer_weights, weights):\n",
    "    link([0,4])\n",
    "    link([1,5])\n",
    "    link([2,6])\n",
    "    link([3,7])\n",
    "\n",
    "    qml.adjoint(W)([0,1,2,3])\n",
    "    qml.adjoint(W)([4,5,6,7])\n",
    "\n",
    "    qml.SimplifiedTwoDesign(initial_layer_weights, weights, wires=[0,4])\n",
    "        \n",
    "    return qml.probs(wires=range(8))"
   ]
  },
  {
   "attachments": {},
   "cell_type": "markdown",
   "metadata": {},
   "source": [
    "Here we define function which post-selects measurements to obtain projected state"
   ]
  },
  {
   "cell_type": "code",
   "execution_count": 9,
   "metadata": {},
   "outputs": [],
   "source": [
    "def proj_probs(probs):\n",
    "    c = dict()\n",
    "    for i in range(len(probs)):\n",
    "        k=format(i,'08b')\n",
    "        if k[1:4]=='000' and k[5:8]=='000':\n",
    "            c[k[0]+k[4]] = probs[i]\n",
    "    return c['00']/np.sum(list(c.values()))"
   ]
  },
  {
   "attachments": {},
   "cell_type": "markdown",
   "metadata": {},
   "source": [
    "We define cost function, Eq. 21"
   ]
  },
  {
   "cell_type": "code",
   "execution_count": 10,
   "metadata": {},
   "outputs": [],
   "source": [
    "def cost_fn(initial_layer_weights, weights):\n",
    "    return 1-proj_probs(cost_circ(initial_layer_weights, weights))"
   ]
  },
  {
   "attachments": {},
   "cell_type": "markdown",
   "metadata": {},
   "source": [
    "We can check cost function on some random parameters.\n",
    "\n",
    "Variable ```initial_layer_weights``` needs to have shape $(N)$, where $N$ is number of qubits in anstaz, in this case $N=2$.\n",
    "\n",
    "Variable ```weights``` needs to have shape $(L,N-1,2)$, where $L$ is number of layers in ansatz, $N$ is number of qubits in anstaz, in this case $L=1$, $N=2$.\n",
    "\n",
    "For more details, see Fig. 8 and documentation of ```SimplifiedTwoDesign```."
   ]
  },
  {
   "cell_type": "code",
   "execution_count": 11,
   "metadata": {},
   "outputs": [
    {
     "data": {
      "text/plain": [
       "tensor(0.34607583, requires_grad=True)"
      ]
     },
     "execution_count": 11,
     "metadata": {},
     "output_type": "execute_result"
    }
   ],
   "source": [
    "initial_layer_weights=np.random.rand(2)*2*np.pi\n",
    "weights=np.random.rand(1,1,2)*2*np.pi\n",
    "cost_fn(initial_layer_weights, weights)"
   ]
  },
  {
   "attachments": {},
   "cell_type": "markdown",
   "metadata": {},
   "source": [
    "Then we can optimize our ansatz. We choose classical optimizer, here ```AdamOptimizer```, maximal number of iteration in optimization loop, here $100$ and converge tolerance, here $10^{-6}$. We initialize parameters randomly. At the end we plot history of cost function during minimalization."
   ]
  },
  {
   "cell_type": "code",
   "execution_count": 12,
   "metadata": {},
   "outputs": [
    {
     "name": "stdout",
     "output_type": "stream",
     "text": [
      "Iteration = 0,  Cost = 0.56165631\n",
      "Iteration = 20,  Cost = 0.05143240\n",
      "Iteration = 40,  Cost = 0.00686990\n",
      "Iteration = 60,  Cost = 0.00050189\n",
      "Iteration = 80,  Cost = 0.00010077\n"
     ]
    },
    {
     "data": {
      "text/plain": [
       "[<matplotlib.lines.Line2D at 0x7f1989756190>]"
      ]
     },
     "execution_count": 12,
     "metadata": {},
     "output_type": "execute_result"
    },
    {
     "data": {
      "image/png": "[encoded data removed]",
      "text/plain": [
       "<Figure size 432x288 with 1 Axes>"
      ]
     },
     "metadata": {
      "needs_background": "light"
     },
     "output_type": "display_data"
    }
   ],
   "source": [
    "opt = qml.AdamOptimizer(stepsize=0.1)\n",
    "\n",
    "max_iterations = 100\n",
    "conv_tol = 1e-06\n",
    "\n",
    "init_params = [np.random.rand(2)*2*np.pi, np.random.rand(1,1,2)*2*np.pi]\n",
    "\n",
    "params = init_params\n",
    "\n",
    "cost = 0\n",
    "\n",
    "costs=[]\n",
    "paramses = []\n",
    "paramses.append(params)\n",
    "\n",
    "\n",
    "for n in range(max_iterations):\n",
    "    params, prev_cost = opt.step_and_cost(cost_fn, *params)\n",
    "    conv = np.abs(cost - prev_cost)\n",
    "    cost=prev_cost\n",
    "    costs.append(cost)\n",
    "    paramses.append(params)\n",
    "    \n",
    "    if n % 20 == 0:\n",
    "        print('Iteration = {:},  Cost = {:.8f}'.format(n, cost))\n",
    "\n",
    "    if conv <= conv_tol:\n",
    "        break\n",
    "    \n",
    "plt.rcParams['figure.figsize'] = [10,5]\n",
    "\n",
    "plt.plot(costs)"
   ]
  },
  {
   "attachments": {},
   "cell_type": "markdown",
   "metadata": {},
   "source": [
    "We can now compute fidelity of obtained state. We execute ansatz with optimized parameters and check if it reproduces dipole state:"
   ]
  },
  {
   "cell_type": "code",
   "execution_count": 13,
   "metadata": {},
   "outputs": [],
   "source": [
    "def fidelity_dipole(params):\n",
    "    @qml.qnode(qml.device('lightning.qubit', wires=2))\n",
    "    def dipole(optimized_params):\n",
    "        qml.adjoint(qml.SimplifiedTwoDesign)(optimized_params[0], optimized_params[1],wires=[0,1])\n",
    "        return qml.state()\n",
    "\n",
    "    dipole_exact = [1/np.sqrt(2),0,0,1/np.sqrt(2)]\n",
    "\n",
    "    return np.abs(np.dot(dipole(params), dipole_exact))"
   ]
  },
  {
   "cell_type": "code",
   "execution_count": 14,
   "metadata": {},
   "outputs": [],
   "source": [
    "dipole_params = params"
   ]
  },
  {
   "cell_type": "code",
   "execution_count": 15,
   "metadata": {},
   "outputs": [
    {
     "data": {
      "text/plain": [
       "0.999989682777915"
      ]
     },
     "execution_count": 15,
     "metadata": {},
     "output_type": "execute_result"
    }
   ],
   "source": [
    "fidelity_dipole(dipole_params)"
   ]
  },
  {
   "attachments": {},
   "cell_type": "markdown",
   "metadata": {},
   "source": [
    "In similar way we can construct states for larger spin netorks. But construction starting from single links is not the most optimal one. Therefore, we show construction by gluing spin networks."
   ]
  },
  {
   "cell_type": "markdown",
   "metadata": {},
   "source": [
    "## Single node with free links"
   ]
  },
  {
   "attachments": {},
   "cell_type": "markdown",
   "metadata": {},
   "source": [
    "First, we need to prepare state of sningle node with four free links. We construct circuit, Fig. 19. It can be also seen as open dipole."
   ]
  },
  {
   "cell_type": "code",
   "execution_count": 14,
   "metadata": {},
   "outputs": [],
   "source": [
    "@qml.qnode(dev8)\n",
    "def cost_circ(initial_layer_weights, weights):\n",
    "    link([0,4])\n",
    "    link([1,5])\n",
    "    link([2,6])\n",
    "    link([3,7])\n",
    "\n",
    "    qml.adjoint(W)([0,1,2,3])\n",
    "\n",
    "    qml.SimplifiedTwoDesign(initial_layer_weights, weights, wires=[0,4,5,6,7])\n",
    "        \n",
    "    return qml.probs(wires=range(8))"
   ]
  },
  {
   "cell_type": "code",
   "execution_count": 15,
   "metadata": {},
   "outputs": [],
   "source": [
    "def proj_probs(probs):\n",
    "    c = dict()\n",
    "    for i in range(len(probs)):\n",
    "        k=format(i,'08b')\n",
    "        if k[1:4]=='000':\n",
    "            c[k[0]+k[4:]] = probs[i]\n",
    "    return c['00000']/np.sum(list(c.values()))"
   ]
  },
  {
   "cell_type": "code",
   "execution_count": 16,
   "metadata": {},
   "outputs": [],
   "source": [
    "def cost_fn(initial_layer_weights, weights):\n",
    "    return 1-proj_probs(cost_circ(initial_layer_weights, weights))"
   ]
  },
  {
   "cell_type": "code",
   "execution_count": 17,
   "metadata": {},
   "outputs": [
    {
     "name": "stdout",
     "output_type": "stream",
     "text": [
      "Iteration = 0,  Cost = 0.96597145\n",
      "Iteration = 20,  Cost = 0.14820930\n",
      "Iteration = 40,  Cost = 0.02151843\n",
      "Iteration = 60,  Cost = 0.00286865\n",
      "Iteration = 80,  Cost = 0.00021646\n"
     ]
    },
    {
     "data": {
      "text/plain": [
       "[<matplotlib.lines.Line2D at 0x7efbbd171420>]"
      ]
     },
     "execution_count": 17,
     "metadata": {},
     "output_type": "execute_result"
    },
    {
     "data": {
      "image/png": "[encoded data removed]",
      "text/plain": [
       "<Figure size 1000x500 with 1 Axes>"
      ]
     },
     "metadata": {},
     "output_type": "display_data"
    }
   ],
   "source": [
    "opt = qml.AdamOptimizer(stepsize=0.1)\n",
    "\n",
    "max_iterations = 100\n",
    "conv_tol = 1e-06\n",
    "\n",
    "init_params = [np.random.rand(5)*2*np.pi, np.random.rand(4,4,2)*2*np.pi]\n",
    "\n",
    "params = init_params\n",
    "\n",
    "cost = 0\n",
    "\n",
    "costs=[]\n",
    "paramses = []\n",
    "paramses.append(params)\n",
    "\n",
    "\n",
    "for n in range(max_iterations):\n",
    "    params, prev_cost = opt.step_and_cost(cost_fn, *params)\n",
    "    conv = np.abs(cost - prev_cost)\n",
    "    cost=prev_cost\n",
    "    costs.append(cost)\n",
    "    paramses.append(params)\n",
    "    \n",
    "    if n % 20 == 0:\n",
    "        print('Iteration = {:},  Cost = {:.8f}'.format(n, cost))\n",
    "\n",
    "    if conv <= conv_tol:\n",
    "        break\n",
    "    \n",
    "plt.rcParams['figure.figsize'] = [10,5]\n",
    "\n",
    "plt.plot(costs)"
   ]
  },
  {
   "cell_type": "code",
   "execution_count": 18,
   "metadata": {},
   "outputs": [],
   "source": [
    "def fidelity_node(params):\n",
    "    @qml.qnode(qml.device('default.qubit', wires=5))\n",
    "    def node(optimized_params):\n",
    "        qml.adjoint(qml.SimplifiedTwoDesign)(optimized_params[0], optimized_params[1],wires=range(5))\n",
    "        return qml.state()\n",
    "\n",
    "    node_exact = [ 0.        ,  0.        ,  0.        ,  0.        ,  0.        ,\n",
    "        0.35355339, -0.35355339,  0.        ,  0.        , -0.35355339,\n",
    "        0.35355339,  0.        ,  0.        ,  0.        ,  0.        ,\n",
    "        0.        ,  0.        ,  0.        ,  0.        ,  0.40824829,\n",
    "        0.        , -0.20412414, -0.20412414,  0.        ,  0.        ,\n",
    "       -0.20412414, -0.20412414,  0.        ,  0.40824829,  0.        ,\n",
    "        0.        ,  0.        ]\n",
    "\n",
    "    return np.abs(np.dot(node(params), node_exact))"
   ]
  },
  {
   "cell_type": "code",
   "execution_count": 19,
   "metadata": {},
   "outputs": [],
   "source": [
    "node_params = params"
   ]
  },
  {
   "cell_type": "code",
   "execution_count": 20,
   "metadata": {},
   "outputs": [
    {
     "data": {
      "text/plain": [
       "0.9999338690049115"
      ]
     },
     "execution_count": 20,
     "metadata": {},
     "output_type": "execute_result"
    }
   ],
   "source": [
    "fidelity_node(node_params)"
   ]
  },
  {
   "cell_type": "markdown",
   "metadata": {},
   "source": [
    "## Pentagram"
   ]
  },
  {
   "cell_type": "code",
   "execution_count": 21,
   "metadata": {},
   "outputs": [],
   "source": [
    "dev17 = qml.device('lightning.qubit', wires=17)"
   ]
  },
  {
   "cell_type": "code",
   "execution_count": 22,
   "metadata": {},
   "outputs": [],
   "source": [
    "pentagram_links = [[2,6],[3,10],[4,14],[7,11],[8,15],[12,16]]"
   ]
  },
  {
   "cell_type": "code",
   "execution_count": 23,
   "metadata": {},
   "outputs": [],
   "source": [
    "@qml.qnode(dev17)\n",
    "def cost_circ(initial_layer_weights, weights):\n",
    "        \n",
    "    qml.adjoint(qml.SimplifiedTwoDesign)(node_params[0],node_params[1],wires=[0,1,5,9,13])\n",
    "\n",
    "    for l in pentagram_links:\n",
    "        link(l)\n",
    "\n",
    "    qml.adjoint(W)([1,2,3,4])\n",
    "    qml.adjoint(W)([5,6,7,8])\n",
    "    qml.adjoint(W)([9,10,11,12])\n",
    "    qml.adjoint(W)([13,14,15,16])\n",
    "\n",
    "    qml.SimplifiedTwoDesign(initial_layer_weights, weights, wires=[0,1,5,9,13])\n",
    "        \n",
    "    return qml.probs(wires=range(17))"
   ]
  },
  {
   "cell_type": "code",
   "execution_count": 24,
   "metadata": {},
   "outputs": [],
   "source": [
    "def proj_probs(probs):\n",
    "    c = dict()\n",
    "    for i in range(len(probs)):\n",
    "        k=format(i,'017b')\n",
    "        if k[2:5]=='000' and k[6:9]=='000' and k[10:13]=='000' and k[14:17]=='000':\n",
    "            c[k[0]+k[1]+k[5]+k[9]+k[13]] = probs[i]\n",
    "    if np.sum(list(c.values()))==0:\n",
    "        return 0\n",
    "    else:\n",
    "        return c['00000']/np.sum(list(c.values()))"
   ]
  },
  {
   "cell_type": "code",
   "execution_count": 25,
   "metadata": {},
   "outputs": [],
   "source": [
    "def cost_fn(initial_layer_weights, weights):\n",
    "    return 1-proj_probs(cost_circ(initial_layer_weights, weights))"
   ]
  },
  {
   "cell_type": "code",
   "execution_count": 26,
   "metadata": {},
   "outputs": [
    {
     "name": "stdout",
     "output_type": "stream",
     "text": [
      "Iteration = 0,  Cost = 0.98942392\n",
      "Iteration = 20,  Cost = 0.11311338\n",
      "Iteration = 40,  Cost = 0.01603401\n"
     ]
    },
    {
     "data": {
      "text/plain": [
       "[<matplotlib.lines.Line2D at 0x7efbbcdf4460>]"
      ]
     },
     "execution_count": 26,
     "metadata": {},
     "output_type": "execute_result"
    },
    {
     "data": {
      "image/png": "[encoded data removed]",
      "text/plain": [
       "<Figure size 1000x500 with 1 Axes>"
      ]
     },
     "metadata": {},
     "output_type": "display_data"
    }
   ],
   "source": [
    "opt = qml.AdamOptimizer(stepsize=0.1)\n",
    "\n",
    "max_iterations = 100\n",
    "conv_tol = 1e-06\n",
    "\n",
    "init_params = [np.random.rand(5)*2*np.pi, np.random.rand(4,4,2)*2*np.pi]\n",
    "params = init_params\n",
    "\n",
    "\n",
    "cost = 0\n",
    "\n",
    "costs=[]\n",
    "paramses = []\n",
    "paramses.append(params)\n",
    "\n",
    "for n in range(max_iterations):\n",
    "    params, prev_cost = opt.step_and_cost(cost_fn, *params)\n",
    "    conv = np.abs(cost - prev_cost)\n",
    "    cost=prev_cost\n",
    "    costs.append(cost)\n",
    "    paramses.append(params)\n",
    "    \n",
    "    if conv <= conv_tol:\n",
    "        break\n",
    "\n",
    "    if n % 20 == 0:\n",
    "        print('Iteration = {:},  Cost = {:.8f}'.format(n, cost))\n",
    "\n",
    "plt.rcParams['figure.figsize'] = [10,5]\n",
    "\n",
    "plt.plot(costs)"
   ]
  },
  {
   "cell_type": "code",
   "execution_count": 27,
   "metadata": {},
   "outputs": [],
   "source": [
    "def fidelity_pentagram(params):\n",
    "    @qml.qnode(qml.device('default.qubit', wires=5))\n",
    "    def pentagram(optimized_params):\n",
    "        qml.adjoint(qml.SimplifiedTwoDesign)(optimized_params[0], optimized_params[1],wires=[0,1,2,3,4])\n",
    "        return qml.state()\n",
    "\n",
    "    pentagram_exact = 1/np.sqrt(14)*np.array([3/2,0,0,3/2,0,0,0,0,0,0,0,0,0,-np.sqrt(3)/2,-np.sqrt(3)/2,1,0,0,0,0,0,-np.sqrt(3)/2,-np.sqrt(3)/2,-1,3/2,0,0,-1/2,0,-1,1,0])\n",
    "\n",
    "    return np.abs(np.dot(pentagram(params), pentagram_exact))"
   ]
  },
  {
   "cell_type": "code",
   "execution_count": 28,
   "metadata": {},
   "outputs": [],
   "source": [
    "pentagram_params = params"
   ]
  },
  {
   "cell_type": "code",
   "execution_count": 29,
   "metadata": {},
   "outputs": [
    {
     "data": {
      "text/plain": [
       "0.9989885149164583"
      ]
     },
     "execution_count": 29,
     "metadata": {},
     "output_type": "execute_result"
    }
   ],
   "source": [
    "fidelity_pentagram(pentagram_params)"
   ]
  },
  {
   "attachments": {},
   "cell_type": "markdown",
   "metadata": {},
   "source": [
    "## Open pentagram, i.e. 4-node network with four open links"
   ]
  },
  {
   "attachments": {},
   "cell_type": "markdown",
   "metadata": {},
   "source": [
    "Similarly we prepare open pentagram by ommiting one of $W^\\dagger$."
   ]
  },
  {
   "cell_type": "code",
   "execution_count": 40,
   "metadata": {},
   "outputs": [],
   "source": [
    "dev20 = qml.device('default.qubit', wires=20)"
   ]
  },
  {
   "cell_type": "code",
   "execution_count": 41,
   "metadata": {},
   "outputs": [],
   "source": [
    "pentagram_links = [[0,4],[1,8],[2,12],[3,16],[5,9],[6,13],[7,17],[10,14],[11,18],[15,19]]"
   ]
  },
  {
   "cell_type": "code",
   "execution_count": 42,
   "metadata": {},
   "outputs": [],
   "source": [
    "@qml.qnode(dev20)\n",
    "def cost_circ(initial_layer_weights, weights):\n",
    "    for l in pentagram_links:\n",
    "        link(l)\n",
    "\n",
    "    qml.adjoint(W)([0,1,2,3])\n",
    "    qml.adjoint(W)([4,5,6,7])\n",
    "    qml.adjoint(W)([8,9,10,11])\n",
    "    qml.adjoint(W)([12,13,14,15])\n",
    "\n",
    "    qml.SimplifiedTwoDesign(initial_layer_weights, weights, wires=[0,4,8,12,16,17,18,19])\n",
    "        \n",
    "    return qml.probs(wires=range(20))"
   ]
  },
  {
   "cell_type": "code",
   "execution_count": 43,
   "metadata": {},
   "outputs": [],
   "source": [
    "def proj_probs(probs):\n",
    "    c = dict()\n",
    "    for i in range(len(probs)):\n",
    "        k=format(i,'020b')\n",
    "        if k[1:4]=='000' and k[5:8]=='000' and k[9:12]=='000' and k[13:16]=='000':\n",
    "            c[k[0]+k[4]+k[8]+k[12]+k[16:]] = probs[i]\n",
    "    if np.sum(list(c.values()))==0:\n",
    "        return 0\n",
    "    else:\n",
    "        return c['00000000']/np.sum(list(c.values()))"
   ]
  },
  {
   "cell_type": "code",
   "execution_count": 44,
   "metadata": {},
   "outputs": [],
   "source": [
    "def cost_fn(initial_layer_weights, weights):\n",
    "    return 1-proj_probs(cost_circ(initial_layer_weights, weights))"
   ]
  },
  {
   "cell_type": "code",
   "execution_count": 45,
   "metadata": {},
   "outputs": [
    {
     "name": "stdout",
     "output_type": "stream",
     "text": [
      "Iteration = 0,  Cost = 0.99340092\n",
      "Iteration = 20,  Cost = 0.33364838\n",
      "Iteration = 40,  Cost = 0.17403134\n",
      "Iteration = 60,  Cost = 0.08272770\n",
      "Iteration = 80,  Cost = 0.07204587\n"
     ]
    },
    {
     "data": {
      "text/plain": [
       "[<matplotlib.lines.Line2D at 0x7efbba5b6500>]"
      ]
     },
     "execution_count": 45,
     "metadata": {},
     "output_type": "execute_result"
    },
    {
     "data": {
      "image/png": "[encoded data removed]",
      "text/plain": [
       "<Figure size 1000x500 with 1 Axes>"
      ]
     },
     "metadata": {},
     "output_type": "display_data"
    }
   ],
   "source": [
    "opt = qml.AdamOptimizer(stepsize=0.1)\n",
    "\n",
    "max_iterations = 100\n",
    "conv_tol = 1e-06\n",
    "\n",
    "init_params = [np.random.rand(8)*2*np.pi, np.random.rand(5,7,2)*2*np.pi]\n",
    "\n",
    "params = init_params\n",
    "\n",
    "cost = 0\n",
    "\n",
    "costs=[]\n",
    "paramses = []\n",
    "paramses.append(params)\n",
    "\n",
    "\n",
    "for n in range(max_iterations):\n",
    "    params, prev_cost = opt.step_and_cost(cost_fn, *params)\n",
    "    conv = np.abs(cost - prev_cost)\n",
    "    cost=prev_cost\n",
    "    costs.append(cost)\n",
    "    paramses.append(params)\n",
    "    \n",
    "    if n % 20 == 0:\n",
    "        print('Iteration = {:},  Cost = {:.8f}'.format(n, cost))\n",
    "\n",
    "    if conv <= conv_tol:\n",
    "        break\n",
    "    \n",
    "plt.rcParams['figure.figsize'] = [10,5]\n",
    "\n",
    "plt.plot(costs)"
   ]
  },
  {
   "cell_type": "code",
   "execution_count": 46,
   "metadata": {},
   "outputs": [],
   "source": [
    "open_pentagram_params = params"
   ]
  },
  {
   "cell_type": "code",
   "execution_count": 47,
   "metadata": {},
   "outputs": [],
   "source": [
    "def fidelity_open_pentagram(params):\n",
    "    @qml.qnode(qml.device('default.qubit', wires=8))\n",
    "    def open_pentagram(optimized_params):\n",
    "        qml.adjoint(qml.SimplifiedTwoDesign)(optimized_params[0], optimized_params[1],wires=range(8))\n",
    "        return qml.state()\n",
    "\n",
    "    open_pentagram_exact = np.array([ 0.00000000e+00,  0.00000000e+00,  0.00000000e+00,  0.00000000e+00,\n",
    "        0.00000000e+00,  2.00445933e-01, -2.00445933e-01,  0.00000000e+00,\n",
    "        0.00000000e+00, -2.00445933e-01,  2.00445933e-01,  0.00000000e+00,\n",
    "        0.00000000e+00,  0.00000000e+00,  0.00000000e+00,  0.00000000e+00,\n",
    "        0.00000000e+00,  0.00000000e+00,  0.00000000e+00,  2.31455027e-01,\n",
    "        0.00000000e+00, -1.15727512e-01, -1.15727512e-01,  0.00000000e+00,\n",
    "        0.00000000e+00, -1.15727512e-01, -1.15727512e-01,  0.00000000e+00,\n",
    "        2.31455027e-01,  0.00000000e+00,  0.00000000e+00,  0.00000000e+00,\n",
    "        0.00000000e+00,  0.00000000e+00,  0.00000000e+00,  0.00000000e+00,\n",
    "        0.00000000e+00,  3.44270058e-18,  3.44270058e-18,  0.00000000e+00,\n",
    "        0.00000000e+00, -3.44270058e-18, -3.44270058e-18,  0.00000000e+00,\n",
    "        0.00000000e+00,  0.00000000e+00,  0.00000000e+00,  0.00000000e+00,\n",
    "        0.00000000e+00,  0.00000000e+00,  0.00000000e+00,  2.08693648e-18,\n",
    "        0.00000000e+00,  1.83706729e-19, -1.83706729e-19,  0.00000000e+00,\n",
    "        0.00000000e+00,  1.83706729e-19, -1.83706729e-19,  0.00000000e+00,\n",
    "       -2.08693648e-18,  0.00000000e+00,  0.00000000e+00,  0.00000000e+00,\n",
    "        0.00000000e+00,  0.00000000e+00,  0.00000000e+00,  0.00000000e+00,\n",
    "        0.00000000e+00,  3.44270058e-18, -3.44270058e-18,  0.00000000e+00,\n",
    "        0.00000000e+00,  3.44270058e-18, -3.44270058e-18,  0.00000000e+00,\n",
    "        0.00000000e+00,  0.00000000e+00,  0.00000000e+00,  0.00000000e+00,\n",
    "        0.00000000e+00,  0.00000000e+00,  0.00000000e+00,  3.70899527e-18,\n",
    "        0.00000000e+00,  1.85449789e-18,  1.85449789e-18,  0.00000000e+00,\n",
    "        0.00000000e+00, -1.85449789e-18, -1.85449789e-18,  0.00000000e+00,\n",
    "       -3.70899527e-18,  0.00000000e+00,  0.00000000e+00,  0.00000000e+00,\n",
    "        0.00000000e+00,  0.00000000e+00,  0.00000000e+00, -1.33630622e-01,\n",
    "        0.00000000e+00,  6.68153089e-02,  6.68153089e-02,  0.00000000e+00,\n",
    "        0.00000000e+00,  6.68153089e-02,  6.68153089e-02,  0.00000000e+00,\n",
    "       -1.33630622e-01,  0.00000000e+00,  0.00000000e+00,  0.00000000e+00,\n",
    "        0.00000000e+00,  0.00000000e+00,  0.00000000e+00,  1.54303348e-01,\n",
    "        0.00000000e+00, -1.92879188e-01,  3.85758360e-02,  0.00000000e+00,\n",
    "        0.00000000e+00,  3.85758360e-02, -1.92879188e-01,  0.00000000e+00,\n",
    "        1.54303348e-01,  0.00000000e+00,  0.00000000e+00,  0.00000000e+00,\n",
    "        0.00000000e+00,  0.00000000e+00,  0.00000000e+00,  0.00000000e+00,\n",
    "        0.00000000e+00,  3.44270058e-18, -3.44270058e-18,  0.00000000e+00,\n",
    "        0.00000000e+00,  3.44270058e-18, -3.44270058e-18,  0.00000000e+00,\n",
    "        0.00000000e+00,  0.00000000e+00,  0.00000000e+00,  0.00000000e+00,\n",
    "        0.00000000e+00,  0.00000000e+00,  0.00000000e+00, -2.08693648e-18,\n",
    "        0.00000000e+00,  1.83706729e-19,  1.83706729e-19,  0.00000000e+00,\n",
    "        0.00000000e+00, -1.83706729e-19, -1.83706729e-19,  0.00000000e+00,\n",
    "        2.08693648e-18,  0.00000000e+00,  0.00000000e+00,  0.00000000e+00,\n",
    "        0.00000000e+00,  0.00000000e+00,  0.00000000e+00, -1.33630622e-01,\n",
    "        0.00000000e+00,  6.68153089e-02,  6.68153089e-02,  0.00000000e+00,\n",
    "        0.00000000e+00,  6.68153089e-02,  6.68153089e-02,  0.00000000e+00,\n",
    "       -1.33630622e-01,  0.00000000e+00,  0.00000000e+00,  0.00000000e+00,\n",
    "        0.00000000e+00,  0.00000000e+00,  0.00000000e+00, -1.54303348e-01,\n",
    "        0.00000000e+00, -3.85758360e-02,  1.92879188e-01,  0.00000000e+00,\n",
    "        0.00000000e+00,  1.92879188e-01, -3.85758360e-02,  0.00000000e+00,\n",
    "       -1.54303348e-01,  0.00000000e+00,  0.00000000e+00,  0.00000000e+00,\n",
    "        0.00000000e+00,  0.00000000e+00,  0.00000000e+00,  0.00000000e+00,\n",
    "        0.00000000e+00,  2.00445931e-01, -2.00445931e-01,  0.00000000e+00,\n",
    "        0.00000000e+00, -2.00445931e-01,  2.00445931e-01,  0.00000000e+00,\n",
    "        0.00000000e+00,  0.00000000e+00,  0.00000000e+00,  0.00000000e+00,\n",
    "        0.00000000e+00,  0.00000000e+00,  0.00000000e+00, -7.71516733e-02,\n",
    "        0.00000000e+00,  3.85758387e-02,  3.85758387e-02,  0.00000000e+00,\n",
    "        0.00000000e+00,  3.85758387e-02,  3.85758387e-02,  0.00000000e+00,\n",
    "       -7.71516733e-02,  0.00000000e+00,  0.00000000e+00,  0.00000000e+00,\n",
    "        0.00000000e+00,  0.00000000e+00,  0.00000000e+00, -1.54303349e-01,\n",
    "        0.00000000e+00,  7.71516746e-02,  7.71516746e-02,  0.00000000e+00,\n",
    "        0.00000000e+00,  7.71516746e-02,  7.71516746e-02,  0.00000000e+00,\n",
    "       -1.54303349e-01,  0.00000000e+00,  0.00000000e+00,  0.00000000e+00,\n",
    "        0.00000000e+00,  0.00000000e+00,  0.00000000e+00,  8.56420681e-18,\n",
    "        0.00000000e+00,  1.33630620e-01, -1.33630620e-01,  0.00000000e+00,\n",
    "        0.00000000e+00, -1.33630620e-01,  1.33630620e-01,  0.00000000e+00,\n",
    "        8.76428875e-18,  0.00000000e+00,  0.00000000e+00,  0.00000000e+00])\n",
    "    \n",
    "    return np.abs(np.dot(open_pentagram(params), open_pentagram_exact))"
   ]
  },
  {
   "cell_type": "code",
   "execution_count": 48,
   "metadata": {},
   "outputs": [
    {
     "data": {
      "text/plain": [
       "0.9681320441392288"
      ]
     },
     "execution_count": 48,
     "metadata": {},
     "output_type": "execute_result"
    }
   ],
   "source": [
    "fidelity_open_pentagram(open_pentagram_params)"
   ]
  },
  {
   "attachments": {},
   "cell_type": "markdown",
   "metadata": {},
   "source": [
    "## Gluing two open pentagrams into decagram network"
   ]
  },
  {
   "attachments": {},
   "cell_type": "markdown",
   "metadata": {},
   "source": [
    "To glue two open pentagrams we need to use ansatz for open pentagram with optimized parameters."
   ]
  },
  {
   "cell_type": "markdown",
   "metadata": {},
   "source": [
    "We construct circuit, Fig. 17"
   ]
  },
  {
   "cell_type": "code",
   "execution_count": 52,
   "metadata": {},
   "outputs": [],
   "source": [
    "dev16 = qml.device('lightning.qubit', wires=16)"
   ]
  },
  {
   "cell_type": "code",
   "execution_count": 53,
   "metadata": {},
   "outputs": [],
   "source": [
    "@qml.qnode(dev16)\n",
    "def cost_circ(initial_layer_weights, weights):\n",
    "    qml.adjoint(qml.SimplifiedTwoDesign)(open_pentagram_params[0], open_pentagram_params[1], wires=range(8))\n",
    "    qml.adjoint(qml.SimplifiedTwoDesign)(open_pentagram_params[0], open_pentagram_params[1],wires=range(8,16))\n",
    "\n",
    "    qml.adjoint(W)([4,5,12,13])\n",
    "    qml.adjoint(W)([6,7,14,15])\n",
    "\n",
    "    qml.SimplifiedTwoDesign(initial_layer_weights, weights, wires=[0,1,2,3,4,6,8,9,10,11])\n",
    "        \n",
    "    return qml.probs(wires=range(16))"
   ]
  },
  {
   "cell_type": "code",
   "execution_count": 54,
   "metadata": {},
   "outputs": [],
   "source": [
    "def proj_probs(probs):\n",
    "    c = dict()\n",
    "    for i in range(len(probs)):\n",
    "        k=format(i,'016b')\n",
    "        if (k[5]+k[12]+k[13])=='000' and (k[7]+k[14]+k[15])=='000':\n",
    "            c[k[0:5]+k[6]+k[8]+k[9:12]] = probs[i]\n",
    "    if np.sum(list(c.values()))==0:\n",
    "        return 0\n",
    "    else:\n",
    "        return c[10*'0']/np.sum(list(c.values()))"
   ]
  },
  {
   "cell_type": "code",
   "execution_count": 55,
   "metadata": {},
   "outputs": [],
   "source": [
    "def proj_probs(probs):\n",
    "    c = dict()\n",
    "    for i in range(len(probs)):\n",
    "        k=format(i,'016b')\n",
    "        if (k[5]+k[12]+k[13])=='000' and (k[7]+k[14]+k[15])=='000':\n",
    "            c[k[0:5]+k[6]+k[8]+k[9:12]] = probs[i]\n",
    "    return c[10*'0']/np.sum(list(c.values()))"
   ]
  },
  {
   "cell_type": "code",
   "execution_count": 56,
   "metadata": {},
   "outputs": [],
   "source": [
    "def cost_fn(initial_layer_weights, weights):\n",
    "    return 1-proj_probs(cost_circ(initial_layer_weights, weights))"
   ]
  },
  {
   "cell_type": "code",
   "execution_count": 57,
   "metadata": {},
   "outputs": [
    {
     "data": {
      "text/plain": [
       "tensor(0.99978935, requires_grad=True)"
      ]
     },
     "execution_count": 57,
     "metadata": {},
     "output_type": "execute_result"
    }
   ],
   "source": [
    "initial_layer_weights=np.random.rand(10)*2*np.pi\n",
    "weights=np.random.rand(1,9,2)*2*np.pi\n",
    "cost_fn(initial_layer_weights, weights)"
   ]
  },
  {
   "cell_type": "code",
   "execution_count": 58,
   "metadata": {},
   "outputs": [
    {
     "name": "stdout",
     "output_type": "stream",
     "text": [
      "Iteration = 0,  Cost = 0.99986771\n",
      "Iteration = 20,  Cost = 0.09786560\n",
      "Iteration = 40,  Cost = 0.07411106\n",
      "Iteration = 60,  Cost = 0.06584264\n",
      "Iteration = 80,  Cost = 0.04476735\n"
     ]
    },
    {
     "data": {
      "text/plain": [
       "[<matplotlib.lines.Line2D at 0x7efbbd00fcd0>]"
      ]
     },
     "execution_count": 58,
     "metadata": {},
     "output_type": "execute_result"
    },
    {
     "data": {
      "image/png": "[encoded data removed]",
      "text/plain": [
       "<Figure size 1000x500 with 1 Axes>"
      ]
     },
     "metadata": {},
     "output_type": "display_data"
    }
   ],
   "source": [
    "opt = qml.AdamOptimizer(stepsize=0.1)\n",
    "\n",
    "max_iterations = 100\n",
    "conv_tol = 1e-06\n",
    "\n",
    "init_params = [np.random.rand(10)*2*np.pi, np.random.rand(6,9,2)*2*np.pi]\n",
    "\n",
    "params = init_params\n",
    "\n",
    "cost = 0\n",
    "\n",
    "costs=[]\n",
    "paramses = []\n",
    "paramses.append(params)\n",
    "\n",
    "\n",
    "for n in range(max_iterations):\n",
    "    params, prev_cost = opt.step_and_cost(cost_fn, *params)\n",
    "    conv = np.abs(cost - prev_cost)\n",
    "    cost=prev_cost\n",
    "    costs.append(cost)\n",
    "    paramses.append(params)\n",
    "    \n",
    "    if n % 20 == 0:\n",
    "        print('Iteration = {:},  Cost = {:.8f}'.format(n, cost))\n",
    "\n",
    "    if conv <= conv_tol:\n",
    "        break\n",
    "    \n",
    "plt.rcParams['figure.figsize'] = [10,5]\n",
    "\n",
    "plt.plot(costs)"
   ]
  },
  {
   "cell_type": "code",
   "execution_count": 61,
   "metadata": {},
   "outputs": [],
   "source": [
    "dekagram_params = params"
   ]
  },
  {
   "cell_type": "code",
   "execution_count": 64,
   "metadata": {},
   "outputs": [],
   "source": [
    "import pandas as pd # we use pandas to read csv file that contains exact dekagram state\n",
    "\n",
    "def fidelity_dekagram(params):\n",
    "    @qml.qnode(qml.device('default.qubit', wires=10))\n",
    "    def dekagram(optimized_params):\n",
    "        qml.adjoint(qml.SimplifiedTwoDesign)(optimized_params[0], optimized_params[1],wires=range(10))\n",
    "        return qml.state()\n",
    "    \n",
    "    dekagram_exact = np.zeros(2**10)\n",
    "    for row in pd.read_csv('deka.csv').to_numpy():\n",
    "        dekagram_exact[int(''.join(row[0].split(' ')),2)]=row[1]\n",
    "    dekagram_exact = dekagram_exact/np.sqrt(np.dot(dekagram_exact, dekagram_exact))\n",
    "    \n",
    "    return np.abs(np.dot(dekagram(params), dekagram_exact))"
   ]
  },
  {
   "cell_type": "code",
   "execution_count": 65,
   "metadata": {},
   "outputs": [
    {
     "data": {
      "text/plain": [
       "0.9693205865460751"
      ]
     },
     "execution_count": 65,
     "metadata": {},
     "output_type": "execute_result"
    }
   ],
   "source": [
    "fidelity_dekagram(dekagram_params)"
   ]
  },
  {
   "cell_type": "markdown",
   "metadata": {},
   "source": [
    "## Gluing two open nodes and four links into hexagram network"
   ]
  },
  {
   "cell_type": "code",
   "execution_count": 73,
   "metadata": {},
   "outputs": [],
   "source": [
    "dev18 = qml.device('lightning.qubit', wires=18)"
   ]
  },
  {
   "cell_type": "code",
   "execution_count": 74,
   "metadata": {},
   "outputs": [],
   "source": [
    "hexagram_links = [[10,14],[11,15],[12,16],[13,17]]"
   ]
  },
  {
   "cell_type": "code",
   "execution_count": 75,
   "metadata": {},
   "outputs": [],
   "source": [
    "@qml.qnode(dev18)\n",
    "def cost_circ(initial_layer_weights, weights):\n",
    "        \n",
    "    qml.adjoint(qml.SimplifiedTwoDesign)(node_params[0],node_params[1],wires=[0,1,2,3,4])\n",
    "    qml.adjoint(qml.SimplifiedTwoDesign)(node_params[0],node_params[1],wires=[5,6,7,8,9])\n",
    "\n",
    "    for l in hexagram_links:\n",
    "        link(l)\n",
    "\n",
    "    qml.adjoint(W)([1,7,10,12])\n",
    "    qml.adjoint(W)([2,6,14,13])\n",
    "    qml.adjoint(W)([3,9,11,17])\n",
    "    qml.adjoint(W)([4,8,15,16])\n",
    "\n",
    "\n",
    "    qml.SimplifiedTwoDesign(initial_layer_weights, weights, wires=[0,1,2,5,3,4])\n",
    "        \n",
    "    return qml.probs(wires=range(18))"
   ]
  },
  {
   "cell_type": "code",
   "execution_count": 76,
   "metadata": {},
   "outputs": [],
   "source": [
    "def proj_probs(probs):\n",
    "    c = dict()\n",
    "    for i in range(len(probs)):\n",
    "        k=format(i,'018b')\n",
    "        if (k[7]+k[10]+k[12])=='000' and (k[6]+k[14]+k[13])=='000' and (k[9]+k[11]+k[17])=='000' and (k[8]+k[15]+k[16])=='000':\n",
    "            c[k[0]+k[1]+k[2]+k[5]+k[3]+k[4]] = probs[i]\n",
    "    if np.sum(list(c.values()))==0:\n",
    "        return 0\n",
    "    else:\n",
    "        return c['000000']/np.sum(list(c.values()))"
   ]
  },
  {
   "cell_type": "code",
   "execution_count": 77,
   "metadata": {},
   "outputs": [],
   "source": [
    "def cost_fn(initial_layer_weights, weights):\n",
    "    return 1-proj_probs(cost_circ(initial_layer_weights, weights))"
   ]
  },
  {
   "cell_type": "code",
   "execution_count": 78,
   "metadata": {},
   "outputs": [
    {
     "name": "stdout",
     "output_type": "stream",
     "text": [
      "Iteration = 0,  Cost = 0.99999684\n",
      "Iteration = 20,  Cost = 0.30719299\n",
      "Iteration = 40,  Cost = 0.11947789\n",
      "Iteration = 60,  Cost = 0.06106249\n",
      "Iteration = 80,  Cost = 0.05202596\n"
     ]
    },
    {
     "data": {
      "text/plain": [
       "[<matplotlib.lines.Line2D at 0x7efbb83f2680>]"
      ]
     },
     "execution_count": 78,
     "metadata": {},
     "output_type": "execute_result"
    },
    {
     "data": {
      "image/png": "[encoded data removed]",
      "text/plain": [
       "<Figure size 1000x500 with 1 Axes>"
      ]
     },
     "metadata": {},
     "output_type": "display_data"
    }
   ],
   "source": [
    "opt = qml.AdamOptimizer(stepsize=0.1)\n",
    "\n",
    "max_iterations = 100\n",
    "conv_tol = 1e-06\n",
    "\n",
    "init_params = [np.random.rand(6)*2*np.pi, np.random.rand(4,5,2)*2*np.pi]\n",
    "\n",
    "params = init_params\n",
    "\n",
    "cost = 0\n",
    "\n",
    "costs=[]\n",
    "paramses = []\n",
    "paramses.append(params)\n",
    "\n",
    "\n",
    "for n in range(max_iterations):\n",
    "    params, prev_cost = opt.step_and_cost(cost_fn, *params)\n",
    "    conv = np.abs(cost - prev_cost)\n",
    "    cost=prev_cost\n",
    "    costs.append(cost)\n",
    "    paramses.append(params)\n",
    "    \n",
    "    if n % 20 == 0:\n",
    "        print('Iteration = {:},  Cost = {:.8f}'.format(n, cost))\n",
    "\n",
    "    if conv <= conv_tol:\n",
    "        break\n",
    "    \n",
    "plt.rcParams['figure.figsize'] = [10,5]\n",
    "\n",
    "plt.plot(costs)"
   ]
  },
  {
   "cell_type": "code",
   "execution_count": 79,
   "metadata": {},
   "outputs": [],
   "source": [
    "hexagram_params = params"
   ]
  },
  {
   "cell_type": "code",
   "execution_count": 80,
   "metadata": {},
   "outputs": [],
   "source": [
    "def fidelity_hexagram(params):\n",
    "    @qml.qnode(qml.device('default.qubit', wires=6))\n",
    "    def hexagram(optimized_params):\n",
    "        qml.adjoint(qml.SimplifiedTwoDesign)(optimized_params[0], optimized_params[1],wires=[0,1,2,3,4,5])\n",
    "        return qml.state()\n",
    "\n",
    "    hexagram_exact = np.array([-2.63342585e-01,  5.65370456e-19,  1.51490340e-19, -2.63342583e-01,\n",
    "        5.65370456e-19, -3.04551051e-18, -6.03377231e-20, -1.75092612e-18,\n",
    "       -1.51490340e-19,  6.03377231e-20, -1.21820390e-18,  3.22994982e-18,\n",
    "        6.03377231e-20,  1.52040910e-01,  1.52040910e-01,  1.75561720e-01,\n",
    "       -5.65370456e-19,  1.21820425e-18,  6.03377231e-20, -1.76234378e-18,\n",
    "        1.21820425e-18,  1.52040910e-01,  1.52040910e-01,  1.75561720e-01,\n",
    "       -2.63342583e-01, -2.41165196e-18, -4.53151247e-19, -2.63342580e-01,\n",
    "        1.84628143e-18,  1.75561720e-01,  1.75561720e-01,  2.02721212e-01,\n",
    "        5.65370456e-19, -3.04551051e-18, -6.03377231e-20, -1.60958351e-18,\n",
    "       -2.63342583e-01, -4.20645312e-19, -3.43688977e-18,  8.77808601e-02,\n",
    "        6.03377231e-20,  1.52040910e-01,  1.52040910e-01, -1.75561720e-01,\n",
    "       -3.87233526e-18,  1.75561720e-01, -1.75561720e-01,  3.45439101e-18,\n",
    "        1.21820425e-18,  1.52040910e-01,  1.52040910e-01, -1.75561720e-01,\n",
    "        4.20645312e-19, -1.75561720e-01,  1.75561720e-01, -2.46726461e-18,\n",
    "       -1.84628143e-18, -1.75561720e-01, -1.75561720e-01,  2.02721212e-01,\n",
    "        8.77808601e-02,  4.30589915e-18, -6.50422488e-18, -2.92602864e-02])\n",
    "    \n",
    "    return np.abs(np.dot(hexagram(params), hexagram_exact))"
   ]
  },
  {
   "cell_type": "code",
   "execution_count": 81,
   "metadata": {},
   "outputs": [
    {
     "data": {
      "text/plain": [
       "0.9761047921000883"
      ]
     },
     "execution_count": 81,
     "metadata": {},
     "output_type": "execute_result"
    }
   ],
   "source": [
    "fidelity_hexagram(hexagram_params)"
   ]
  }
 ],
 "metadata": {
  "kernelspec": {
   "display_name": "quantumcircuits",
   "language": "python",
   "name": "python3"
  },
  "language_info": {
   "codemirror_mode": {
    "name": "ipython",
    "version": 3
   },
   "file_extension": ".py",
   "mimetype": "text/x-python",
   "name": "python",
   "nbconvert_exporter": "python",
   "pygments_lexer": "ipython3",
   "version": "3.10.6"
  },
  "orig_nbformat": 4,
  "vscode": {
   "interpreter": {
    "hash": "fe576ce98fb499882f842c59cda27c51aa23a4bc63f86e9b9e6ec5c10118d911"
   }
  }
 },
 "nbformat": 4,
 "nbformat_minor": 2
}
